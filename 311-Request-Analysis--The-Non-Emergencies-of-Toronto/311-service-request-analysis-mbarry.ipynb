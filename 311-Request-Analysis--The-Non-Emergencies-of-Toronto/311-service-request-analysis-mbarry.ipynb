{
 "cells": [
  {
   "cell_type": "markdown",
   "id": "0ba04221",
   "metadata": {},
   "source": [
    "![Toronto 311 Logo](https://pbs.twimg.com/media/Cp7-NNBWAAAWy8L.jpg \"Toronto 311 Logo\")"
   ]
  },
  {
   "cell_type": "markdown",
   "id": "bff2ac1f",
   "metadata": {},
   "source": [
    "# The non-emergencies of Toronto <a name=\"TOC\"></a>\n",
    "### <i>A study of over 350,000 customer initiated 311 service requests received in 2020</i>\n",
    "<br>\n",
    "\n",
    "1. [Introduction](#introduction)\n",
    "2. [311 Service Request Exploration](#311-data)<br>\n",
    "    a) [Request Status](#status) <br>\n",
    "    b) [Request Type](#type) <br>\n",
    "    c) [Division](#division) <br>\n",
    "    d) [Section](#section) <br>\n",
    "    e) [Date & Time](#date-time) <br>\n",
    "    f) [Location: FSAs, Intersections & Wards](#location) <br>\n",
    "4. [Ward Profiles Exploration](#wards)<br>\n",
    "5. [Weather Data Exploration](#weather)<br>\n",
    "6. [Classification Modeling: 311 Request Section Prediction](#model)<br>\n",
    "7. [Conclusion](#conclusion)"
   ]
  },
  {
   "cell_type": "markdown",
   "id": "603c4b20",
   "metadata": {},
   "source": [
    "## Introduction <a name=\"introduction\"></a>\n",
    "\n",
    "The main dataset we’re using is provided by 311 Toronto (via the City of Toronto's Open Data Portal), viewable <a href=\"https://open.toronto.ca/dataset/311-service-requests-customer-initiated/\">here</a>. 311 operates 24/7 and manages City divisional service request data for Solid Waste Management, Transportation Services, Toronto Water, Municipal Licensing & Standards, and Urban Forestry. \n",
    "\n",
    "We will be using the 2020 data, which contains almost 350,000 customer initiated service requests, collected from multiple channels including telephone, fax, email, online self-serve requests, mobile API and Twitter. Note that all service requests represent 30 - 35% of all contact with 311 (and this dataset is a subset of this 30 - 35%).\n",
    "\n",
    "We will also be using <a href=\"https://open.toronto.ca/dataset/ward-profiles-2018-25-ward-model/\">Toronto Ward Profiles</a> (via Toronto's Open Data Portal, based on Statistics Canada's 2016 Census) and \n",
    "<a href=\"https://climate.weather.gc.ca/climate_data/daily_data_e.html?hlyRange=2013-06-11%7C2021-12-04&dlyRange=2013-06-13%7C2021-12-04&mlyRange=%7C&StationID=51459&Prov=ON&urlExtension=_e.html&searchType=stnProx&optLimit=specDate&Month=1&Day=1&StartYear=1840&EndYear=2016&Year=2020&selRowPerPage=25&Line=4&txtRadius=25&optProxType=navLink&txtLatDecDeg=43.666666666667&txtLongDecDeg=-79.4&timeframe=2\">Toronto weather data</a> \n",
    "(via the Government of Canada's Historical Weather Data Portal) to spice up our analysis.\n",
    "\n",
    "<b>As a long-time resident of Toronto, I have never personally contacted 311. I'm curious as to:</b>\n",
    "\n",
    "* What area of Toronto makes the most service requests, and what are they about?\n",
    "* Can we predict what a Torontonian is likely to be contacting 311 about based on their address, time of year, time of day, weather, or other factors?\n",
    "\n",
    "<b>[TLDR] To see this analysis visualized, view the Tableau exploration: \n",
    "    https://public.tableau.com/app/profile/meaghan.barry/viz/311_16389979943830/Overview </b>\n",
    "    \n",
    "<i>Note: When you see this blue arrow ( [↑](#TOC) ) click it to return to the main TOC. </i>"
   ]
  },
  {
   "cell_type": "code",
   "execution_count": 1,
   "id": "697e5cdf",
   "metadata": {},
   "outputs": [],
   "source": [
    "# import libraries \n",
    "import numpy as np\n",
    "import pandas as pd\n",
    "import statistics as st\n",
    "import seaborn as sns\n",
    "from datetime import date\n",
    "\n",
    "# import models\n",
    "from sklearn.tree import DecisionTreeClassifier\n",
    "from sklearn.svm import SVC\n",
    "from sklearn.ensemble import RandomForestClassifier\n",
    "from sklearn.model_selection import train_test_split\n",
    "from sklearn.model_selection import cross_val_score\n",
    "\n",
    "# import evaluation functions\n",
    "from sklearn.metrics import classification_report\n",
    "from sklearn.metrics import confusion_matrix\n",
    "from sklearn.metrics import precision_score, recall_score, accuracy_score\n",
    "\n",
    "# matplotlib for plotting modification\n",
    "import matplotlib.pyplot as plt\n",
    "%matplotlib inline\n",
    "\n",
    "# scikitplot to directly plot our results\n",
    "import graphviz\n",
    "import scikitplot as skplt\n",
    "from mlxtend.plotting import plot_decision_regions\n",
    "from mlxtend.plotting import category_scatter \n",
    "\n",
    "# other imports\n",
    "from sklearn import preprocessing\n",
    "from sklearn.preprocessing import LabelEncoder"
   ]
  },
  {
   "cell_type": "code",
   "execution_count": 2,
   "id": "dee7aa84",
   "metadata": {},
   "outputs": [],
   "source": [
    "# import data\n",
    "requests_2020 = pd.read_csv('SR2020.csv')\n",
    "weather_2020 = pd.read_csv('en_climate_daily_ON_6158731_2020_P1D.csv')\n",
    "ward_profiles = pd.read_csv('ward_profiles.csv')"
   ]
  },
  {
   "cell_type": "markdown",
   "id": "589495b7",
   "metadata": {},
   "source": [
    "[↑ Back to TOC](#TOC)\n",
    "## 311 Service Requests <a name=\"311-data\"></a> \n",
    "This main dataset includes almost 350,000 requests, with a variety of data to explore. "
   ]
  },
  {
   "cell_type": "code",
   "execution_count": 3,
   "id": "245d5f4c",
   "metadata": {},
   "outputs": [
    {
     "data": {
      "text/html": [
       "<div>\n",
       "<style scoped>\n",
       "    .dataframe tbody tr th:only-of-type {\n",
       "        vertical-align: middle;\n",
       "    }\n",
       "\n",
       "    .dataframe tbody tr th {\n",
       "        vertical-align: top;\n",
       "    }\n",
       "\n",
       "    .dataframe thead th {\n",
       "        text-align: right;\n",
       "    }\n",
       "</style>\n",
       "<table border=\"1\" class=\"dataframe\">\n",
       "  <thead>\n",
       "    <tr style=\"text-align: right;\">\n",
       "      <th></th>\n",
       "      <th>Creation Date</th>\n",
       "      <th>Status</th>\n",
       "      <th>First 3 Chars of Postal Code</th>\n",
       "      <th>Intersection Street 1</th>\n",
       "      <th>Intersection Street 2</th>\n",
       "      <th>Ward</th>\n",
       "      <th>Service Request Type</th>\n",
       "      <th>Division</th>\n",
       "      <th>Section</th>\n",
       "    </tr>\n",
       "  </thead>\n",
       "  <tbody>\n",
       "    <tr>\n",
       "      <th>0</th>\n",
       "      <td>2020-01-01 00:01:46.0000000</td>\n",
       "      <td>Closed</td>\n",
       "      <td>Intersection</td>\n",
       "      <td>Chaplin Cres</td>\n",
       "      <td>Davisville Ave</td>\n",
       "      <td>Toronto-St. Paul's (12)</td>\n",
       "      <td>INJUR/DIST DOMESTIC</td>\n",
       "      <td>Municipal Licensing &amp; Standards</td>\n",
       "      <td>Toronto Animal Services</td>\n",
       "    </tr>\n",
       "    <tr>\n",
       "      <th>1</th>\n",
       "      <td>2020-01-01 01:36:56.0000000</td>\n",
       "      <td>Closed</td>\n",
       "      <td>M4C</td>\n",
       "      <td>NaN</td>\n",
       "      <td>NaN</td>\n",
       "      <td>Beaches-East York (19)</td>\n",
       "      <td>Sewer Service Line-Blocked</td>\n",
       "      <td>Toronto Water</td>\n",
       "      <td>District Ops</td>\n",
       "    </tr>\n",
       "    <tr>\n",
       "      <th>2</th>\n",
       "      <td>2020-01-01 02:42:16.0000000</td>\n",
       "      <td>Closed</td>\n",
       "      <td>M9A</td>\n",
       "      <td>NaN</td>\n",
       "      <td>NaN</td>\n",
       "      <td>Etobicoke-Lakeshore (03)</td>\n",
       "      <td>ENF/INVEST MUZZLE</td>\n",
       "      <td>Municipal Licensing &amp; Standards</td>\n",
       "      <td>Toronto Animal Services</td>\n",
       "    </tr>\n",
       "    <tr>\n",
       "      <th>3</th>\n",
       "      <td>2020-01-01 02:52:29.0000000</td>\n",
       "      <td>Closed</td>\n",
       "      <td>M6C</td>\n",
       "      <td>NaN</td>\n",
       "      <td>NaN</td>\n",
       "      <td>Toronto-St. Paul's (12)</td>\n",
       "      <td>Hydrant-Damage</td>\n",
       "      <td>Toronto Water</td>\n",
       "      <td>District Ops</td>\n",
       "    </tr>\n",
       "    <tr>\n",
       "      <th>4</th>\n",
       "      <td>2020-01-01 02:56:34.0000000</td>\n",
       "      <td>Closed</td>\n",
       "      <td>Intersection</td>\n",
       "      <td>Don Mills Rd</td>\n",
       "      <td>Sheppard Ave E</td>\n",
       "      <td>Don Valley North (17)</td>\n",
       "      <td>Traffic Signal Maintenance</td>\n",
       "      <td>Transportation Services</td>\n",
       "      <td>TMC</td>\n",
       "    </tr>\n",
       "  </tbody>\n",
       "</table>\n",
       "</div>"
      ],
      "text/plain": [
       "                 Creation Date  Status First 3 Chars of Postal Code  \\\n",
       "0  2020-01-01 00:01:46.0000000  Closed                 Intersection   \n",
       "1  2020-01-01 01:36:56.0000000  Closed                          M4C   \n",
       "2  2020-01-01 02:42:16.0000000  Closed                          M9A   \n",
       "3  2020-01-01 02:52:29.0000000  Closed                          M6C   \n",
       "4  2020-01-01 02:56:34.0000000  Closed                 Intersection   \n",
       "\n",
       "  Intersection Street 1 Intersection Street 2                      Ward  \\\n",
       "0          Chaplin Cres        Davisville Ave   Toronto-St. Paul's (12)   \n",
       "1                   NaN                   NaN    Beaches-East York (19)   \n",
       "2                   NaN                   NaN  Etobicoke-Lakeshore (03)   \n",
       "3                   NaN                   NaN   Toronto-St. Paul's (12)   \n",
       "4          Don Mills Rd        Sheppard Ave E     Don Valley North (17)   \n",
       "\n",
       "         Service Request Type                         Division  \\\n",
       "0         INJUR/DIST DOMESTIC  Municipal Licensing & Standards   \n",
       "1  Sewer Service Line-Blocked                    Toronto Water   \n",
       "2           ENF/INVEST MUZZLE  Municipal Licensing & Standards   \n",
       "3              Hydrant-Damage                    Toronto Water   \n",
       "4  Traffic Signal Maintenance          Transportation Services   \n",
       "\n",
       "                   Section  \n",
       "0  Toronto Animal Services  \n",
       "1             District Ops  \n",
       "2  Toronto Animal Services  \n",
       "3             District Ops  \n",
       "4                      TMC  "
      ]
     },
     "execution_count": 3,
     "metadata": {},
     "output_type": "execute_result"
    }
   ],
   "source": [
    "requests_2020.head()"
   ]
  },
  {
   "cell_type": "code",
   "execution_count": 4,
   "id": "c7eb9157",
   "metadata": {},
   "outputs": [
    {
     "data": {
      "text/plain": [
       "347748"
      ]
     },
     "execution_count": 4,
     "metadata": {},
     "output_type": "execute_result"
    }
   ],
   "source": [
    "total_requests_2020 = requests_2020.shape[0]\n",
    "total_requests_2020"
   ]
  },
  {
   "cell_type": "markdown",
   "id": "c9cd0733",
   "metadata": {},
   "source": [
    "### [↑](#TOC) Request Status <a name=\"status\"></a> \n",
    "Statuses are as of midnight, Dec 31st, 2020."
   ]
  },
  {
   "cell_type": "code",
   "execution_count": 5,
   "id": "5675b879",
   "metadata": {},
   "outputs": [
    {
     "data": {
      "text/plain": [
       "array(['Closed', 'Cancelled', 'In-progress ', 'Initiated', 'In-Progress'],\n",
       "      dtype=object)"
      ]
     },
     "execution_count": 5,
     "metadata": {},
     "output_type": "execute_result"
    }
   ],
   "source": [
    "requests_2020['Status'].unique()\n",
    "# viewing the status options, noticing there are two 'In-Progress' values"
   ]
  },
  {
   "cell_type": "code",
   "execution_count": 6,
   "id": "37f8b5d4",
   "metadata": {},
   "outputs": [],
   "source": [
    "# cleaning in-progress values: removing white space & capitalizing P\n",
    "requests_2020['Status'] = requests_2020['Status'].replace('In-progress ', 'In-Progress')"
   ]
  },
  {
   "cell_type": "code",
   "execution_count": 7,
   "id": "c5e57ae9",
   "metadata": {
    "scrolled": false
   },
   "outputs": [
    {
     "data": {
      "text/plain": [
       "Status\n",
       "Closed         293270\n",
       "Cancelled       46353\n",
       "In-Progress      5414\n",
       "Initiated        2711\n",
       "dtype: int64"
      ]
     },
     "execution_count": 7,
     "metadata": {},
     "output_type": "execute_result"
    }
   ],
   "source": [
    "requests_2020.groupby('Status').size().sort_values(ascending=False)"
   ]
  },
  {
   "cell_type": "code",
   "execution_count": 8,
   "id": "1bf40a53",
   "metadata": {},
   "outputs": [],
   "source": [
    "closed_status = requests_2020.groupby('Status').size().sort_values(ascending=False)[0]\n",
    "cancelled_status = requests_2020.groupby('Status').size().sort_values(ascending=False)[1]"
   ]
  },
  {
   "cell_type": "code",
   "execution_count": 9,
   "id": "04893f97",
   "metadata": {
    "scrolled": true
   },
   "outputs": [
    {
     "name": "stdout",
     "output_type": "stream",
     "text": [
      "By the end of the year, the majority of service requests (84.33%) were closed, and 13.33% had been cancelled.\n"
     ]
    }
   ],
   "source": [
    "print(f'By the end of the year, the majority of service requests ({round(closed_status/total_requests_2020*100,2)}%) were closed, and {round(cancelled_status/total_requests_2020*100,2)}% had been cancelled.')"
   ]
  },
  {
   "cell_type": "code",
   "execution_count": 10,
   "id": "52be6efd",
   "metadata": {
    "scrolled": false
   },
   "outputs": [
    {
     "data": {
      "text/plain": [
       "<AxesSubplot:ylabel='Request Status'>"
      ]
     },
     "execution_count": 10,
     "metadata": {},
     "output_type": "execute_result"
    },
    {
     "data": {
      "image/png": "[encoded data removed]",
      "text/plain": [
       "<Figure size 1296x432 with 1 Axes>"
      ]
     },
     "metadata": {},
     "output_type": "display_data"
    }
   ],
   "source": [
    "plt.figure(figsize=(18,6))\n",
    "requests_2020.groupby('Status').size().sort_values(ascending=False).plot(kind='pie', ylabel='Request Status', autopct='%1.1f%%')"
   ]
  },
  {
   "cell_type": "markdown",
   "id": "96adbdac",
   "metadata": {},
   "source": [
    "### [↑](#TOC) Request Type <a name=\"type\"></a> \n",
    "Originally, I wanted to look into request types (I thought the more granular the better!) but upon closer look we see that there are almost 500 different types – and the string values were entered very inconsistently:"
   ]
  },
  {
   "cell_type": "code",
   "execution_count": 11,
   "id": "6f342190",
   "metadata": {
    "scrolled": true
   },
   "outputs": [
    {
     "data": {
      "text/plain": [
       "486"
      ]
     },
     "execution_count": 11,
     "metadata": {},
     "output_type": "execute_result"
    }
   ],
   "source": [
    "# finding the amount of unique request types\n",
    "requests_2020['Service Request Type'].unique().shape[0]"
   ]
  },
  {
   "cell_type": "code",
   "execution_count": 12,
   "id": "4144fb86",
   "metadata": {},
   "outputs": [
    {
     "data": {
      "text/plain": [
       "array(['INJUR/DIST DOMESTIC', 'Sewer Service Line-Blocked',\n",
       "       'ENF/INVEST MUZZLE', 'Hydrant-Damage',\n",
       "       'Traffic Signal Maintenance', 'Road-Illegal Dumping',\n",
       "       'Res / Garbage / Not Picked Up',\n",
       "       'Boulevard - Leaf Pick-up Mechanical',\n",
       "       'Road - Sanding / Salting Required',\n",
       "       'All / Hazardous Waste / Pick Up Request',\n",
       "       'FEL Multi-Res Furniture / Not Picked Up',\n",
       "       'Road - Cleaning/Debris', 'Property Standards',\n",
       "       'Non-Res Organic Bin / Not Picked Up',\n",
       "       'Res / Nite Organic / Not Picked Up', 'Road - Pot hole',\n",
       "       'Water Service Line-No Water',\n",
       "       'Residential Furniture / Not Picked Up',\n",
       "       'Res / Org&Recycle Multiple Addresses / Not Picked Up',\n",
       "       'Residential: Garbage Bin: Exchange to Large', 'CADAVER DOMESTIC',\n",
       "       'Res / Organic Green Bin / Multiple Addresses / Not Picked Up',\n",
       "       'INJUR/DIST WILDLIFE', 'Missing/Damaged Signs',\n",
       "       'Missing/Faded Pavement Markings', 'SERVICES RABIES SUS',\n",
       "       'Non-Res Garbage Bin Nite / Not Picked Up',\n",
       "       'Sidewalk - Damaged / Concrete',\n",
       "       'Litter / Illegal Dumping Cleanup',\n",
       "       'Residential: Bin: Repair or Replace Body/Handle',\n",
       "       'Residential: Garbage Bin: Exchange to Small',\n",
       "       'Complaint/Investigation -Abandoned Bikes',\n",
       "       'Residential: Garbage Bin: Exchange to Extra Large',\n",
       "       'CADAVER WILDLIFE', 'Litter / Sidewalk & Blvd / Pick Up Request',\n",
       "       'Watermain-Possible Break', 'Illegal Dumping',\n",
       "       'Residential: Recycle Bin: Exchange to Large', 'STRAY CONFINED',\n",
       "       'Storm Clean Up', 'Waste', 'Dangerous Private Tree Investigation',\n",
       "       'Residential: Garbage Bin: Exchange to Medium',\n",
       "       'Maintenance Holes -Damage / Repair', 'Road - Sinking',\n",
       "       'Road - Damaged', 'Street furniture damaged',\n",
       "       'Pot hole on Expressway', 'ENF/INVEST EXCREMENT',\n",
       "       'Residential: Bin: Repair or Replace Lid',\n",
       "       'Litter / Special Event / Pick Up Request',\n",
       "       'Water Service Line-Leaking',\n",
       "       'Multi-Res / Nite Garbage Rear-Bin / Not Picked Up',\n",
       "       'Residential:Recycle Bin:Exchange to Extra Large', 'Adequate Heat',\n",
       "       'Water Service Line-Low Pressure|| Low Flow Insp',\n",
       "       'Litter / Bin / Overflow or Not Picked Up',\n",
       "       'District Operations-Timeliness',\n",
       "       'Res / Organic Green Bin / Not Picked Up',\n",
       "       'Publication Request - Solid Waste',\n",
       "       'Complaint-Time Line of the Service', 'Signs',\n",
       "       'Wrong Location/Time/Day', 'Residential: Garbage Bin: Missing',\n",
       "       'Res / Recycle / Not Picked Up', 'Sidewalk - Cleaning',\n",
       "       'Dogs off Leash', 'Residential: Bin: Wrong Delivery',\n",
       "       'Maintenance Holes Lid Loose/Missing', 'Zoning',\n",
       "       'Res / Garbage / Multiple Addresses Not Picked Up',\n",
       "       'Res Above Comm / Nite Garbage / Not Picked Up',\n",
       "       'Long Grass and Weeds', 'Waste Storage',\n",
       "       'Registration - Toronto Water', 'Hydrant-Leaking',\n",
       "       'Illegal Off-Street Parking', 'Litter / Laneway / Clean Up',\n",
       "       'Residential: Recycle Bin: Additional Large',\n",
       "       'Maintenance Hole-Missing Cover', 'Res / Organic Bin / Additional',\n",
       "       'Bin Investigation Request', 'Water Service Line-Turn Off',\n",
       "       'Residential: Recycle Bin: Exchange to Medium', 'STRAY AT LARGE',\n",
       "       'Res / Organic Bin / New Occupants',\n",
       "       'Water Service Line-Turn Off/Burst', 'PXO Maintenance',\n",
       "       'Catch basin (Storm) - Other', 'Restoration Related',\n",
       "       'Roadway Utility Cut - Settlement',\n",
       "       'Residential: Recycle Bin: Additional Extra Large',\n",
       "       'Non-Res Recycle Bin Nite / Not Picked Up',\n",
       "       'Non-Res Organic Bin Nite / Not Picked Up', 'Tree Planting',\n",
       "       'Dispute SR Status/Collections Curb Day', 'Sink Hole',\n",
       "       'Bridge Icy Needs Sand/Salt',\n",
       "       'Non-Res Recycle Bin / Not Picked Up',\n",
       "       'Residential: Bin: Repair or Replace Metal Bar',\n",
       "       'Maintenance Hole-Damage', 'Expressway requires cleaning.',\n",
       "       'FEL Non-Res / Garbage / Not Picked Up',\n",
       "       'Res / Organic&Recycle / Not Picked Up', 'Dispute SR Status/Bins',\n",
       "       'Water Valve-Leaking', 'Blocked Access By Parking',\n",
       "       'Multi-Res / XMAS Tree / Pick Up',\n",
       "       'Catch Basin - Blocked / Flooding',\n",
       "       'Residential: Garbage Bin: Additional Extra Large',\n",
       "       'Catch Basin - Debris / Litter', 'Laneway - Surface Damage',\n",
       "       'Dispute SR Status/Collections FEL', 'General Pruning',\n",
       "       'Multi-Res / Recycle Cart / Not Picked Up',\n",
       "       'Water Service Line-Low Pressure|| Low Flow Appt',\n",
       "       'Water Service Line-Check Water Service Box',\n",
       "       'Complaint/Investigation - Encroachment',\n",
       "       'Litter / Bike Removal Inquiry',\n",
       "       'Res / Organic Bin / Replace Missing', 'Sewer Odour',\n",
       "       'Complaint-Outcome of the Service',\n",
       "       'Res / Org&Recycle Front&Side / Not Picked Up',\n",
       "       'Dispute SR Status/Collections Nights',\n",
       "       'Sewer Service Line-Cleanout Repair',\n",
       "       'Sidewalk Icy|| Needs Sand/Salt', 'Comment / Suggestion',\n",
       "       'Staff Conduct/Collections Curb Day',\n",
       "       'Res / Organic&Garbage / Not Picked Up', 'Culverts - Blocked',\n",
       "       'Bridge - Graffiti Complaint', 'Bridge - Debris / Litter',\n",
       "       'Boulevard - Plough Damage', 'Driveway - Damaged / Ponding',\n",
       "       'Res Above Comm / Nite Recycle / Not Picked Up',\n",
       "       'Residential: Garbage Bin: New Account Large',\n",
       "       'Residential: Recycle Bin: Missing',\n",
       "       'Residential: Recycle Bin: New Account Large',\n",
       "       'Res / Organic Bin / New Account', 'Water Service Line-Turn On',\n",
       "       'Res / Recycle / Multiple Addresses / Not Picked Up',\n",
       "       'Litter/Needle Cleanup', 'Sidewalk - Damaged /Brick/Interlock',\n",
       "       'Residential: Garbage Bin: New Account Medium',\n",
       "       'Application Mail Out / Non-Res', 'Contaminated Waste/Preparation',\n",
       "       'Garbage / Park / Bin Overflow', 'Sidewalk - Graffiti Complaint',\n",
       "       'Residential: Recycle Bin: New Account Medium',\n",
       "       'Speed Watch Programme',\n",
       "       'Multi-Res / Garbage Front-End / Not Picked Up',\n",
       "       'By-Law Contravention Invest', 'ENF/INVEST UNSAN COND',\n",
       "       'FEL Multi-Res / Recycle Cart / Not Picked Up', 'Prohibited Waste',\n",
       "       'Road-Winter Request/ Complaint', 'Investigate Regulatory Signs',\n",
       "       'Pollution Spill Response', 'Curb - Damaged',\n",
       "       'Residential / Yard Waste / Not Picked Up',\n",
       "       'Signal Timing Review/Vehicle Delays',\n",
       "       'Spills/Cleanup/Collections FEL', 'Sidewalk-Water Ponding',\n",
       "       'Staff Conduct/Litter Operations',\n",
       "       'Multi-Res / Recycle Front-End / Not Picked Up',\n",
       "       'ENF/INVEST DAL HOME', 'Multi-Res / Garbage Cart / Not Picked Up',\n",
       "       'Non-Res Cardboard Nite / Not Picked Up',\n",
       "       'Residential: Recycle Bin: Exchange to Small',\n",
       "       'Multi-Res / Organic FEL / Not Picked Up', 'Bollard - Damaged',\n",
       "       'Boulevards - Damaged Asphalt', 'General Tree Maintenance',\n",
       "       'Staff Service Complaint', 'Street Light Out',\n",
       "       'Catch basin (Storm) - Damage', 'Graffiti', 'Stemming',\n",
       "       'Catch basin (Storm) - Overflowing', 'District Operations-Process',\n",
       "       'Containers', 'Spills/Cleanup/Collections Curb Day',\n",
       "       'SERVICES PROT CUST', 'Bridge - Damaged Structure',\n",
       "       'Fence - Damaged', 'Residential: Bin: Repair or Replace Wheel',\n",
       "       'Water Meter-Leaking', 'Res / Recycle Front&Side / Not Picked Up',\n",
       "       'Complaint / Investigation - Idling Enforcement',\n",
       "       'Hydrant-After Usage Test', 'Boulevard - Pick-Up Shopping Carts',\n",
       "       'Residential / Nite Furniture / Not Picked Up',\n",
       "       'Res / Org&Garbage Front&Side / Not Picked Up',\n",
       "       'Catch Basin -Cover Missing / Damaged / Loose',\n",
       "       'ENF/INVEST NO LEASH', 'ENF/INVEST ANIM CARE',\n",
       "       'Multi-Res / Nite Recycle Cart / Not Picked Up',\n",
       "       'Multi-Res / Organic Bin / Not Picked Up',\n",
       "       'FEL Non-Res Recycle Cart / Not Picked Up',\n",
       "       'Res / Nite Recycle / Not Picked Up',\n",
       "       'Res / Nite Garbage / Not Picked Up',\n",
       "       'FEL Non-Res Recycle FEL / Not Picked Up',\n",
       "       'Multi-Res / Organic Cart / Not Picked Up',\n",
       "       'Residential: Garbage Bin: New Account Small',\n",
       "       'Property Damaged/Collections Nights',\n",
       "       'Multi-Res / FEL / Bin Inventory', 'Dead Animal On Expressway',\n",
       "       'Publication Request - Urban Forestry',\n",
       "       'Litter / Bin / Reinstall|| Replace Missing', 'Fence',\n",
       "       'ENF/INVEST SHELTER', 'Road Water Ponding',\n",
       "       'Water Quality-Discoloured (Rusty or dirty) Water',\n",
       "       'Multi-Res / Garbage Pile / Not Picked Up',\n",
       "       'Missed Leaf Collection', 'ENF/INVEST AN TO HU',\n",
       "       'FEL Non-Res Organic / Not Picked Up',\n",
       "       'Res / Above Comm / Organic Green Bin / Not Picked Up',\n",
       "       'Water Service Test for High Lead Content',\n",
       "       'District Operations-Equipment/Untidy Const Site',\n",
       "       'Compliment-Employee/Operation', 'ENF/INVEST MENACE',\n",
       "       'Catch basin Maintenance and Repair',\n",
       "       'Non-Res Garbage Bag / Not Picked Up',\n",
       "       \"Disabled Persons' Parking Space\",\n",
       "       'Multi-Res / Furniture Pile / Not Picked Up', 'Speeding',\n",
       "       'Property Damaged/Collections Curb Day',\n",
       "       'Complaint-Process and Procedures',\n",
       "       'Res / Org&Garbage Multiple Addresses / Not Picked Up',\n",
       "       'Res / Organic Front&Side / Not Picked Up',\n",
       "       'Dispute SR Status/Litter Operations', 'Accessibility Complaint',\n",
       "       'District Operations-Compliment',\n",
       "       'Complaint / Investigation - Leaves', 'Appliance (Emergency)',\n",
       "       'Residential: Garbage Bin: Additional Large',\n",
       "       'Operator / Operations Compliment',\n",
       "       'Roadside Utility Cut - Settlement',\n",
       "       'Investigate Temporary Condition Signs',\n",
       "       'Culverts-Damaged / Maintenance Requested', 'Conduct',\n",
       "       'Traffic Sign - Graffiti Complaint',\n",
       "       'Pedestrian Issues/Timing/Delays', 'Access/AODA Complaint',\n",
       "       'Illegal On-Street Parking',\n",
       "       'Catch Basin - Damaged Maintenance Requested',\n",
       "       'Bylaw Enforcement: Excavation', 'TAS_STRAY ATTACK',\n",
       "       'ENF/INVEST COLLAR', 'ENF/INVEST ATTACK TO HU',\n",
       "       'Multi-Res / Nite Garbage Pile / Not Picked Up',\n",
       "       'ENF/INVEST ATTACK TO AN', 'Sight Line Obstruction',\n",
       "       'ENF/INVEST AN TO AN',\n",
       "       'Residential: Garbage Bin: Additional Medium',\n",
       "       'ENF/INVEST WALK MANY', 'Ditch Maintenance Requested',\n",
       "       'Res / Garbage Front&Side / Not Picked Up',\n",
       "       'Application Status / Non-Res',\n",
       "       'Non-Res Garbage Bin / Not Picked Up',\n",
       "       'Pedestrian Crossing Protection', 'Staff Service Compliment',\n",
       "       'Alternate Side Parking', 'Heavy Trucks',\n",
       "       'Bus Stop Icy Needs Sand/Salt', 'General Parking Regulations',\n",
       "       'Non-Res Garbage Bag Nite / Not Picked Up',\n",
       "       'District Operations-Restoration',\n",
       "       'Multiple SRs/Litter Operations',\n",
       "       'Multiple SRs/Collections Curb Day', 'Road - Graffiti Complaint',\n",
       "       'Investigate Warning Signs', 'TAS_COYOT RESP PUB-SAFETY',\n",
       "       'Road damaged on Expressway', 'Traffic Calming Measures',\n",
       "       'Road Ploughing Required', 'Ice and Snow Complaint',\n",
       "       'Watermain Valve - Turn Off', 'Sidewalk - Snow Clearing',\n",
       "       'Roadside - Plough Damage', 'Flashing Beacon Maintenance',\n",
       "       'New Traffic Control Signal Request',\n",
       "       'Residential: Recycle Bin: New Account Extra Large',\n",
       "       'Publication Request - Transportation',\n",
       "       'Sidewalk - Seniors Snow Clearing',\n",
       "       'Traffic Signal - Graffiti Complaint', 'Commercial Tree Maint Req',\n",
       "       'Residential: Recycle Bin: Additional Medium',\n",
       "       'Complaint - Crossing Guard Conduct',\n",
       "       'Curb - Adjust Height (Too High/Low)',\n",
       "       'Postering City Property/Structures',\n",
       "       'Left/Right Turn Signal Priority Features',\n",
       "       'Staff Conduct/Collections FEL',\n",
       "       'Time Limit or Excessive Duration Parking',\n",
       "       'Commercial Tree Storm Clean Up',\n",
       "       'Walkway - Snow Clearing/ Salting required',\n",
       "       'Driveway-Blocked By Windrow',\n",
       "       'Residential: Garbage Bin: New Account Extra Large',\n",
       "       'Stoop N Scoop', 'Lane Designation',\n",
       "       'Salting-Winter (WSL/HYDT/VALVE/Watermain Break Locations etc.)',\n",
       "       'Multi-Res / Nite XMAS Tree / Not Picked Up',\n",
       "       'Multiple SRs/Collections FEL', 'Guardrail - Damaged',\n",
       "       'Property Damaged/Collections FEL',\n",
       "       'Litter / Bin / Graffiti on Bin', 'Pit Cover/Paver Maintenance',\n",
       "       'All-Way Stop Sign Controls',\n",
       "       'Investigate Vehicles Leaving Roadway', 'EAB Exemption Request',\n",
       "       'ENF/INVEST TOO MANY', 'Sign Maintenance',\n",
       "       'Student Pick-up/Drop-off Area',\n",
       "       'Residential / XMAS Tree / Not Picked Up', 'Road - Plough Damage',\n",
       "       'Multi-Res / XMAS Tree / Not Picked Up',\n",
       "       'Intersection Safety Review', 'Complaint-Staff Conduct',\n",
       "       'Recycle / Park / Bin Overflow',\n",
       "       'District Operations-Attitude and Behavior', 'Road Allowance',\n",
       "       'TAS_STRAY MENACE', 'Laneway - Salting / Sanding / Salt',\n",
       "       'Business Complaint', 'District Operations-Contractor Related',\n",
       "       'ENF/INVEST EXTREME', 'TAS_COYOT RESP AN-BITE',\n",
       "       'Maintenance Hole - Overflowing',\n",
       "       'School Crossing Guard - No Show',\n",
       "       'Res Above Comm / Nite XMAS Tree / Not Picked Up',\n",
       "       'Residential / Nite XMAS Tree / Not Picked Up',\n",
       "       'ENF/INVEST LICENCE', 'ENF/INVEST NUISAN CAT', 'Trades Complaint',\n",
       "       'Sewer main-Backup', 'ENF/INVEST PIT BULL',\n",
       "       'Retaining Wall - Damage / Repair',\n",
       "       'Pedestrian Crossover Operation', 'Shoulder on Expressway Damaged',\n",
       "       'RESCU Maintenance', 'Watercourse Investigation',\n",
       "       'Traffic Island - Damaged',\n",
       "       'Catch basin on Expressway requires cleaning', 'Encroachments',\n",
       "       'Road - Gravel Roads/Construction', 'Bridge Falling Debris',\n",
       "       'Parking', 'ENF/INVEST PROH ANIMA', 'Snow Removal - General',\n",
       "       'Residential: Recycle Bin: Additional Small',\n",
       "       'FEL Multi-Res Xmas Tree / Not Picked Up', 'Stumping',\n",
       "       'Walkway - damaged', 'West Nile Virus-Standing Water / Roadside',\n",
       "       'Residential: Garbage Bin: Additional Small',\n",
       "       'Garbage / Park / Bin Installation',\n",
       "       'Recycle / Park / Bin Damaged', 'Garbage / Park / Bin Damaged',\n",
       "       'Bridge - Surface Repair', 'All / Hazardous Waste / Not Picked Up',\n",
       "       'Multiple SRs/Collections Nights', 'Staff Conduct/Non-Collections',\n",
       "       'Residential / Nite Yard Waste / Not Picked Up',\n",
       "       'Investigate Pavement Markings', 'Sidewalk - Paraplegic Ramps',\n",
       "       'Investigate Temporary Condition Markings',\n",
       "       'School-Related Warning Signs', 'Boulevards - Weed Removal',\n",
       "       'Commercial Dog Walkers', 'New Pedestrian Crossover',\n",
       "       'Watermain Valve - Turn On', 'Shoulder - Maintenance',\n",
       "       'Expressway Fence - Damaged', 'Snow Removal - Sightline Problem',\n",
       "       'District Operations-Construction Site Unsafe',\n",
       "       'Boulevards - Snow Piled Too High / Too Much',\n",
       "       'Bus Stops Snow Clearing Required', 'Corner Parking Prohibition',\n",
       "       'Snow Removal - School Zone', 'Traffic Infiltration',\n",
       "       'Parking in a Public Lane',\n",
       "       'FEL Non-Res Organic Cart / Not Picked Up',\n",
       "       'Residential: Recycle Bin: New Account Small',\n",
       "       'Non-Res XMAS Tree Nite / Not Picked Up', 'Complaint-Disability',\n",
       "       'Res / Nite Garbage / Multiple Addresses / Not Picked Up',\n",
       "       'FEL Non-Res Furniture / Not Picked Up', 'Disabled Loading Zone',\n",
       "       'Recycling Contamination Notice',\n",
       "       'FEL Non-Res Xmas Tree / Not Picked Up',\n",
       "       'Res / Nite Recycle Front&Side / Not Picked Up',\n",
       "       'ENF/INVEST TIED EXCES', 'Reserved Lane',\n",
       "       'Res / Organic Bin / Replace Damaged', 'ENF/INVEST TETHER',\n",
       "       'Park Use', 'Multi-Res / Recycle Rear-Bin / Not Picked Up',\n",
       "       'TAS_COYOT RESP HU-BITE', 'School Zone Safety Review',\n",
       "       'Multi-Res / Garbage Rear-Bin / Not Picked Up', 'Animals',\n",
       "       'Commercial Tree Removal', 'ENF/INVEST PIGEONS',\n",
       "       'Staff Conduct/Collections Nights', 'Commercial Loading Zone',\n",
       "       'Pedestrian Refuge Island',\n",
       "       'Res / Nite Organic&Garbage / Not Picked Up', 'Taxicab Stand',\n",
       "       'Res / Nite Organic Front&Side / Not Picked Up',\n",
       "       'TAS_COYOT RESP AN-ATTACK', 'Catch basin on Expressway damaged',\n",
       "       'Road Design', 'Prohibited Acts/Pollicking',\n",
       "       'Multi-Res / Nite Furniture Pile / Not Picked Up',\n",
       "       'Spills/Cleanup/Litter Operations', 'Power Outage',\n",
       "       'Expressway Guide Rail Damaged', 'Litter / Bin / Relocate',\n",
       "       'Publication Request - Other', 'Complaint-Access',\n",
       "       'Garbage / Park / Bin Removal / Relocate', 'Trees and Plants',\n",
       "       'Postering Kiosks', 'Commercial Tree Pruning', 'Election Signs',\n",
       "       'Gypsy Moth Control Insp',\n",
       "       'Res / Nite Org&Garbage Multiple Addresses / Not Picked Up',\n",
       "       'IPM Inspection', 'Walkway-Weeds Need Cutting', 'Games',\n",
       "       'Taxi|| Limo Complaint', 'Non-Res Furniture / Not Picked Up',\n",
       "       'School Bus Loading Zone',\n",
       "       'Res Above Comm / Nite Yard Waste / Not Picked Up',\n",
       "       'Res / Yard Waste Multiple Addresses / Not Picked Up',\n",
       "       'Res / Nite Organic&Recycle / Not Picked Up',\n",
       "       'Litter / Bin / Removal', 'TAS_COYOT RESP HU-ATTACK',\n",
       "       'Multi-Res / Yard Waste / Not Picked Up',\n",
       "       'Missing/Damaged School Flashing Beacons',\n",
       "       'Complaint / Property Damaged',\n",
       "       'Spills/Cleanup/Collections Nights',\n",
       "       'Garbage / Park / Bin Missing', 'Recycle / Park / Bin Missing',\n",
       "       'Streetcar Platforms', 'Vehicles',\n",
       "       'Missing/Damaged Watch Your Speed Boards',\n",
       "       'Complaint / Investigation - Grass and Weeds Enforcement',\n",
       "       'Boulevards-Grass Cutting', 'Speed Bumps in Laneway',\n",
       "       'Res / Nite Recycle Multiple Addresses / Not Picked Up',\n",
       "       'Garbage / Park / Bin Graffiti on Bin',\n",
       "       'Recycle / Park / Bin Graffiti on Bin', 'Fireworks',\n",
       "       'Missing/Damaged Flexible Bollards',\n",
       "       'Parks Ravine Safety Mtc FNEM',\n",
       "       'Recycle / Park / Bin Installation',\n",
       "       'Traffic Island-Grass Needs Cutting', 'Mulching',\n",
       "       'Non-Res Yard Waste / Not Picked Up', 'Bicycle Signals',\n",
       "       'Dispute SR Status/PRM', 'Transfer Station Odour Complaint',\n",
       "       'Complaint / Investigation - Water Discharge',\n",
       "       'Commercial Tree Planting', 'One-way Streets',\n",
       "       'West Nile Virus - Standing Water / Roadway',\n",
       "       'Public Spaces Complaint', 'Staff Conduct / Collections / Parks',\n",
       "       'Respond to Locates Request', 'Multi-Res / Ewaste / Not Picked Up',\n",
       "       'Res / Nite Yard Waste Multiple Addresses / Not Picked Up',\n",
       "       'Hydrant-Request for Usage', 'Commercial Enterprises', 'Bees/Wasp',\n",
       "       'Property Damaged/Litter Operations',\n",
       "       'FEL Multi-Res Yard Waste / Not Picked Up',\n",
       "       'Recycle / Park / Bin Relocate / Removal',\n",
       "       'Planting 11 Plus Trees FNEM',\n",
       "       'Non-Res Furniture / Not Picked Up Night',\n",
       "       'Non-Res Yard Waste Nite / Not Picked Up',\n",
       "       'Res / Nite Org&Garbage Front&Side / Not Picked Up',\n",
       "       'Hydro - Brush Pick-up', 'Graffiti on Hydro Asset', 'Watercraft'],\n",
       "      dtype=object)"
      ]
     },
     "execution_count": 12,
     "metadata": {},
     "output_type": "execute_result"
    }
   ],
   "source": [
    "# we see that the type values are not formatted consistently (e.g. \"Res /\" vs. \"Residential:\")\n",
    "requests_2020['Service Request Type'].unique()"
   ]
  },
  {
   "cell_type": "code",
   "execution_count": 13,
   "id": "9ddababc",
   "metadata": {},
   "outputs": [],
   "source": [
    "service_request_types = requests_2020.groupby('Service Request Type').size().sort_values(ascending=False)"
   ]
  },
  {
   "cell_type": "code",
   "execution_count": 14,
   "id": "7780bd88",
   "metadata": {
    "scrolled": true
   },
   "outputs": [
    {
     "data": {
      "text/plain": [
       "Service Request Type\n",
       "INJUR/DIST WILDLIFE                                18448\n",
       "Residential: Bin: Repair or Replace Lid            16620\n",
       "CADAVER WILDLIFE                                   12000\n",
       "General Pruning                                    10652\n",
       "Property Standards                                  9684\n",
       "Res / Garbage / Not Picked Up                       8373\n",
       "Residential Furniture / Not Picked Up               8207\n",
       "All / Hazardous Waste / Pick Up Request             8155\n",
       "Road - Pot hole                                     8070\n",
       "Residential: Bin: Repair or Replace Body/Handle     7455\n",
       "dtype: int64"
      ]
     },
     "execution_count": 14,
     "metadata": {},
     "output_type": "execute_result"
    }
   ],
   "source": [
    "# Note: Due to inconsistent formatting of type values, this list is likely not fully accurate\n",
    "# Quick look at the ten most popular service request types\n",
    "service_request_types.head(10)"
   ]
  },
  {
   "cell_type": "code",
   "execution_count": 15,
   "id": "ee70603d",
   "metadata": {},
   "outputs": [
    {
     "data": {
      "text/plain": [
       "Service Request Type\n",
       "SERVICES RABIES SUS                                          1\n",
       "Planting 11 Plus Trees FNEM                                  1\n",
       "Pedestrian Refuge Island                                     1\n",
       "West Nile Virus-Standing Water / Roadside                    1\n",
       "West Nile Virus - Standing Water / Roadway                   1\n",
       "Res / Nite Org&Garbage Multiple Addresses / Not Picked Up    1\n",
       "Multi-Res / Ewaste / Not Picked Up                           1\n",
       "Watercraft                                                   1\n",
       "Taxicab Stand                                                1\n",
       "Publication Request - Other                                  1\n",
       "School Bus Loading Zone                                      1\n",
       "Property Damaged/Litter Operations                           1\n",
       "Trades Complaint                                             1\n",
       "Non-Res XMAS Tree Nite / Not Picked Up                       1\n",
       "Hydrant-Request for Usage                                    1\n",
       "Graffiti on Hydro Asset                                      1\n",
       "dtype: int64"
      ]
     },
     "execution_count": 15,
     "metadata": {},
     "output_type": "execute_result"
    }
   ],
   "source": [
    "# Note: Due to inconsistent formatting of type values, this list is likely not fully accurate\n",
    "# Quick look at the 10 rarest service request types (aka types with only one instance)\n",
    "service_request_types.sort_values(ascending=True).head(16)"
   ]
  },
  {
   "cell_type": "markdown",
   "id": "4cdb105a",
   "metadata": {},
   "source": [
    "Since the request type values were quite messy, let's take a look at the divisions and services features."
   ]
  },
  {
   "cell_type": "markdown",
   "id": "8dc3a2fd",
   "metadata": {},
   "source": [
    "### [↑](#TOC) Division <a name=\"division\"></a> \n",
    "Represents the responsible 311 Integrated Service Division for each request. It corresponds to the original service request type, regardless of subsequent service request type changes by the back-end divisions."
   ]
  },
  {
   "cell_type": "code",
   "execution_count": 16,
   "id": "97e0c340",
   "metadata": {},
   "outputs": [
    {
     "data": {
      "text/plain": [
       "7"
      ]
     },
     "execution_count": 16,
     "metadata": {},
     "output_type": "execute_result"
    }
   ],
   "source": [
    "requests_2020['Division'].unique().shape[0]"
   ]
  },
  {
   "cell_type": "code",
   "execution_count": 17,
   "id": "2b0cf962",
   "metadata": {
    "scrolled": true
   },
   "outputs": [
    {
     "data": {
      "text/plain": [
       "array(['Municipal Licensing & Standards', 'Toronto Water',\n",
       "       'Transportation Services', 'Solid Waste Management Services',\n",
       "       'Urban Forestry', '311', 'City of Toronto'], dtype=object)"
      ]
     },
     "execution_count": 17,
     "metadata": {},
     "output_type": "execute_result"
    }
   ],
   "source": [
    "requests_2020['Division'].unique()"
   ]
  },
  {
   "cell_type": "code",
   "execution_count": 18,
   "id": "f4e6f1fa",
   "metadata": {},
   "outputs": [
    {
     "data": {
      "text/plain": [
       "Division\n",
       "Solid Waste Management Services    146892\n",
       "Municipal Licensing & Standards     69576\n",
       "Transportation Services             63932\n",
       "Toronto Water                       33309\n",
       "Urban Forestry                      28628\n",
       "311                                  5317\n",
       "City of Toronto                        94\n",
       "dtype: int64"
      ]
     },
     "execution_count": 18,
     "metadata": {},
     "output_type": "execute_result"
    }
   ],
   "source": [
    "requests_2020.groupby('Division').size().sort_values(ascending=False)"
   ]
  },
  {
   "cell_type": "code",
   "execution_count": 19,
   "id": "75e19f4b",
   "metadata": {},
   "outputs": [
    {
     "data": {
      "text/plain": [
       "<AxesSubplot:ylabel='Division'>"
      ]
     },
     "execution_count": 19,
     "metadata": {},
     "output_type": "execute_result"
    },
    {
     "data": {
      "image/png": "[encoded data removed]",
      "text/plain": [
       "<Figure size 1296x432 with 1 Axes>"
      ]
     },
     "metadata": {
      "needs_background": "light"
     },
     "output_type": "display_data"
    }
   ],
   "source": [
    "plt.figure(figsize=(18,6))\n",
    "requests_2020.groupby('Division').size().sort_values(ascending=True).plot(kind='barh')"
   ]
  },
  {
   "cell_type": "markdown",
   "id": "ff115808",
   "metadata": {},
   "source": [
    "This data is well formatted, but unfortunately is too aggregated (mainly in five divisions) to provide us with interesting insights. "
   ]
  },
  {
   "cell_type": "markdown",
   "id": "dbe0145a",
   "metadata": {},
   "source": [
    "### [↑](#TOC) Section <a name=\"section\"></a> \n",
    "Represents the specific section / unit, which are smaller subsets of the divisions explored above."
   ]
  },
  {
   "cell_type": "code",
   "execution_count": 20,
   "id": "fc736a3d",
   "metadata": {},
   "outputs": [
    {
     "data": {
      "text/plain": [
       "20"
      ]
     },
     "execution_count": 20,
     "metadata": {},
     "output_type": "execute_result"
    }
   ],
   "source": [
    "requests_2020['Section'].unique().shape[0]"
   ]
  },
  {
   "cell_type": "code",
   "execution_count": 21,
   "id": "27a334f3",
   "metadata": {},
   "outputs": [
    {
     "data": {
      "text/plain": [
       "array(['Toronto Animal Services', 'District Ops', 'TMC',\n",
       "       'Road Operations', 'Collections', 'District Enforcement',\n",
       "       'Right of Way (ROW)', 'Parks Enforcement', 'Waste Enforcement',\n",
       "       'Forestry Operations', 'Tree Protection and Plan Review',\n",
       "       'Operations', 'Traffic Ops', 'Litter Operations',\n",
       "       'Business Operations Management', 'All City Divisions',\n",
       "       'Traffic Safety', 'Businesss Licensing Enforcement',\n",
       "       'Forestry and Natural Environment Management',\n",
       "       'Transfer, Disposal & Operations'], dtype=object)"
      ]
     },
     "execution_count": 21,
     "metadata": {},
     "output_type": "execute_result"
    }
   ],
   "source": [
    "requests_2020['Section'].unique()"
   ]
  },
  {
   "cell_type": "code",
   "execution_count": 22,
   "id": "8a7dac71",
   "metadata": {},
   "outputs": [
    {
     "data": {
      "text/html": [
       "<div>\n",
       "<style scoped>\n",
       "    .dataframe tbody tr th:only-of-type {\n",
       "        vertical-align: middle;\n",
       "    }\n",
       "\n",
       "    .dataframe tbody tr th {\n",
       "        vertical-align: top;\n",
       "    }\n",
       "\n",
       "    .dataframe thead th {\n",
       "        text-align: right;\n",
       "    }\n",
       "</style>\n",
       "<table border=\"1\" class=\"dataframe\">\n",
       "  <thead>\n",
       "    <tr style=\"text-align: right;\">\n",
       "      <th></th>\n",
       "      <th>Section</th>\n",
       "      <th>Request_Count</th>\n",
       "    </tr>\n",
       "  </thead>\n",
       "  <tbody>\n",
       "    <tr>\n",
       "      <th>0</th>\n",
       "      <td>Collections</td>\n",
       "      <td>145689</td>\n",
       "    </tr>\n",
       "    <tr>\n",
       "      <th>1</th>\n",
       "      <td>Road Operations</td>\n",
       "      <td>45904</td>\n",
       "    </tr>\n",
       "    <tr>\n",
       "      <th>2</th>\n",
       "      <td>Toronto Animal Services</td>\n",
       "      <td>38479</td>\n",
       "    </tr>\n",
       "    <tr>\n",
       "      <th>3</th>\n",
       "      <td>District Ops</td>\n",
       "      <td>32752</td>\n",
       "    </tr>\n",
       "    <tr>\n",
       "      <th>4</th>\n",
       "      <td>Forestry Operations</td>\n",
       "      <td>25213</td>\n",
       "    </tr>\n",
       "  </tbody>\n",
       "</table>\n",
       "</div>"
      ],
      "text/plain": [
       "                   Section  Request_Count\n",
       "0              Collections         145689\n",
       "1          Road Operations          45904\n",
       "2  Toronto Animal Services          38479\n",
       "3             District Ops          32752\n",
       "4      Forestry Operations          25213"
      ]
     },
     "execution_count": 22,
     "metadata": {},
     "output_type": "execute_result"
    }
   ],
   "source": [
    "requests_by_section = pd.DataFrame(requests_2020.groupby('Section').size().sort_values(ascending=False), columns=['Request_Count'])\n",
    "requests_by_section.reset_index().head()"
   ]
  },
  {
   "cell_type": "code",
   "execution_count": 23,
   "id": "9601eeb4",
   "metadata": {},
   "outputs": [],
   "source": [
    "requests_by_section['% of Total'] = round(requests_by_section['Request_Count'] / total_requests_2020*100, 2)"
   ]
  },
  {
   "cell_type": "code",
   "execution_count": 24,
   "id": "9bceeefe",
   "metadata": {},
   "outputs": [
    {
     "data": {
      "text/html": [
       "<div>\n",
       "<style scoped>\n",
       "    .dataframe tbody tr th:only-of-type {\n",
       "        vertical-align: middle;\n",
       "    }\n",
       "\n",
       "    .dataframe tbody tr th {\n",
       "        vertical-align: top;\n",
       "    }\n",
       "\n",
       "    .dataframe thead th {\n",
       "        text-align: right;\n",
       "    }\n",
       "</style>\n",
       "<table border=\"1\" class=\"dataframe\">\n",
       "  <thead>\n",
       "    <tr style=\"text-align: right;\">\n",
       "      <th></th>\n",
       "      <th>Request_Count</th>\n",
       "      <th>% of Total</th>\n",
       "    </tr>\n",
       "    <tr>\n",
       "      <th>Section</th>\n",
       "      <th></th>\n",
       "      <th></th>\n",
       "    </tr>\n",
       "  </thead>\n",
       "  <tbody>\n",
       "    <tr>\n",
       "      <th>Collections</th>\n",
       "      <td>145689</td>\n",
       "      <td>41.89</td>\n",
       "    </tr>\n",
       "    <tr>\n",
       "      <th>Road Operations</th>\n",
       "      <td>45904</td>\n",
       "      <td>13.20</td>\n",
       "    </tr>\n",
       "    <tr>\n",
       "      <th>Toronto Animal Services</th>\n",
       "      <td>38479</td>\n",
       "      <td>11.07</td>\n",
       "    </tr>\n",
       "    <tr>\n",
       "      <th>District Ops</th>\n",
       "      <td>32752</td>\n",
       "      <td>9.42</td>\n",
       "    </tr>\n",
       "    <tr>\n",
       "      <th>Forestry Operations</th>\n",
       "      <td>25213</td>\n",
       "      <td>7.25</td>\n",
       "    </tr>\n",
       "    <tr>\n",
       "      <th>District Enforcement</th>\n",
       "      <td>23319</td>\n",
       "      <td>6.71</td>\n",
       "    </tr>\n",
       "    <tr>\n",
       "      <th>TMC</th>\n",
       "      <td>9831</td>\n",
       "      <td>2.83</td>\n",
       "    </tr>\n",
       "    <tr>\n",
       "      <th>Right of Way (ROW)</th>\n",
       "      <td>5493</td>\n",
       "      <td>1.58</td>\n",
       "    </tr>\n",
       "    <tr>\n",
       "      <th>Operations</th>\n",
       "      <td>5317</td>\n",
       "      <td>1.53</td>\n",
       "    </tr>\n",
       "    <tr>\n",
       "      <th>Parks Enforcement</th>\n",
       "      <td>4469</td>\n",
       "      <td>1.29</td>\n",
       "    </tr>\n",
       "    <tr>\n",
       "      <th>Waste Enforcement</th>\n",
       "      <td>3269</td>\n",
       "      <td>0.94</td>\n",
       "    </tr>\n",
       "    <tr>\n",
       "      <th>Tree Protection and Plan Review</th>\n",
       "      <td>2716</td>\n",
       "      <td>0.78</td>\n",
       "    </tr>\n",
       "    <tr>\n",
       "      <th>Traffic Ops</th>\n",
       "      <td>2479</td>\n",
       "      <td>0.71</td>\n",
       "    </tr>\n",
       "    <tr>\n",
       "      <th>Litter Operations</th>\n",
       "      <td>1197</td>\n",
       "      <td>0.34</td>\n",
       "    </tr>\n",
       "    <tr>\n",
       "      <th>Forestry and Natural Environment Management</th>\n",
       "      <td>699</td>\n",
       "      <td>0.20</td>\n",
       "    </tr>\n",
       "    <tr>\n",
       "      <th>Business Operations Management</th>\n",
       "      <td>557</td>\n",
       "      <td>0.16</td>\n",
       "    </tr>\n",
       "    <tr>\n",
       "      <th>Traffic Safety</th>\n",
       "      <td>225</td>\n",
       "      <td>0.06</td>\n",
       "    </tr>\n",
       "    <tr>\n",
       "      <th>All City Divisions</th>\n",
       "      <td>94</td>\n",
       "      <td>0.03</td>\n",
       "    </tr>\n",
       "    <tr>\n",
       "      <th>Businesss Licensing Enforcement</th>\n",
       "      <td>40</td>\n",
       "      <td>0.01</td>\n",
       "    </tr>\n",
       "    <tr>\n",
       "      <th>Transfer, Disposal &amp; Operations</th>\n",
       "      <td>6</td>\n",
       "      <td>0.00</td>\n",
       "    </tr>\n",
       "  </tbody>\n",
       "</table>\n",
       "</div>"
      ],
      "text/plain": [
       "                                             Request_Count  % of Total\n",
       "Section                                                               \n",
       "Collections                                         145689       41.89\n",
       "Road Operations                                      45904       13.20\n",
       "Toronto Animal Services                              38479       11.07\n",
       "District Ops                                         32752        9.42\n",
       "Forestry Operations                                  25213        7.25\n",
       "District Enforcement                                 23319        6.71\n",
       "TMC                                                   9831        2.83\n",
       "Right of Way (ROW)                                    5493        1.58\n",
       "Operations                                            5317        1.53\n",
       "Parks Enforcement                                     4469        1.29\n",
       "Waste Enforcement                                     3269        0.94\n",
       "Tree Protection and Plan Review                       2716        0.78\n",
       "Traffic Ops                                           2479        0.71\n",
       "Litter Operations                                     1197        0.34\n",
       "Forestry and Natural Environment Management            699        0.20\n",
       "Business Operations Management                         557        0.16\n",
       "Traffic Safety                                         225        0.06\n",
       "All City Divisions                                      94        0.03\n",
       "Businesss Licensing Enforcement                         40        0.01\n",
       "Transfer, Disposal & Operations                          6        0.00"
      ]
     },
     "execution_count": 24,
     "metadata": {},
     "output_type": "execute_result"
    }
   ],
   "source": [
    "requests_by_section"
   ]
  },
  {
   "cell_type": "code",
   "execution_count": 25,
   "id": "4c2996c4",
   "metadata": {},
   "outputs": [
    {
     "data": {
      "text/plain": [
       "<AxesSubplot:ylabel='Section'>"
      ]
     },
     "execution_count": 25,
     "metadata": {},
     "output_type": "execute_result"
    },
    {
     "data": {
      "image/png": "[encoded data removed]",
      "text/plain": [
       "<Figure size 1080x504 with 1 Axes>"
      ]
     },
     "metadata": {
      "needs_background": "light"
     },
     "output_type": "display_data"
    }
   ],
   "source": [
    "# plotting count of requests by section\n",
    "plt.figure(figsize=(15,7))\n",
    "requests_by_section['Request_Count'].sort_values(ascending=True).plot(kind='barh')"
   ]
  },
  {
   "cell_type": "markdown",
   "id": "6a67255c",
   "metadata": {},
   "source": [
    "By far, the most frequent division section is Collections – making up 42% of the total requests (145,689 out of 347,748). Let's quickly take a look at what types of requests are being serviced by the Collections Department Section."
   ]
  },
  {
   "cell_type": "code",
   "execution_count": 26,
   "id": "d2a93159",
   "metadata": {},
   "outputs": [
    {
     "data": {
      "text/plain": [
       "Division\n",
       "Solid Waste Management Services    145689\n",
       "dtype: int64"
      ]
     },
     "execution_count": 26,
     "metadata": {},
     "output_type": "execute_result"
    }
   ],
   "source": [
    "collections_requests = requests_2020[requests_2020['Section'] == 'Collections'].copy()\n",
    "collections_requests.groupby('Division').size()"
   ]
  },
  {
   "cell_type": "code",
   "execution_count": 27,
   "id": "56915fb8",
   "metadata": {},
   "outputs": [
    {
     "data": {
      "text/plain": [
       "Service Request Type\n",
       "Residential: Bin: Repair or Replace Lid                      16620\n",
       "Res / Garbage / Not Picked Up                                 8373\n",
       "Residential Furniture / Not Picked Up                         8207\n",
       "All / Hazardous Waste / Pick Up Request                       8155\n",
       "Residential: Bin: Repair or Replace Body/Handle               7455\n",
       "                                                             ...  \n",
       "FEL Non-Res Xmas Tree / Not Picked Up                            2\n",
       "Property Damaged/Litter Operations                               1\n",
       "Non-Res XMAS Tree Nite / Not Picked Up                           1\n",
       "Multi-Res / Ewaste / Not Picked Up                               1\n",
       "Res / Nite Org&Garbage Multiple Addresses / Not Picked Up        1\n",
       "Length: 176, dtype: int64"
      ]
     },
     "execution_count": 27,
     "metadata": {},
     "output_type": "execute_result"
    }
   ],
   "source": [
    "collections_requests.groupby('Service Request Type').size().sort_values(ascending=False)"
   ]
  },
  {
   "cell_type": "markdown",
   "id": "c2b4787b",
   "metadata": {},
   "source": [
    "So many broken residential bins!\n",
    "\n",
    "This section data is clean and a good size for our analysis (20 total), so we will use the sections moving forward as our \"type\" of service request. "
   ]
  },
  {
   "cell_type": "markdown",
   "id": "802faab6",
   "metadata": {},
   "source": [
    "### [↑](#TOC) Date + Time <a name=\"date-time\"></a> \n",
    "We have been provided with a detailed time for the request creation, which we will extract for our analysis. "
   ]
  },
  {
   "cell_type": "code",
   "execution_count": 28,
   "id": "9c9796be",
   "metadata": {},
   "outputs": [
    {
     "data": {
      "text/plain": [
       "'2020-01-01 00:01:46.0000000'"
      ]
     },
     "execution_count": 28,
     "metadata": {},
     "output_type": "execute_result"
    }
   ],
   "source": [
    "# Current date/time format\n",
    "requests_2020['Creation Date'][0]"
   ]
  },
  {
   "cell_type": "code",
   "execution_count": 29,
   "id": "795cc5e5",
   "metadata": {
    "scrolled": false
   },
   "outputs": [],
   "source": [
    "# converting 'Creation Date' column to datetime format, extracting date and converting to seperate column\n",
    "requests_2020['Date'] = pd.to_datetime(pd.to_datetime(requests_2020['Creation Date']).dt.date)\n",
    "\n",
    "# converting 'Creation Date' column to datetime format, extracting date and converting to seperate column\n",
    "requests_2020['Time'] = (pd.to_datetime(requests_2020['Creation Date']).dt.time)\n",
    "\n",
    "# extract the hour from 'Creation Date' column - to analyse without minute or second data\n",
    "requests_2020['Hour'] = pd.to_datetime(requests_2020['Creation Date']).dt.hour\n",
    "\n",
    "# drop full 'Creation Date' column\n",
    "requests_2020.drop(columns ='Creation Date', inplace=True)"
   ]
  },
  {
   "cell_type": "code",
   "execution_count": 30,
   "id": "90196e0d",
   "metadata": {},
   "outputs": [
    {
     "data": {
      "text/html": [
       "<div>\n",
       "<style scoped>\n",
       "    .dataframe tbody tr th:only-of-type {\n",
       "        vertical-align: middle;\n",
       "    }\n",
       "\n",
       "    .dataframe tbody tr th {\n",
       "        vertical-align: top;\n",
       "    }\n",
       "\n",
       "    .dataframe thead th {\n",
       "        text-align: right;\n",
       "    }\n",
       "</style>\n",
       "<table border=\"1\" class=\"dataframe\">\n",
       "  <thead>\n",
       "    <tr style=\"text-align: right;\">\n",
       "      <th></th>\n",
       "      <th>Status</th>\n",
       "      <th>First 3 Chars of Postal Code</th>\n",
       "      <th>Intersection Street 1</th>\n",
       "      <th>Intersection Street 2</th>\n",
       "      <th>Ward</th>\n",
       "      <th>Service Request Type</th>\n",
       "      <th>Division</th>\n",
       "      <th>Section</th>\n",
       "      <th>Date</th>\n",
       "      <th>Time</th>\n",
       "      <th>Hour</th>\n",
       "    </tr>\n",
       "  </thead>\n",
       "  <tbody>\n",
       "    <tr>\n",
       "      <th>0</th>\n",
       "      <td>Closed</td>\n",
       "      <td>Intersection</td>\n",
       "      <td>Chaplin Cres</td>\n",
       "      <td>Davisville Ave</td>\n",
       "      <td>Toronto-St. Paul's (12)</td>\n",
       "      <td>INJUR/DIST DOMESTIC</td>\n",
       "      <td>Municipal Licensing &amp; Standards</td>\n",
       "      <td>Toronto Animal Services</td>\n",
       "      <td>2020-01-01</td>\n",
       "      <td>00:01:46</td>\n",
       "      <td>0</td>\n",
       "    </tr>\n",
       "    <tr>\n",
       "      <th>1</th>\n",
       "      <td>Closed</td>\n",
       "      <td>M4C</td>\n",
       "      <td>NaN</td>\n",
       "      <td>NaN</td>\n",
       "      <td>Beaches-East York (19)</td>\n",
       "      <td>Sewer Service Line-Blocked</td>\n",
       "      <td>Toronto Water</td>\n",
       "      <td>District Ops</td>\n",
       "      <td>2020-01-01</td>\n",
       "      <td>01:36:56</td>\n",
       "      <td>1</td>\n",
       "    </tr>\n",
       "    <tr>\n",
       "      <th>2</th>\n",
       "      <td>Closed</td>\n",
       "      <td>M9A</td>\n",
       "      <td>NaN</td>\n",
       "      <td>NaN</td>\n",
       "      <td>Etobicoke-Lakeshore (03)</td>\n",
       "      <td>ENF/INVEST MUZZLE</td>\n",
       "      <td>Municipal Licensing &amp; Standards</td>\n",
       "      <td>Toronto Animal Services</td>\n",
       "      <td>2020-01-01</td>\n",
       "      <td>02:42:16</td>\n",
       "      <td>2</td>\n",
       "    </tr>\n",
       "    <tr>\n",
       "      <th>3</th>\n",
       "      <td>Closed</td>\n",
       "      <td>M6C</td>\n",
       "      <td>NaN</td>\n",
       "      <td>NaN</td>\n",
       "      <td>Toronto-St. Paul's (12)</td>\n",
       "      <td>Hydrant-Damage</td>\n",
       "      <td>Toronto Water</td>\n",
       "      <td>District Ops</td>\n",
       "      <td>2020-01-01</td>\n",
       "      <td>02:52:29</td>\n",
       "      <td>2</td>\n",
       "    </tr>\n",
       "    <tr>\n",
       "      <th>4</th>\n",
       "      <td>Closed</td>\n",
       "      <td>Intersection</td>\n",
       "      <td>Don Mills Rd</td>\n",
       "      <td>Sheppard Ave E</td>\n",
       "      <td>Don Valley North (17)</td>\n",
       "      <td>Traffic Signal Maintenance</td>\n",
       "      <td>Transportation Services</td>\n",
       "      <td>TMC</td>\n",
       "      <td>2020-01-01</td>\n",
       "      <td>02:56:34</td>\n",
       "      <td>2</td>\n",
       "    </tr>\n",
       "  </tbody>\n",
       "</table>\n",
       "</div>"
      ],
      "text/plain": [
       "   Status First 3 Chars of Postal Code Intersection Street 1  \\\n",
       "0  Closed                 Intersection          Chaplin Cres   \n",
       "1  Closed                          M4C                   NaN   \n",
       "2  Closed                          M9A                   NaN   \n",
       "3  Closed                          M6C                   NaN   \n",
       "4  Closed                 Intersection          Don Mills Rd   \n",
       "\n",
       "  Intersection Street 2                      Ward        Service Request Type  \\\n",
       "0        Davisville Ave   Toronto-St. Paul's (12)         INJUR/DIST DOMESTIC   \n",
       "1                   NaN    Beaches-East York (19)  Sewer Service Line-Blocked   \n",
       "2                   NaN  Etobicoke-Lakeshore (03)           ENF/INVEST MUZZLE   \n",
       "3                   NaN   Toronto-St. Paul's (12)              Hydrant-Damage   \n",
       "4        Sheppard Ave E     Don Valley North (17)  Traffic Signal Maintenance   \n",
       "\n",
       "                          Division                  Section       Date  \\\n",
       "0  Municipal Licensing & Standards  Toronto Animal Services 2020-01-01   \n",
       "1                    Toronto Water             District Ops 2020-01-01   \n",
       "2  Municipal Licensing & Standards  Toronto Animal Services 2020-01-01   \n",
       "3                    Toronto Water             District Ops 2020-01-01   \n",
       "4          Transportation Services                      TMC 2020-01-01   \n",
       "\n",
       "       Time  Hour  \n",
       "0  00:01:46     0  \n",
       "1  01:36:56     1  \n",
       "2  02:42:16     2  \n",
       "3  02:52:29     2  \n",
       "4  02:56:34     2  "
      ]
     },
     "execution_count": 30,
     "metadata": {},
     "output_type": "execute_result"
    }
   ],
   "source": [
    "requests_2020.head()"
   ]
  },
  {
   "cell_type": "code",
   "execution_count": 31,
   "id": "49b37d63",
   "metadata": {},
   "outputs": [],
   "source": [
    "# formatting data to plot in Seaborn\n",
    "requests_2020_by_day = requests_2020.groupby('Date').size()\n",
    "requests_2020_by_day = pd.DataFrame(requests_2020_by_day, columns=['Requests']).reset_index()"
   ]
  },
  {
   "cell_type": "code",
   "execution_count": 32,
   "id": "bf4f37e4",
   "metadata": {},
   "outputs": [
    {
     "data": {
      "text/html": [
       "<div>\n",
       "<style scoped>\n",
       "    .dataframe tbody tr th:only-of-type {\n",
       "        vertical-align: middle;\n",
       "    }\n",
       "\n",
       "    .dataframe tbody tr th {\n",
       "        vertical-align: top;\n",
       "    }\n",
       "\n",
       "    .dataframe thead th {\n",
       "        text-align: right;\n",
       "    }\n",
       "</style>\n",
       "<table border=\"1\" class=\"dataframe\">\n",
       "  <thead>\n",
       "    <tr style=\"text-align: right;\">\n",
       "      <th></th>\n",
       "      <th>Date</th>\n",
       "      <th>Requests</th>\n",
       "    </tr>\n",
       "  </thead>\n",
       "  <tbody>\n",
       "    <tr>\n",
       "      <th>0</th>\n",
       "      <td>2020-01-01</td>\n",
       "      <td>333</td>\n",
       "    </tr>\n",
       "    <tr>\n",
       "      <th>1</th>\n",
       "      <td>2020-01-02</td>\n",
       "      <td>1046</td>\n",
       "    </tr>\n",
       "    <tr>\n",
       "      <th>2</th>\n",
       "      <td>2020-01-03</td>\n",
       "      <td>1129</td>\n",
       "    </tr>\n",
       "    <tr>\n",
       "      <th>3</th>\n",
       "      <td>2020-01-04</td>\n",
       "      <td>598</td>\n",
       "    </tr>\n",
       "    <tr>\n",
       "      <th>4</th>\n",
       "      <td>2020-01-05</td>\n",
       "      <td>414</td>\n",
       "    </tr>\n",
       "  </tbody>\n",
       "</table>\n",
       "</div>"
      ],
      "text/plain": [
       "        Date  Requests\n",
       "0 2020-01-01       333\n",
       "1 2020-01-02      1046\n",
       "2 2020-01-03      1129\n",
       "3 2020-01-04       598\n",
       "4 2020-01-05       414"
      ]
     },
     "execution_count": 32,
     "metadata": {},
     "output_type": "execute_result"
    }
   ],
   "source": [
    "requests_2020_by_day.head()"
   ]
  },
  {
   "cell_type": "code",
   "execution_count": 33,
   "id": "69e1fe21",
   "metadata": {
    "scrolled": false
   },
   "outputs": [
    {
     "data": {
      "text/plain": [
       "<AxesSubplot:xlabel='Date', ylabel='Requests'>"
      ]
     },
     "execution_count": 33,
     "metadata": {},
     "output_type": "execute_result"
    },
    {
     "data": {
      "image/png": "[encoded data removed]",
      "text/plain": [
       "<Figure size 1296x576 with 1 Axes>"
      ]
     },
     "metadata": {
      "needs_background": "light"
     },
     "output_type": "display_data"
    }
   ],
   "source": [
    "plt.figure(figsize=(18,8))\n",
    "sns.lineplot(data=requests_2020_by_day, x=\"Date\", y=\"Requests\")"
   ]
  },
  {
   "cell_type": "markdown",
   "id": "a1a4c7d1",
   "metadata": {},
   "source": [
    "We see fairly consistent peaks and valleys throughout the year. Let's take a look at one month. "
   ]
  },
  {
   "cell_type": "code",
   "execution_count": 34,
   "id": "9c37e45d",
   "metadata": {},
   "outputs": [],
   "source": [
    "# filtering data to just look at January\n",
    "requests_jan_2020 = requests_2020[requests_2020['Date'].dt.month == 1].groupby('Date').size()\n",
    "requests_jan_2020 = pd.DataFrame(requests_jan_2020, columns=['Requests'])"
   ]
  },
  {
   "cell_type": "code",
   "execution_count": 35,
   "id": "71e1e8ae",
   "metadata": {},
   "outputs": [
    {
     "data": {
      "text/plain": [
       "<AxesSubplot:xlabel='Date', ylabel='Requests'>"
      ]
     },
     "execution_count": 35,
     "metadata": {},
     "output_type": "execute_result"
    },
    {
     "data": {
      "image/png": "[encoded data removed]",
      "text/plain": [
       "<Figure size 1296x576 with 1 Axes>"
      ]
     },
     "metadata": {
      "needs_background": "light"
     },
     "output_type": "display_data"
    }
   ],
   "source": [
    "plt.figure(figsize=(18,8))\n",
    "sns.lineplot(data=requests_jan_2020, x='Date', y='Requests')"
   ]
  },
  {
   "cell_type": "markdown",
   "id": "e53dc1a6",
   "metadata": {},
   "source": [
    "We're now seeing four distinct request dips in January – my guess is that this is due to the effect of weekends. Let's engineer some new features = day of week and weekend:"
   ]
  },
  {
   "cell_type": "code",
   "execution_count": 36,
   "id": "e7a6058a",
   "metadata": {},
   "outputs": [],
   "source": [
    "# create day of week column\n",
    "requests_2020['Day of Week'] = requests_2020['Date'].dt.day_name()"
   ]
  },
  {
   "cell_type": "code",
   "execution_count": 37,
   "id": "958ca3ef",
   "metadata": {},
   "outputs": [],
   "source": [
    "# create weekend column: 1 = day is on a weekend, 0 = day is not on a weekend\n",
    "requests_2020['Weekend'] = np.where(requests_2020['Day of Week'].isin(['Saturday', 'Sunday']), 1, 0)"
   ]
  },
  {
   "cell_type": "code",
   "execution_count": 38,
   "id": "08f7de28",
   "metadata": {
    "scrolled": true
   },
   "outputs": [
    {
     "data": {
      "text/html": [
       "<div>\n",
       "<style scoped>\n",
       "    .dataframe tbody tr th:only-of-type {\n",
       "        vertical-align: middle;\n",
       "    }\n",
       "\n",
       "    .dataframe tbody tr th {\n",
       "        vertical-align: top;\n",
       "    }\n",
       "\n",
       "    .dataframe thead th {\n",
       "        text-align: right;\n",
       "    }\n",
       "</style>\n",
       "<table border=\"1\" class=\"dataframe\">\n",
       "  <thead>\n",
       "    <tr style=\"text-align: right;\">\n",
       "      <th></th>\n",
       "      <th>Status</th>\n",
       "      <th>First 3 Chars of Postal Code</th>\n",
       "      <th>Intersection Street 1</th>\n",
       "      <th>Intersection Street 2</th>\n",
       "      <th>Ward</th>\n",
       "      <th>Service Request Type</th>\n",
       "      <th>Division</th>\n",
       "      <th>Section</th>\n",
       "      <th>Date</th>\n",
       "      <th>Time</th>\n",
       "      <th>Hour</th>\n",
       "      <th>Day of Week</th>\n",
       "      <th>Weekend</th>\n",
       "    </tr>\n",
       "  </thead>\n",
       "  <tbody>\n",
       "    <tr>\n",
       "      <th>0</th>\n",
       "      <td>Closed</td>\n",
       "      <td>Intersection</td>\n",
       "      <td>Chaplin Cres</td>\n",
       "      <td>Davisville Ave</td>\n",
       "      <td>Toronto-St. Paul's (12)</td>\n",
       "      <td>INJUR/DIST DOMESTIC</td>\n",
       "      <td>Municipal Licensing &amp; Standards</td>\n",
       "      <td>Toronto Animal Services</td>\n",
       "      <td>2020-01-01</td>\n",
       "      <td>00:01:46</td>\n",
       "      <td>0</td>\n",
       "      <td>Wednesday</td>\n",
       "      <td>0</td>\n",
       "    </tr>\n",
       "  </tbody>\n",
       "</table>\n",
       "</div>"
      ],
      "text/plain": [
       "   Status First 3 Chars of Postal Code Intersection Street 1  \\\n",
       "0  Closed                 Intersection          Chaplin Cres   \n",
       "\n",
       "  Intersection Street 2                     Ward Service Request Type  \\\n",
       "0        Davisville Ave  Toronto-St. Paul's (12)  INJUR/DIST DOMESTIC   \n",
       "\n",
       "                          Division                  Section       Date  \\\n",
       "0  Municipal Licensing & Standards  Toronto Animal Services 2020-01-01   \n",
       "\n",
       "       Time  Hour Day of Week  Weekend  \n",
       "0  00:01:46     0   Wednesday        0  "
      ]
     },
     "execution_count": 38,
     "metadata": {},
     "output_type": "execute_result"
    }
   ],
   "source": [
    "requests_2020.head(1)"
   ]
  },
  {
   "cell_type": "code",
   "execution_count": 39,
   "id": "50221e75",
   "metadata": {},
   "outputs": [
    {
     "data": {
      "text/plain": [
       "Day of Week\n",
       "Wednesday    63114\n",
       "Thursday     62720\n",
       "Tuesday      62555\n",
       "Friday       57322\n",
       "Monday       52651\n",
       "Saturday     26498\n",
       "Sunday       22888\n",
       "dtype: int64"
      ]
     },
     "execution_count": 39,
     "metadata": {},
     "output_type": "execute_result"
    }
   ],
   "source": [
    "requests_2020.groupby('Day of Week').size().sort_values(ascending=False)"
   ]
  },
  {
   "cell_type": "code",
   "execution_count": 40,
   "id": "10fb5886",
   "metadata": {},
   "outputs": [
    {
     "data": {
      "text/plain": [
       "<AxesSubplot:xlabel='Day of Week'>"
      ]
     },
     "execution_count": 40,
     "metadata": {},
     "output_type": "execute_result"
    },
    {
     "data": {
      "image/png": "[encoded data removed]",
      "text/plain": [
       "<Figure size 1152x576 with 1 Axes>"
      ]
     },
     "metadata": {
      "needs_background": "light"
     },
     "output_type": "display_data"
    }
   ],
   "source": [
    "# plot the count of service requests recieved based on day of week \n",
    "\n",
    "plt.figure(figsize=(16,8))\n",
    "requests_2020.groupby('Day of Week').size().sort_values(ascending=False).plot(kind='bar')"
   ]
  },
  {
   "cell_type": "markdown",
   "id": "92f96755",
   "metadata": {},
   "source": [
    "### [↑](#TOC) Locations <a name=\"location\"></a> \n",
    "\n",
    "#### Intersections vs. Postal Codes\n",
    "We notice that some requests provide the first 3 digits of a postal code (AKA the forward sortation area / FSA) while others have the value \"intersection\" and two corresponding streets. Let's take a look at how many requests have an intersection value instead of a FSA, and how they are distributed, so we can sort out what to do with them."
   ]
  },
  {
   "cell_type": "code",
   "execution_count": 41,
   "id": "5ee40786",
   "metadata": {},
   "outputs": [
    {
     "data": {
      "text/html": [
       "<div>\n",
       "<style scoped>\n",
       "    .dataframe tbody tr th:only-of-type {\n",
       "        vertical-align: middle;\n",
       "    }\n",
       "\n",
       "    .dataframe tbody tr th {\n",
       "        vertical-align: top;\n",
       "    }\n",
       "\n",
       "    .dataframe thead th {\n",
       "        text-align: right;\n",
       "    }\n",
       "</style>\n",
       "<table border=\"1\" class=\"dataframe\">\n",
       "  <thead>\n",
       "    <tr style=\"text-align: right;\">\n",
       "      <th></th>\n",
       "      <th>Status</th>\n",
       "      <th>First 3 Chars of Postal Code</th>\n",
       "      <th>Intersection Street 1</th>\n",
       "      <th>Intersection Street 2</th>\n",
       "      <th>Ward</th>\n",
       "      <th>Service Request Type</th>\n",
       "      <th>Division</th>\n",
       "      <th>Section</th>\n",
       "      <th>Date</th>\n",
       "      <th>Time</th>\n",
       "      <th>Hour</th>\n",
       "      <th>Day of Week</th>\n",
       "      <th>Weekend</th>\n",
       "    </tr>\n",
       "  </thead>\n",
       "  <tbody>\n",
       "    <tr>\n",
       "      <th>0</th>\n",
       "      <td>Closed</td>\n",
       "      <td>Intersection</td>\n",
       "      <td>Chaplin Cres</td>\n",
       "      <td>Davisville Ave</td>\n",
       "      <td>Toronto-St. Paul's (12)</td>\n",
       "      <td>INJUR/DIST DOMESTIC</td>\n",
       "      <td>Municipal Licensing &amp; Standards</td>\n",
       "      <td>Toronto Animal Services</td>\n",
       "      <td>2020-01-01</td>\n",
       "      <td>00:01:46</td>\n",
       "      <td>0</td>\n",
       "      <td>Wednesday</td>\n",
       "      <td>0</td>\n",
       "    </tr>\n",
       "    <tr>\n",
       "      <th>1</th>\n",
       "      <td>Closed</td>\n",
       "      <td>M4C</td>\n",
       "      <td>NaN</td>\n",
       "      <td>NaN</td>\n",
       "      <td>Beaches-East York (19)</td>\n",
       "      <td>Sewer Service Line-Blocked</td>\n",
       "      <td>Toronto Water</td>\n",
       "      <td>District Ops</td>\n",
       "      <td>2020-01-01</td>\n",
       "      <td>01:36:56</td>\n",
       "      <td>1</td>\n",
       "      <td>Wednesday</td>\n",
       "      <td>0</td>\n",
       "    </tr>\n",
       "    <tr>\n",
       "      <th>2</th>\n",
       "      <td>Closed</td>\n",
       "      <td>M9A</td>\n",
       "      <td>NaN</td>\n",
       "      <td>NaN</td>\n",
       "      <td>Etobicoke-Lakeshore (03)</td>\n",
       "      <td>ENF/INVEST MUZZLE</td>\n",
       "      <td>Municipal Licensing &amp; Standards</td>\n",
       "      <td>Toronto Animal Services</td>\n",
       "      <td>2020-01-01</td>\n",
       "      <td>02:42:16</td>\n",
       "      <td>2</td>\n",
       "      <td>Wednesday</td>\n",
       "      <td>0</td>\n",
       "    </tr>\n",
       "    <tr>\n",
       "      <th>3</th>\n",
       "      <td>Closed</td>\n",
       "      <td>M6C</td>\n",
       "      <td>NaN</td>\n",
       "      <td>NaN</td>\n",
       "      <td>Toronto-St. Paul's (12)</td>\n",
       "      <td>Hydrant-Damage</td>\n",
       "      <td>Toronto Water</td>\n",
       "      <td>District Ops</td>\n",
       "      <td>2020-01-01</td>\n",
       "      <td>02:52:29</td>\n",
       "      <td>2</td>\n",
       "      <td>Wednesday</td>\n",
       "      <td>0</td>\n",
       "    </tr>\n",
       "    <tr>\n",
       "      <th>4</th>\n",
       "      <td>Closed</td>\n",
       "      <td>Intersection</td>\n",
       "      <td>Don Mills Rd</td>\n",
       "      <td>Sheppard Ave E</td>\n",
       "      <td>Don Valley North (17)</td>\n",
       "      <td>Traffic Signal Maintenance</td>\n",
       "      <td>Transportation Services</td>\n",
       "      <td>TMC</td>\n",
       "      <td>2020-01-01</td>\n",
       "      <td>02:56:34</td>\n",
       "      <td>2</td>\n",
       "      <td>Wednesday</td>\n",
       "      <td>0</td>\n",
       "    </tr>\n",
       "  </tbody>\n",
       "</table>\n",
       "</div>"
      ],
      "text/plain": [
       "   Status First 3 Chars of Postal Code Intersection Street 1  \\\n",
       "0  Closed                 Intersection          Chaplin Cres   \n",
       "1  Closed                          M4C                   NaN   \n",
       "2  Closed                          M9A                   NaN   \n",
       "3  Closed                          M6C                   NaN   \n",
       "4  Closed                 Intersection          Don Mills Rd   \n",
       "\n",
       "  Intersection Street 2                      Ward        Service Request Type  \\\n",
       "0        Davisville Ave   Toronto-St. Paul's (12)         INJUR/DIST DOMESTIC   \n",
       "1                   NaN    Beaches-East York (19)  Sewer Service Line-Blocked   \n",
       "2                   NaN  Etobicoke-Lakeshore (03)           ENF/INVEST MUZZLE   \n",
       "3                   NaN   Toronto-St. Paul's (12)              Hydrant-Damage   \n",
       "4        Sheppard Ave E     Don Valley North (17)  Traffic Signal Maintenance   \n",
       "\n",
       "                          Division                  Section       Date  \\\n",
       "0  Municipal Licensing & Standards  Toronto Animal Services 2020-01-01   \n",
       "1                    Toronto Water             District Ops 2020-01-01   \n",
       "2  Municipal Licensing & Standards  Toronto Animal Services 2020-01-01   \n",
       "3                    Toronto Water             District Ops 2020-01-01   \n",
       "4          Transportation Services                      TMC 2020-01-01   \n",
       "\n",
       "       Time  Hour Day of Week  Weekend  \n",
       "0  00:01:46     0   Wednesday        0  \n",
       "1  01:36:56     1   Wednesday        0  \n",
       "2  02:42:16     2   Wednesday        0  \n",
       "3  02:52:29     2   Wednesday        0  \n",
       "4  02:56:34     2   Wednesday        0  "
      ]
     },
     "execution_count": 41,
     "metadata": {},
     "output_type": "execute_result"
    }
   ],
   "source": [
    "requests_2020.head()"
   ]
  },
  {
   "cell_type": "markdown",
   "id": "44b726cd",
   "metadata": {},
   "source": [
    "First off, how many requests have an intersection value vs. postal code?"
   ]
  },
  {
   "cell_type": "code",
   "execution_count": 42,
   "id": "4d75ab34",
   "metadata": {},
   "outputs": [],
   "source": [
    "# creating a dataframe with just the intersection values\n",
    "requests_2020_intersection = requests_2020[requests_2020['First 3 Chars of Postal Code'] == 'Intersection'].copy()"
   ]
  },
  {
   "cell_type": "code",
   "execution_count": 43,
   "id": "961f43c0",
   "metadata": {},
   "outputs": [
    {
     "data": {
      "text/html": [
       "<div>\n",
       "<style scoped>\n",
       "    .dataframe tbody tr th:only-of-type {\n",
       "        vertical-align: middle;\n",
       "    }\n",
       "\n",
       "    .dataframe tbody tr th {\n",
       "        vertical-align: top;\n",
       "    }\n",
       "\n",
       "    .dataframe thead th {\n",
       "        text-align: right;\n",
       "    }\n",
       "</style>\n",
       "<table border=\"1\" class=\"dataframe\">\n",
       "  <thead>\n",
       "    <tr style=\"text-align: right;\">\n",
       "      <th></th>\n",
       "      <th>Status</th>\n",
       "      <th>First 3 Chars of Postal Code</th>\n",
       "      <th>Intersection Street 1</th>\n",
       "      <th>Intersection Street 2</th>\n",
       "      <th>Ward</th>\n",
       "      <th>Service Request Type</th>\n",
       "      <th>Division</th>\n",
       "      <th>Section</th>\n",
       "      <th>Date</th>\n",
       "      <th>Time</th>\n",
       "      <th>Hour</th>\n",
       "      <th>Day of Week</th>\n",
       "      <th>Weekend</th>\n",
       "    </tr>\n",
       "  </thead>\n",
       "  <tbody>\n",
       "    <tr>\n",
       "      <th>0</th>\n",
       "      <td>Closed</td>\n",
       "      <td>Intersection</td>\n",
       "      <td>Chaplin Cres</td>\n",
       "      <td>Davisville Ave</td>\n",
       "      <td>Toronto-St. Paul's (12)</td>\n",
       "      <td>INJUR/DIST DOMESTIC</td>\n",
       "      <td>Municipal Licensing &amp; Standards</td>\n",
       "      <td>Toronto Animal Services</td>\n",
       "      <td>2020-01-01</td>\n",
       "      <td>00:01:46</td>\n",
       "      <td>0</td>\n",
       "      <td>Wednesday</td>\n",
       "      <td>0</td>\n",
       "    </tr>\n",
       "    <tr>\n",
       "      <th>4</th>\n",
       "      <td>Closed</td>\n",
       "      <td>Intersection</td>\n",
       "      <td>Don Mills Rd</td>\n",
       "      <td>Sheppard Ave E</td>\n",
       "      <td>Don Valley North (17)</td>\n",
       "      <td>Traffic Signal Maintenance</td>\n",
       "      <td>Transportation Services</td>\n",
       "      <td>TMC</td>\n",
       "      <td>2020-01-01</td>\n",
       "      <td>02:56:34</td>\n",
       "      <td>2</td>\n",
       "      <td>Wednesday</td>\n",
       "      <td>0</td>\n",
       "    </tr>\n",
       "    <tr>\n",
       "      <th>8</th>\n",
       "      <td>Closed</td>\n",
       "      <td>Intersection</td>\n",
       "      <td>Kingston Rd</td>\n",
       "      <td>Galloway Rd</td>\n",
       "      <td>Scarborough-Guildwood (24)</td>\n",
       "      <td>Road - Sanding / Salting Required</td>\n",
       "      <td>Transportation Services</td>\n",
       "      <td>Road Operations</td>\n",
       "      <td>2020-01-01</td>\n",
       "      <td>07:43:14</td>\n",
       "      <td>7</td>\n",
       "      <td>Wednesday</td>\n",
       "      <td>0</td>\n",
       "    </tr>\n",
       "    <tr>\n",
       "      <th>9</th>\n",
       "      <td>Closed</td>\n",
       "      <td>Intersection</td>\n",
       "      <td>Kingston Rd</td>\n",
       "      <td>Celeste Dr</td>\n",
       "      <td>Scarborough-Guildwood (24)</td>\n",
       "      <td>Road - Sanding / Salting Required</td>\n",
       "      <td>Transportation Services</td>\n",
       "      <td>Road Operations</td>\n",
       "      <td>2020-01-01</td>\n",
       "      <td>07:49:22</td>\n",
       "      <td>7</td>\n",
       "      <td>Wednesday</td>\n",
       "      <td>0</td>\n",
       "    </tr>\n",
       "    <tr>\n",
       "      <th>13</th>\n",
       "      <td>Closed</td>\n",
       "      <td>Intersection</td>\n",
       "      <td>Starview Lane</td>\n",
       "      <td>Humber River Recreational Trl</td>\n",
       "      <td>Humber River-Black Creek (07)</td>\n",
       "      <td>Traffic Signal Maintenance</td>\n",
       "      <td>Transportation Services</td>\n",
       "      <td>TMC</td>\n",
       "      <td>2020-01-01</td>\n",
       "      <td>08:18:46</td>\n",
       "      <td>8</td>\n",
       "      <td>Wednesday</td>\n",
       "      <td>0</td>\n",
       "    </tr>\n",
       "  </tbody>\n",
       "</table>\n",
       "</div>"
      ],
      "text/plain": [
       "    Status First 3 Chars of Postal Code Intersection Street 1  \\\n",
       "0   Closed                 Intersection          Chaplin Cres   \n",
       "4   Closed                 Intersection          Don Mills Rd   \n",
       "8   Closed                 Intersection           Kingston Rd   \n",
       "9   Closed                 Intersection           Kingston Rd   \n",
       "13  Closed                 Intersection         Starview Lane   \n",
       "\n",
       "            Intersection Street 2                           Ward  \\\n",
       "0                  Davisville Ave        Toronto-St. Paul's (12)   \n",
       "4                  Sheppard Ave E          Don Valley North (17)   \n",
       "8                     Galloway Rd     Scarborough-Guildwood (24)   \n",
       "9                      Celeste Dr     Scarborough-Guildwood (24)   \n",
       "13  Humber River Recreational Trl  Humber River-Black Creek (07)   \n",
       "\n",
       "                 Service Request Type                         Division  \\\n",
       "0                 INJUR/DIST DOMESTIC  Municipal Licensing & Standards   \n",
       "4          Traffic Signal Maintenance          Transportation Services   \n",
       "8   Road - Sanding / Salting Required          Transportation Services   \n",
       "9   Road - Sanding / Salting Required          Transportation Services   \n",
       "13         Traffic Signal Maintenance          Transportation Services   \n",
       "\n",
       "                    Section       Date      Time  Hour Day of Week  Weekend  \n",
       "0   Toronto Animal Services 2020-01-01  00:01:46     0   Wednesday        0  \n",
       "4                       TMC 2020-01-01  02:56:34     2   Wednesday        0  \n",
       "8           Road Operations 2020-01-01  07:43:14     7   Wednesday        0  \n",
       "9           Road Operations 2020-01-01  07:49:22     7   Wednesday        0  \n",
       "13                      TMC 2020-01-01  08:18:46     8   Wednesday        0  "
      ]
     },
     "execution_count": 43,
     "metadata": {},
     "output_type": "execute_result"
    }
   ],
   "source": [
    "requests_2020_intersection.head()"
   ]
  },
  {
   "cell_type": "code",
   "execution_count": 44,
   "id": "e3be087b",
   "metadata": {},
   "outputs": [
    {
     "name": "stdout",
     "output_type": "stream",
     "text": [
      "Requests that list intersections as opposed to postal codes make up 11.74% of the total requests:\n",
      "40836 of the total 347748.\n"
     ]
    }
   ],
   "source": [
    "print(f'Requests that list intersections as opposed to postal codes make up {round(requests_2020_intersection.shape[0] / total_requests_2020 * 100, 2)}% of the total requests:\\n{requests_2020_intersection.shape[0]} of the total {total_requests_2020}.')"
   ]
  },
  {
   "cell_type": "code",
   "execution_count": 45,
   "id": "a15f7793",
   "metadata": {},
   "outputs": [
    {
     "data": {
      "text/plain": [
       "Intersection Street 1  Intersection Street 2\n",
       "King St W              John St                  671\n",
       "F G Gardiner Xy W      Jameson Ave               69\n",
       "Don Mills Rd           Eglinton Ave E            67\n",
       "Marine Parade Dr       Lake Shore Blvd W         61\n",
       "Bathurst St            Wilson Ave                60\n",
       "                                               ... \n",
       "Fort York Blvd         Angelique St               1\n",
       "Fort Dearborn Dr       Perthshire St              1\n",
       "Forsythia Dr           Lyncroft Dr                1\n",
       "Forman Ave             Soudan Ave                 1\n",
       "Gilmour Ave            Woodside Ave               1\n",
       "Length: 9783, dtype: int64"
      ]
     },
     "execution_count": 45,
     "metadata": {},
     "output_type": "execute_result"
    }
   ],
   "source": [
    "unique_intersections = requests_2020.groupby(['Intersection Street 1', 'Intersection Street 2']).size().sort_values(ascending=False)\n",
    "unique_intersections"
   ]
  },
  {
   "cell_type": "code",
   "execution_count": 46,
   "id": "10044d95",
   "metadata": {},
   "outputs": [
    {
     "name": "stdout",
     "output_type": "stream",
     "text": [
      "Of the 40836 requests that list intersections, only 9783 intersections are unique.\n"
     ]
    }
   ],
   "source": [
    "print(f'Of the {requests_2020_intersection.shape[0]} requests that list intersections, only {unique_intersections.shape[0]} intersections are unique.')"
   ]
  },
  {
   "cell_type": "code",
   "execution_count": 47,
   "id": "45d7f86b",
   "metadata": {},
   "outputs": [
    {
     "data": {
      "text/plain": [
       "<AxesSubplot:ylabel='Intersection Street 1,Intersection Street 2'>"
      ]
     },
     "execution_count": 47,
     "metadata": {},
     "output_type": "execute_result"
    },
    {
     "data": {
      "image/png": "[encoded data removed]",
      "text/plain": [
       "<Figure size 1152x360 with 1 Axes>"
      ]
     },
     "metadata": {
      "needs_background": "light"
     },
     "output_type": "display_data"
    }
   ],
   "source": [
    "plt.figure(figsize=(16,5))\n",
    "unique_intersections.head(10).sort_values(ascending=True).plot(kind='barh')"
   ]
  },
  {
   "cell_type": "markdown",
   "id": "a825457b",
   "metadata": {},
   "source": [
    "Interestingly, the intersection of King St. West and John St. is listed for 671 of the requests, far more than any other request. \n",
    "\n",
    "12% of the total values is quite large. Let's see how the requests with intersection data are distributed compared to all the data, by Section and Ward."
   ]
  },
  {
   "cell_type": "code",
   "execution_count": 48,
   "id": "7b72b087",
   "metadata": {
    "scrolled": false
   },
   "outputs": [
    {
     "data": {
      "image/png": "[encoded data removed]",
      "text/plain": [
       "<Figure size 1152x432 with 2 Axes>"
      ]
     },
     "metadata": {
      "needs_background": "light"
     },
     "output_type": "display_data"
    }
   ],
   "source": [
    "# plot the difference in request count by SECTION between requests with intersection location vs. all requests\n",
    "\n",
    "fig, ax = plt.subplots(1, 2, sharex=True, figsize=(16,6))\n",
    "fig.suptitle('Request Count by Section', fontsize=14, weight='bold')\n",
    "\n",
    "# Intersection Requests\n",
    "sns.countplot(ax=ax[0], data=requests_2020_intersection, x='Section', palette='Blues_r')\n",
    "ax[0].set_title('Requests with Intersection')\n",
    "ax[0].tick_params('x',labelrotation=90)\n",
    "\n",
    "# All Requests \n",
    "sns.countplot(ax=ax[1], data=requests_2020, x='Section', palette='Blues_r')\n",
    "ax[1].set_title('All Requests')\n",
    "ax[1].tick_params('x',labelrotation=90)"
   ]
  },
  {
   "cell_type": "code",
   "execution_count": 49,
   "id": "2081edbc",
   "metadata": {},
   "outputs": [
    {
     "data": {
      "image/png": "[encoded data removed]",
      "text/plain": [
       "<Figure size 1152x432 with 2 Axes>"
      ]
     },
     "metadata": {
      "needs_background": "light"
     },
     "output_type": "display_data"
    }
   ],
   "source": [
    "# plot the difference in request count by WARD between requests with intersection location vs. all requests\n",
    "\n",
    "fig, ax = plt.subplots(1, 2, sharex=True, figsize=(16,6))\n",
    "fig.suptitle('Request Count by Ward', fontsize=14, weight='bold')\n",
    "\n",
    "# Intersection Requests\n",
    "sns.countplot(ax=ax[0], data=requests_2020_intersection, x='Ward', palette='Blues_r')\n",
    "ax[0].set_title('Requests with Intersection')\n",
    "ax[0].tick_params('x',labelrotation=90)\n",
    "\n",
    "# All Requests \n",
    "sns.countplot(ax=ax[1], data=requests_2020, x='Ward', palette='Blues_r')\n",
    "ax[1].set_title('All Requests')\n",
    "ax[1].tick_params('x',labelrotation=90)"
   ]
  },
  {
   "cell_type": "markdown",
   "id": "c49902fc",
   "metadata": {},
   "source": [
    "When comparing the request distributions by section and ward, it's clear that the requests with intersection locations do not follow the same general distribution of the overall requests. Unfortunately, we don't have the time to map all the intersection street values to postal codes. Since we know removing the intersection values will skew our data, we will add intersection as a column in our dataset for further consideration, and change their values to NaN in the postal code column:"
   ]
  },
  {
   "cell_type": "code",
   "execution_count": 50,
   "id": "b0c92c4e",
   "metadata": {},
   "outputs": [],
   "source": [
    "# engineering new feature called Intersection: if location is intersection based = 1, postal code based = 0\n",
    "requests_2020['Intersection'] = np.where(requests_2020['First 3 Chars of Postal Code'] == 'Intersection', 1, 0).astype(str)"
   ]
  },
  {
   "cell_type": "code",
   "execution_count": 51,
   "id": "267237d8",
   "metadata": {},
   "outputs": [],
   "source": [
    "# in First 3 Chars of Postal Code column, replace all Intersection values with NaN\n",
    "requests_2020['First 3 Chars of Postal Code'] = requests_2020['First 3 Chars of Postal Code'].replace('Intersection', np.NaN)"
   ]
  },
  {
   "cell_type": "code",
   "execution_count": 52,
   "id": "f0bc98e5",
   "metadata": {},
   "outputs": [],
   "source": [
    "# removing the intersection street columns from our data\n",
    "requests_2020.drop(columns=['Intersection Street 1', 'Intersection Street 2'], inplace=True)"
   ]
  },
  {
   "cell_type": "code",
   "execution_count": 53,
   "id": "fb9f9301",
   "metadata": {},
   "outputs": [
    {
     "data": {
      "text/html": [
       "<div>\n",
       "<style scoped>\n",
       "    .dataframe tbody tr th:only-of-type {\n",
       "        vertical-align: middle;\n",
       "    }\n",
       "\n",
       "    .dataframe tbody tr th {\n",
       "        vertical-align: top;\n",
       "    }\n",
       "\n",
       "    .dataframe thead th {\n",
       "        text-align: right;\n",
       "    }\n",
       "</style>\n",
       "<table border=\"1\" class=\"dataframe\">\n",
       "  <thead>\n",
       "    <tr style=\"text-align: right;\">\n",
       "      <th></th>\n",
       "      <th>Status</th>\n",
       "      <th>First 3 Chars of Postal Code</th>\n",
       "      <th>Ward</th>\n",
       "      <th>Service Request Type</th>\n",
       "      <th>Division</th>\n",
       "      <th>Section</th>\n",
       "      <th>Date</th>\n",
       "      <th>Time</th>\n",
       "      <th>Hour</th>\n",
       "      <th>Day of Week</th>\n",
       "      <th>Weekend</th>\n",
       "      <th>Intersection</th>\n",
       "    </tr>\n",
       "  </thead>\n",
       "  <tbody>\n",
       "    <tr>\n",
       "      <th>0</th>\n",
       "      <td>Closed</td>\n",
       "      <td>NaN</td>\n",
       "      <td>Toronto-St. Paul's (12)</td>\n",
       "      <td>INJUR/DIST DOMESTIC</td>\n",
       "      <td>Municipal Licensing &amp; Standards</td>\n",
       "      <td>Toronto Animal Services</td>\n",
       "      <td>2020-01-01</td>\n",
       "      <td>00:01:46</td>\n",
       "      <td>0</td>\n",
       "      <td>Wednesday</td>\n",
       "      <td>0</td>\n",
       "      <td>1</td>\n",
       "    </tr>\n",
       "    <tr>\n",
       "      <th>1</th>\n",
       "      <td>Closed</td>\n",
       "      <td>M4C</td>\n",
       "      <td>Beaches-East York (19)</td>\n",
       "      <td>Sewer Service Line-Blocked</td>\n",
       "      <td>Toronto Water</td>\n",
       "      <td>District Ops</td>\n",
       "      <td>2020-01-01</td>\n",
       "      <td>01:36:56</td>\n",
       "      <td>1</td>\n",
       "      <td>Wednesday</td>\n",
       "      <td>0</td>\n",
       "      <td>0</td>\n",
       "    </tr>\n",
       "  </tbody>\n",
       "</table>\n",
       "</div>"
      ],
      "text/plain": [
       "   Status First 3 Chars of Postal Code                     Ward  \\\n",
       "0  Closed                          NaN  Toronto-St. Paul's (12)   \n",
       "1  Closed                          M4C   Beaches-East York (19)   \n",
       "\n",
       "         Service Request Type                         Division  \\\n",
       "0         INJUR/DIST DOMESTIC  Municipal Licensing & Standards   \n",
       "1  Sewer Service Line-Blocked                    Toronto Water   \n",
       "\n",
       "                   Section       Date      Time  Hour Day of Week  Weekend  \\\n",
       "0  Toronto Animal Services 2020-01-01  00:01:46     0   Wednesday        0   \n",
       "1             District Ops 2020-01-01  01:36:56     1   Wednesday        0   \n",
       "\n",
       "  Intersection  \n",
       "0            1  \n",
       "1            0  "
      ]
     },
     "execution_count": 53,
     "metadata": {},
     "output_type": "execute_result"
    }
   ],
   "source": [
    "# reviewing our changes \n",
    "requests_2020.head(2)"
   ]
  },
  {
   "cell_type": "markdown",
   "id": "919c5010",
   "metadata": {},
   "source": [
    "Let's look more into our postal code values:"
   ]
  },
  {
   "cell_type": "code",
   "execution_count": 54,
   "id": "7bbb3270",
   "metadata": {
    "scrolled": true
   },
   "outputs": [
    {
     "data": {
      "text/plain": [
       "array([nan, 'M4C', 'M9A', 'M6C', 'M8Y', 'M9B', 'M9W', 'M9V', 'M3N', 'M9M',\n",
       "       'M4E', 'M1J', 'M2H', 'M3H', 'M3A', 'M6E', 'M1X', 'M6M', 'M8W',\n",
       "       'M4W', 'M6J', 'M5G', 'M4J', 'M4H', 'M9C', 'M8Z', 'M4R', 'M1W',\n",
       "       'M6H', 'M5M', 'M9L', 'M9N', 'M6K', 'M4K', 'M6G', 'M4S', 'M4B',\n",
       "       'M4N', 'M5R', 'M5T', 'M3M', 'M6N', 'M5A', 'M1B', 'M5B', 'M6P',\n",
       "       'M2M', 'M1S', 'M1R', 'M4L', 'M1N', 'M6A', 'M8X', 'M4X', 'M3J',\n",
       "       'M2J', 'M5N', 'M6S', 'M4M', 'M2R', 'M5S', 'M1E', 'M1H', 'M3L',\n",
       "       'M5P', 'M3C', 'M1L', 'M2L', 'M3B', 'M4T', 'M1P', 'M4G', 'M1C',\n",
       "       'M2K', 'M9R', 'M1G', 'M2P', 'M5E', 'M5V', 'M8V', 'M2N', 'M6R',\n",
       "       'M4P', 'M3K', 'M6B', 'M4Y', 'M1T', 'M1M', 'M4V', 'M1K', 'M5H',\n",
       "       'M9P', 'M1V', 'M4A', 'M6L', 'M5J', 'M5C', 'M7A', 'M5X', 'M5K',\n",
       "       'M5L'], dtype=object)"
      ]
     },
     "execution_count": 54,
     "metadata": {},
     "output_type": "execute_result"
    }
   ],
   "source": [
    "requests_2020['First 3 Chars of Postal Code'].unique()"
   ]
  },
  {
   "cell_type": "code",
   "execution_count": 55,
   "id": "c7bbb3e6",
   "metadata": {},
   "outputs": [
    {
     "data": {
      "text/plain": [
       "100"
      ]
     },
     "execution_count": 55,
     "metadata": {},
     "output_type": "execute_result"
    }
   ],
   "source": [
    "# count of postal codes (not including NaN)\n",
    "requests_2020['First 3 Chars of Postal Code'].dropna().unique().shape[0]"
   ]
  },
  {
   "cell_type": "code",
   "execution_count": 56,
   "id": "6cf5004a",
   "metadata": {
    "scrolled": true
   },
   "outputs": [],
   "source": [
    "requests_by_FSA = pd.DataFrame(requests_2020.groupby('First 3 Chars of Postal Code').size().sort_values(ascending=False), columns=['Total_Requests'])"
   ]
  },
  {
   "cell_type": "code",
   "execution_count": 57,
   "id": "afec6b40",
   "metadata": {},
   "outputs": [
    {
     "data": {
      "text/html": [
       "<div>\n",
       "<style scoped>\n",
       "    .dataframe tbody tr th:only-of-type {\n",
       "        vertical-align: middle;\n",
       "    }\n",
       "\n",
       "    .dataframe tbody tr th {\n",
       "        vertical-align: top;\n",
       "    }\n",
       "\n",
       "    .dataframe thead th {\n",
       "        text-align: right;\n",
       "    }\n",
       "</style>\n",
       "<table border=\"1\" class=\"dataframe\">\n",
       "  <thead>\n",
       "    <tr style=\"text-align: right;\">\n",
       "      <th></th>\n",
       "      <th>Total_Requests</th>\n",
       "    </tr>\n",
       "    <tr>\n",
       "      <th>First 3 Chars of Postal Code</th>\n",
       "      <th></th>\n",
       "    </tr>\n",
       "  </thead>\n",
       "  <tbody>\n",
       "    <tr>\n",
       "      <th>M6H</th>\n",
       "      <td>7087</td>\n",
       "    </tr>\n",
       "    <tr>\n",
       "      <th>M6N</th>\n",
       "      <td>6546</td>\n",
       "    </tr>\n",
       "    <tr>\n",
       "      <th>M4L</th>\n",
       "      <td>6408</td>\n",
       "    </tr>\n",
       "    <tr>\n",
       "      <th>M6S</th>\n",
       "      <td>6208</td>\n",
       "    </tr>\n",
       "    <tr>\n",
       "      <th>M6E</th>\n",
       "      <td>6185</td>\n",
       "    </tr>\n",
       "  </tbody>\n",
       "</table>\n",
       "</div>"
      ],
      "text/plain": [
       "                              Total_Requests\n",
       "First 3 Chars of Postal Code                \n",
       "M6H                                     7087\n",
       "M6N                                     6546\n",
       "M4L                                     6408\n",
       "M6S                                     6208\n",
       "M6E                                     6185"
      ]
     },
     "execution_count": 57,
     "metadata": {},
     "output_type": "execute_result"
    }
   ],
   "source": [
    "requests_by_FSA.head()"
   ]
  },
  {
   "cell_type": "code",
   "execution_count": 58,
   "id": "9a02335a",
   "metadata": {},
   "outputs": [
    {
     "data": {
      "text/html": [
       "<div>\n",
       "<style scoped>\n",
       "    .dataframe tbody tr th:only-of-type {\n",
       "        vertical-align: middle;\n",
       "    }\n",
       "\n",
       "    .dataframe tbody tr th {\n",
       "        vertical-align: top;\n",
       "    }\n",
       "\n",
       "    .dataframe thead th {\n",
       "        text-align: right;\n",
       "    }\n",
       "</style>\n",
       "<table border=\"1\" class=\"dataframe\">\n",
       "  <thead>\n",
       "    <tr style=\"text-align: right;\">\n",
       "      <th></th>\n",
       "      <th>Total_Requests</th>\n",
       "    </tr>\n",
       "  </thead>\n",
       "  <tbody>\n",
       "    <tr>\n",
       "      <th>count</th>\n",
       "      <td>100.000000</td>\n",
       "    </tr>\n",
       "    <tr>\n",
       "      <th>mean</th>\n",
       "      <td>3069.120000</td>\n",
       "    </tr>\n",
       "    <tr>\n",
       "      <th>std</th>\n",
       "      <td>1728.380449</td>\n",
       "    </tr>\n",
       "    <tr>\n",
       "      <th>min</th>\n",
       "      <td>2.000000</td>\n",
       "    </tr>\n",
       "    <tr>\n",
       "      <th>25%</th>\n",
       "      <td>1750.750000</td>\n",
       "    </tr>\n",
       "    <tr>\n",
       "      <th>50%</th>\n",
       "      <td>2955.500000</td>\n",
       "    </tr>\n",
       "    <tr>\n",
       "      <th>75%</th>\n",
       "      <td>4088.250000</td>\n",
       "    </tr>\n",
       "    <tr>\n",
       "      <th>max</th>\n",
       "      <td>7087.000000</td>\n",
       "    </tr>\n",
       "  </tbody>\n",
       "</table>\n",
       "</div>"
      ],
      "text/plain": [
       "       Total_Requests\n",
       "count      100.000000\n",
       "mean      3069.120000\n",
       "std       1728.380449\n",
       "min          2.000000\n",
       "25%       1750.750000\n",
       "50%       2955.500000\n",
       "75%       4088.250000\n",
       "max       7087.000000"
      ]
     },
     "execution_count": 58,
     "metadata": {},
     "output_type": "execute_result"
    }
   ],
   "source": [
    "requests_by_FSA.describe()"
   ]
  },
  {
   "cell_type": "code",
   "execution_count": 59,
   "id": "51f82145",
   "metadata": {
    "scrolled": true
   },
   "outputs": [
    {
     "data": {
      "text/plain": [
       "<AxesSubplot:xlabel='First 3 Chars of Postal Code', ylabel='Total_Requests'>"
      ]
     },
     "execution_count": 59,
     "metadata": {},
     "output_type": "execute_result"
    },
    {
     "data": {
      "image/png": "[encoded data removed]",
      "text/plain": [
       "<Figure size 1296x360 with 1 Axes>"
      ]
     },
     "metadata": {
      "needs_background": "light"
     },
     "output_type": "display_data"
    }
   ],
   "source": [
    "# checking to see if there are any outliers\n",
    "\n",
    "plt.figure(figsize=(18,5))\n",
    "plt.xticks(rotation=90)\n",
    "\n",
    "sns.barplot(data = requests_by_FSA, x=requests_by_FSA.index, y='Total_Requests', palette='Blues_r')"
   ]
  },
  {
   "cell_type": "markdown",
   "id": "163c89f1",
   "metadata": {},
   "source": [
    "There are 100 unique postal codes in our data. The average amount of requests made by each postal code is 3,069, though the range is quite wide (2 - 7,087), with a standard deviation of 1,728."
   ]
  },
  {
   "cell_type": "markdown",
   "id": "132b9d3f",
   "metadata": {},
   "source": [
    "#### Wards\n",
    "Since our postal code data is incomplete, due to the intersection values, we will focus on wards as our main location metric.\n",
    "\n",
    "Ward names and IDs are currently in one string column, so let's first extract them to be more usable:"
   ]
  },
  {
   "cell_type": "code",
   "execution_count": 60,
   "id": "936f70c8",
   "metadata": {},
   "outputs": [],
   "source": [
    "# extracting the Ward Name and ID from the Ward Column using regex and str.extract()\n",
    "requests_2020[['Ward Name', 'Ward ID']] = requests_2020['Ward'].str.extract('(.+)\\s\\((.\\d+)', expand=True)\n",
    "\n",
    "# dropping Ward column\n",
    "requests_2020.drop(columns='Ward', inplace=True)"
   ]
  },
  {
   "cell_type": "code",
   "execution_count": 61,
   "id": "22241114",
   "metadata": {
    "scrolled": true
   },
   "outputs": [
    {
     "data": {
      "text/html": [
       "<div>\n",
       "<style scoped>\n",
       "    .dataframe tbody tr th:only-of-type {\n",
       "        vertical-align: middle;\n",
       "    }\n",
       "\n",
       "    .dataframe tbody tr th {\n",
       "        vertical-align: top;\n",
       "    }\n",
       "\n",
       "    .dataframe thead th {\n",
       "        text-align: right;\n",
       "    }\n",
       "</style>\n",
       "<table border=\"1\" class=\"dataframe\">\n",
       "  <thead>\n",
       "    <tr style=\"text-align: right;\">\n",
       "      <th></th>\n",
       "      <th>Status</th>\n",
       "      <th>First 3 Chars of Postal Code</th>\n",
       "      <th>Service Request Type</th>\n",
       "      <th>Division</th>\n",
       "      <th>Section</th>\n",
       "      <th>Date</th>\n",
       "      <th>Time</th>\n",
       "      <th>Hour</th>\n",
       "      <th>Day of Week</th>\n",
       "      <th>Weekend</th>\n",
       "      <th>Intersection</th>\n",
       "      <th>Ward Name</th>\n",
       "      <th>Ward ID</th>\n",
       "    </tr>\n",
       "  </thead>\n",
       "  <tbody>\n",
       "    <tr>\n",
       "      <th>0</th>\n",
       "      <td>Closed</td>\n",
       "      <td>NaN</td>\n",
       "      <td>INJUR/DIST DOMESTIC</td>\n",
       "      <td>Municipal Licensing &amp; Standards</td>\n",
       "      <td>Toronto Animal Services</td>\n",
       "      <td>2020-01-01</td>\n",
       "      <td>00:01:46</td>\n",
       "      <td>0</td>\n",
       "      <td>Wednesday</td>\n",
       "      <td>0</td>\n",
       "      <td>1</td>\n",
       "      <td>Toronto-St. Paul's</td>\n",
       "      <td>12</td>\n",
       "    </tr>\n",
       "    <tr>\n",
       "      <th>1</th>\n",
       "      <td>Closed</td>\n",
       "      <td>M4C</td>\n",
       "      <td>Sewer Service Line-Blocked</td>\n",
       "      <td>Toronto Water</td>\n",
       "      <td>District Ops</td>\n",
       "      <td>2020-01-01</td>\n",
       "      <td>01:36:56</td>\n",
       "      <td>1</td>\n",
       "      <td>Wednesday</td>\n",
       "      <td>0</td>\n",
       "      <td>0</td>\n",
       "      <td>Beaches-East York</td>\n",
       "      <td>19</td>\n",
       "    </tr>\n",
       "    <tr>\n",
       "      <th>2</th>\n",
       "      <td>Closed</td>\n",
       "      <td>M9A</td>\n",
       "      <td>ENF/INVEST MUZZLE</td>\n",
       "      <td>Municipal Licensing &amp; Standards</td>\n",
       "      <td>Toronto Animal Services</td>\n",
       "      <td>2020-01-01</td>\n",
       "      <td>02:42:16</td>\n",
       "      <td>2</td>\n",
       "      <td>Wednesday</td>\n",
       "      <td>0</td>\n",
       "      <td>0</td>\n",
       "      <td>Etobicoke-Lakeshore</td>\n",
       "      <td>03</td>\n",
       "    </tr>\n",
       "    <tr>\n",
       "      <th>3</th>\n",
       "      <td>Closed</td>\n",
       "      <td>M6C</td>\n",
       "      <td>Hydrant-Damage</td>\n",
       "      <td>Toronto Water</td>\n",
       "      <td>District Ops</td>\n",
       "      <td>2020-01-01</td>\n",
       "      <td>02:52:29</td>\n",
       "      <td>2</td>\n",
       "      <td>Wednesday</td>\n",
       "      <td>0</td>\n",
       "      <td>0</td>\n",
       "      <td>Toronto-St. Paul's</td>\n",
       "      <td>12</td>\n",
       "    </tr>\n",
       "    <tr>\n",
       "      <th>4</th>\n",
       "      <td>Closed</td>\n",
       "      <td>NaN</td>\n",
       "      <td>Traffic Signal Maintenance</td>\n",
       "      <td>Transportation Services</td>\n",
       "      <td>TMC</td>\n",
       "      <td>2020-01-01</td>\n",
       "      <td>02:56:34</td>\n",
       "      <td>2</td>\n",
       "      <td>Wednesday</td>\n",
       "      <td>0</td>\n",
       "      <td>1</td>\n",
       "      <td>Don Valley North</td>\n",
       "      <td>17</td>\n",
       "    </tr>\n",
       "  </tbody>\n",
       "</table>\n",
       "</div>"
      ],
      "text/plain": [
       "   Status First 3 Chars of Postal Code        Service Request Type  \\\n",
       "0  Closed                          NaN         INJUR/DIST DOMESTIC   \n",
       "1  Closed                          M4C  Sewer Service Line-Blocked   \n",
       "2  Closed                          M9A           ENF/INVEST MUZZLE   \n",
       "3  Closed                          M6C              Hydrant-Damage   \n",
       "4  Closed                          NaN  Traffic Signal Maintenance   \n",
       "\n",
       "                          Division                  Section       Date  \\\n",
       "0  Municipal Licensing & Standards  Toronto Animal Services 2020-01-01   \n",
       "1                    Toronto Water             District Ops 2020-01-01   \n",
       "2  Municipal Licensing & Standards  Toronto Animal Services 2020-01-01   \n",
       "3                    Toronto Water             District Ops 2020-01-01   \n",
       "4          Transportation Services                      TMC 2020-01-01   \n",
       "\n",
       "       Time  Hour Day of Week  Weekend Intersection            Ward Name  \\\n",
       "0  00:01:46     0   Wednesday        0            1   Toronto-St. Paul's   \n",
       "1  01:36:56     1   Wednesday        0            0    Beaches-East York   \n",
       "2  02:42:16     2   Wednesday        0            0  Etobicoke-Lakeshore   \n",
       "3  02:52:29     2   Wednesday        0            0   Toronto-St. Paul's   \n",
       "4  02:56:34     2   Wednesday        0            1     Don Valley North   \n",
       "\n",
       "  Ward ID  \n",
       "0      12  \n",
       "1      19  \n",
       "2      03  \n",
       "3      12  \n",
       "4      17  "
      ]
     },
     "execution_count": 61,
     "metadata": {},
     "output_type": "execute_result"
    }
   ],
   "source": [
    "# confirming change\n",
    "requests_2020.head()"
   ]
  },
  {
   "cell_type": "code",
   "execution_count": 62,
   "id": "00b4a906",
   "metadata": {},
   "outputs": [
    {
     "data": {
      "text/plain": [
       "25"
      ]
     },
     "execution_count": 62,
     "metadata": {},
     "output_type": "execute_result"
    }
   ],
   "source": [
    "# how many wards are in the dataset?\n",
    "len(requests_2020['Ward Name'].unique())"
   ]
  },
  {
   "cell_type": "code",
   "execution_count": 63,
   "id": "129c98ae",
   "metadata": {},
   "outputs": [],
   "source": [
    "# how many requests have been made by each ward?\n",
    "requests_by_ward = pd.DataFrame(requests_2020.groupby(['Ward ID', 'Ward Name']).size().sort_values(ascending=False), columns=['2020 Requests'])"
   ]
  },
  {
   "cell_type": "code",
   "execution_count": 64,
   "id": "5637b88a",
   "metadata": {},
   "outputs": [],
   "source": [
    "requests_by_ward.reset_index(inplace=True)"
   ]
  },
  {
   "cell_type": "code",
   "execution_count": 65,
   "id": "9433bd05",
   "metadata": {},
   "outputs": [
    {
     "data": {
      "text/html": [
       "<div>\n",
       "<style scoped>\n",
       "    .dataframe tbody tr th:only-of-type {\n",
       "        vertical-align: middle;\n",
       "    }\n",
       "\n",
       "    .dataframe tbody tr th {\n",
       "        vertical-align: top;\n",
       "    }\n",
       "\n",
       "    .dataframe thead th {\n",
       "        text-align: right;\n",
       "    }\n",
       "</style>\n",
       "<table border=\"1\" class=\"dataframe\">\n",
       "  <thead>\n",
       "    <tr style=\"text-align: right;\">\n",
       "      <th></th>\n",
       "      <th>Ward ID</th>\n",
       "      <th>Ward Name</th>\n",
       "      <th>2020 Requests</th>\n",
       "    </tr>\n",
       "  </thead>\n",
       "  <tbody>\n",
       "    <tr>\n",
       "      <th>0</th>\n",
       "      <td>03</td>\n",
       "      <td>Etobicoke-Lakeshore</td>\n",
       "      <td>21540</td>\n",
       "    </tr>\n",
       "    <tr>\n",
       "      <th>1</th>\n",
       "      <td>14</td>\n",
       "      <td>Toronto-Danforth</td>\n",
       "      <td>19922</td>\n",
       "    </tr>\n",
       "    <tr>\n",
       "      <th>2</th>\n",
       "      <td>04</td>\n",
       "      <td>Parkdale-High Park</td>\n",
       "      <td>19281</td>\n",
       "    </tr>\n",
       "    <tr>\n",
       "      <th>3</th>\n",
       "      <td>08</td>\n",
       "      <td>Eglinton-Lawrence</td>\n",
       "      <td>19008</td>\n",
       "    </tr>\n",
       "    <tr>\n",
       "      <th>4</th>\n",
       "      <td>19</td>\n",
       "      <td>Beaches-East York</td>\n",
       "      <td>18977</td>\n",
       "    </tr>\n",
       "    <tr>\n",
       "      <th>5</th>\n",
       "      <td>09</td>\n",
       "      <td>Davenport</td>\n",
       "      <td>18860</td>\n",
       "    </tr>\n",
       "    <tr>\n",
       "      <th>6</th>\n",
       "      <td>11</td>\n",
       "      <td>University-Rosedale</td>\n",
       "      <td>17297</td>\n",
       "    </tr>\n",
       "    <tr>\n",
       "      <th>7</th>\n",
       "      <td>02</td>\n",
       "      <td>Etobicoke Centre</td>\n",
       "      <td>16636</td>\n",
       "    </tr>\n",
       "    <tr>\n",
       "      <th>8</th>\n",
       "      <td>05</td>\n",
       "      <td>York South-Weston</td>\n",
       "      <td>16323</td>\n",
       "    </tr>\n",
       "    <tr>\n",
       "      <th>9</th>\n",
       "      <td>20</td>\n",
       "      <td>Scarborough Southwest</td>\n",
       "      <td>15875</td>\n",
       "    </tr>\n",
       "    <tr>\n",
       "      <th>10</th>\n",
       "      <td>12</td>\n",
       "      <td>Toronto-St. Paul's</td>\n",
       "      <td>15363</td>\n",
       "    </tr>\n",
       "    <tr>\n",
       "      <th>11</th>\n",
       "      <td>15</td>\n",
       "      <td>Don Valley West</td>\n",
       "      <td>14997</td>\n",
       "    </tr>\n",
       "    <tr>\n",
       "      <th>12</th>\n",
       "      <td>25</td>\n",
       "      <td>Scarborough-Rouge Park</td>\n",
       "      <td>13946</td>\n",
       "    </tr>\n",
       "    <tr>\n",
       "      <th>13</th>\n",
       "      <td>21</td>\n",
       "      <td>Scarborough Centre</td>\n",
       "      <td>13069</td>\n",
       "    </tr>\n",
       "    <tr>\n",
       "      <th>14</th>\n",
       "      <td>06</td>\n",
       "      <td>York Centre</td>\n",
       "      <td>11353</td>\n",
       "    </tr>\n",
       "    <tr>\n",
       "      <th>15</th>\n",
       "      <td>01</td>\n",
       "      <td>Etobicoke North</td>\n",
       "      <td>11050</td>\n",
       "    </tr>\n",
       "    <tr>\n",
       "      <th>16</th>\n",
       "      <td>18</td>\n",
       "      <td>Willowdale</td>\n",
       "      <td>10510</td>\n",
       "    </tr>\n",
       "    <tr>\n",
       "      <th>17</th>\n",
       "      <td>24</td>\n",
       "      <td>Scarborough-Guildwood</td>\n",
       "      <td>10413</td>\n",
       "    </tr>\n",
       "    <tr>\n",
       "      <th>18</th>\n",
       "      <td>10</td>\n",
       "      <td>Spadina-Fort York</td>\n",
       "      <td>10230</td>\n",
       "    </tr>\n",
       "    <tr>\n",
       "      <th>19</th>\n",
       "      <td>07</td>\n",
       "      <td>Humber River-Black Creek</td>\n",
       "      <td>9984</td>\n",
       "    </tr>\n",
       "    <tr>\n",
       "      <th>20</th>\n",
       "      <td>13</td>\n",
       "      <td>Toronto Centre</td>\n",
       "      <td>9817</td>\n",
       "    </tr>\n",
       "    <tr>\n",
       "      <th>21</th>\n",
       "      <td>17</td>\n",
       "      <td>Don Valley North</td>\n",
       "      <td>9537</td>\n",
       "    </tr>\n",
       "    <tr>\n",
       "      <th>22</th>\n",
       "      <td>22</td>\n",
       "      <td>Scarborough-Agincourt</td>\n",
       "      <td>8059</td>\n",
       "    </tr>\n",
       "    <tr>\n",
       "      <th>23</th>\n",
       "      <td>23</td>\n",
       "      <td>Scarborough North</td>\n",
       "      <td>8039</td>\n",
       "    </tr>\n",
       "    <tr>\n",
       "      <th>24</th>\n",
       "      <td>16</td>\n",
       "      <td>Don Valley East</td>\n",
       "      <td>7662</td>\n",
       "    </tr>\n",
       "  </tbody>\n",
       "</table>\n",
       "</div>"
      ],
      "text/plain": [
       "   Ward ID                 Ward Name  2020 Requests\n",
       "0       03       Etobicoke-Lakeshore          21540\n",
       "1       14          Toronto-Danforth          19922\n",
       "2       04        Parkdale-High Park          19281\n",
       "3       08         Eglinton-Lawrence          19008\n",
       "4       19         Beaches-East York          18977\n",
       "5       09                 Davenport          18860\n",
       "6       11       University-Rosedale          17297\n",
       "7       02          Etobicoke Centre          16636\n",
       "8       05         York South-Weston          16323\n",
       "9       20     Scarborough Southwest          15875\n",
       "10      12        Toronto-St. Paul's          15363\n",
       "11      15           Don Valley West          14997\n",
       "12      25    Scarborough-Rouge Park          13946\n",
       "13      21        Scarborough Centre          13069\n",
       "14      06               York Centre          11353\n",
       "15      01           Etobicoke North          11050\n",
       "16      18                Willowdale          10510\n",
       "17      24     Scarborough-Guildwood          10413\n",
       "18      10         Spadina-Fort York          10230\n",
       "19      07  Humber River-Black Creek           9984\n",
       "20      13            Toronto Centre           9817\n",
       "21      17          Don Valley North           9537\n",
       "22      22     Scarborough-Agincourt           8059\n",
       "23      23         Scarborough North           8039\n",
       "24      16           Don Valley East           7662"
      ]
     },
     "execution_count": 65,
     "metadata": {},
     "output_type": "execute_result"
    }
   ],
   "source": [
    "requests_by_ward"
   ]
  },
  {
   "cell_type": "code",
   "execution_count": 66,
   "id": "c1075b12",
   "metadata": {},
   "outputs": [
    {
     "data": {
      "text/plain": [
       "<AxesSubplot:xlabel='Ward Name', ylabel='2020 Requests'>"
      ]
     },
     "execution_count": 66,
     "metadata": {},
     "output_type": "execute_result"
    },
    {
     "data": {
      "image/png": "[encoded data removed]",
      "text/plain": [
       "<Figure size 1296x360 with 1 Axes>"
      ]
     },
     "metadata": {
      "needs_background": "light"
     },
     "output_type": "display_data"
    }
   ],
   "source": [
    "plt.figure(figsize=(18,5))\n",
    "plt.xticks(rotation=90)\n",
    "\n",
    "sns.barplot(data = requests_by_ward, x='Ward Name', y='2020 Requests', palette='Blues_r')"
   ]
  },
  {
   "cell_type": "markdown",
   "id": "f9258ff4",
   "metadata": {},
   "source": [
    "The largest volume of 311 service requests comes from the Etobicoke-Lakeshore ward, and the least from Don Valley East. However, this isn't giving us a good picture of each ward's residents, as we haven't factored in each ward's population."
   ]
  },
  {
   "cell_type": "markdown",
   "id": "bbc26868",
   "metadata": {},
   "source": [
    "[↑ Back to TOC](#TOC)\n",
    "## Ward Profiles <a name=\"wards\"></a>\n",
    "The 2016 Ward Profiles for the 2018 25-Ward model were originally made available from City Planning via the online Toronto Data, Research & Maps portal. The profiles provide demographic, social and economic information for each Ward in the City of Toronto, based on 2016 Census data. The data was provided in a messy table – we have extracted each Ward's population and avg. household income. \n",
    "\n",
    "Let's combine our ward profile data for a bit more insight into the amount of service requests placed by Ward. "
   ]
  },
  {
   "cell_type": "code",
   "execution_count": 67,
   "id": "5eca741c",
   "metadata": {
    "scrolled": false
   },
   "outputs": [
    {
     "data": {
      "text/html": [
       "<div>\n",
       "<style scoped>\n",
       "    .dataframe tbody tr th:only-of-type {\n",
       "        vertical-align: middle;\n",
       "    }\n",
       "\n",
       "    .dataframe tbody tr th {\n",
       "        vertical-align: top;\n",
       "    }\n",
       "\n",
       "    .dataframe thead th {\n",
       "        text-align: right;\n",
       "    }\n",
       "</style>\n",
       "<table border=\"1\" class=\"dataframe\">\n",
       "  <thead>\n",
       "    <tr style=\"text-align: right;\">\n",
       "      <th></th>\n",
       "      <th>Ward</th>\n",
       "      <th>Population</th>\n",
       "      <th>Avg. Income per Household</th>\n",
       "    </tr>\n",
       "  </thead>\n",
       "  <tbody>\n",
       "    <tr>\n",
       "      <th>0</th>\n",
       "      <td>1</td>\n",
       "      <td>118040</td>\n",
       "      <td>73374</td>\n",
       "    </tr>\n",
       "    <tr>\n",
       "      <th>1</th>\n",
       "      <td>2</td>\n",
       "      <td>118020</td>\n",
       "      <td>128448</td>\n",
       "    </tr>\n",
       "    <tr>\n",
       "      <th>2</th>\n",
       "      <td>3</td>\n",
       "      <td>129080</td>\n",
       "      <td>105994</td>\n",
       "    </tr>\n",
       "    <tr>\n",
       "      <th>3</th>\n",
       "      <td>4</td>\n",
       "      <td>108805</td>\n",
       "      <td>99784</td>\n",
       "    </tr>\n",
       "    <tr>\n",
       "      <th>4</th>\n",
       "      <td>5</td>\n",
       "      <td>116685</td>\n",
       "      <td>67954</td>\n",
       "    </tr>\n",
       "  </tbody>\n",
       "</table>\n",
       "</div>"
      ],
      "text/plain": [
       "   Ward  Population  Avg. Income per Household\n",
       "0     1      118040                      73374\n",
       "1     2      118020                     128448\n",
       "2     3      129080                     105994\n",
       "3     4      108805                      99784\n",
       "4     5      116685                      67954"
      ]
     },
     "execution_count": 67,
     "metadata": {},
     "output_type": "execute_result"
    }
   ],
   "source": [
    "ward_profiles.head()"
   ]
  },
  {
   "cell_type": "code",
   "execution_count": 68,
   "id": "83ba0a85",
   "metadata": {},
   "outputs": [
    {
     "data": {
      "text/plain": [
       "25"
      ]
     },
     "execution_count": 68,
     "metadata": {},
     "output_type": "execute_result"
    }
   ],
   "source": [
    "# confirming all 25 wards are included\n",
    "ward_profiles['Ward'].unique().shape[0]"
   ]
  },
  {
   "cell_type": "code",
   "execution_count": 69,
   "id": "e20b083e",
   "metadata": {},
   "outputs": [
    {
     "data": {
      "text/plain": [
       "Ward                         int64\n",
       "Population                   int64\n",
       "Avg. Income per Household    int64\n",
       "dtype: object"
      ]
     },
     "execution_count": 69,
     "metadata": {},
     "output_type": "execute_result"
    }
   ],
   "source": [
    "# confirming data types are correct\n",
    "ward_profiles.dtypes"
   ]
  },
  {
   "cell_type": "code",
   "execution_count": 70,
   "id": "ad892c5d",
   "metadata": {},
   "outputs": [],
   "source": [
    "# reassigning Ward ID to string \n",
    "ward_profiles['Ward'] = ward_profiles['Ward'].astype(str)"
   ]
  },
  {
   "cell_type": "code",
   "execution_count": 71,
   "id": "3b1d20ce",
   "metadata": {},
   "outputs": [],
   "source": [
    "# add leading zero to wards with single digit values to properly merge with Ward ID column in requests_2020 table\n",
    "ward_profiles['Ward'] = ward_profiles['Ward'].str.zfill(2)"
   ]
  },
  {
   "cell_type": "code",
   "execution_count": 72,
   "id": "368a146c",
   "metadata": {},
   "outputs": [],
   "source": [
    "# merging ward_profiles to requests_by_ward df\n",
    "requests_by_ward = pd.merge(requests_by_ward, ward_profiles, how='inner', left_on='Ward ID', right_on='Ward')"
   ]
  },
  {
   "cell_type": "code",
   "execution_count": 73,
   "id": "d71b8d43",
   "metadata": {},
   "outputs": [],
   "source": [
    "# dropping repetitive column\n",
    "requests_by_ward.drop(columns=['Ward'], inplace=True)"
   ]
  },
  {
   "cell_type": "code",
   "execution_count": 74,
   "id": "df2edc40",
   "metadata": {
    "scrolled": true
   },
   "outputs": [
    {
     "data": {
      "text/html": [
       "<div>\n",
       "<style scoped>\n",
       "    .dataframe tbody tr th:only-of-type {\n",
       "        vertical-align: middle;\n",
       "    }\n",
       "\n",
       "    .dataframe tbody tr th {\n",
       "        vertical-align: top;\n",
       "    }\n",
       "\n",
       "    .dataframe thead th {\n",
       "        text-align: right;\n",
       "    }\n",
       "</style>\n",
       "<table border=\"1\" class=\"dataframe\">\n",
       "  <thead>\n",
       "    <tr style=\"text-align: right;\">\n",
       "      <th></th>\n",
       "      <th>Ward ID</th>\n",
       "      <th>Ward Name</th>\n",
       "      <th>2020 Requests</th>\n",
       "      <th>Population</th>\n",
       "      <th>Avg. Income per Household</th>\n",
       "    </tr>\n",
       "  </thead>\n",
       "  <tbody>\n",
       "    <tr>\n",
       "      <th>0</th>\n",
       "      <td>03</td>\n",
       "      <td>Etobicoke-Lakeshore</td>\n",
       "      <td>21540</td>\n",
       "      <td>129080</td>\n",
       "      <td>105994</td>\n",
       "    </tr>\n",
       "    <tr>\n",
       "      <th>1</th>\n",
       "      <td>14</td>\n",
       "      <td>Toronto-Danforth</td>\n",
       "      <td>19922</td>\n",
       "      <td>106875</td>\n",
       "      <td>101323</td>\n",
       "    </tr>\n",
       "    <tr>\n",
       "      <th>2</th>\n",
       "      <td>04</td>\n",
       "      <td>Parkdale-High Park</td>\n",
       "      <td>19281</td>\n",
       "      <td>108805</td>\n",
       "      <td>99784</td>\n",
       "    </tr>\n",
       "    <tr>\n",
       "      <th>3</th>\n",
       "      <td>08</td>\n",
       "      <td>Eglinton-Lawrence</td>\n",
       "      <td>19008</td>\n",
       "      <td>114395</td>\n",
       "      <td>162674</td>\n",
       "    </tr>\n",
       "    <tr>\n",
       "      <th>4</th>\n",
       "      <td>19</td>\n",
       "      <td>Beaches-East York</td>\n",
       "      <td>18977</td>\n",
       "      <td>109465</td>\n",
       "      <td>104123</td>\n",
       "    </tr>\n",
       "  </tbody>\n",
       "</table>\n",
       "</div>"
      ],
      "text/plain": [
       "  Ward ID            Ward Name  2020 Requests  Population  \\\n",
       "0      03  Etobicoke-Lakeshore          21540      129080   \n",
       "1      14     Toronto-Danforth          19922      106875   \n",
       "2      04   Parkdale-High Park          19281      108805   \n",
       "3      08    Eglinton-Lawrence          19008      114395   \n",
       "4      19    Beaches-East York          18977      109465   \n",
       "\n",
       "   Avg. Income per Household  \n",
       "0                     105994  \n",
       "1                     101323  \n",
       "2                      99784  \n",
       "3                     162674  \n",
       "4                     104123  "
      ]
     },
     "execution_count": 74,
     "metadata": {},
     "output_type": "execute_result"
    }
   ],
   "source": [
    "requests_by_ward.head()"
   ]
  },
  {
   "cell_type": "code",
   "execution_count": 75,
   "id": "8e52e777",
   "metadata": {},
   "outputs": [],
   "source": [
    "# Engineering new feature = requests per person, rounded to the nearest person (by converting to int)\n",
    "requests_by_ward['2020 Avg. Requests Per Person'] = (requests_by_ward['2020 Requests'] / requests_by_ward['Avg. Income per Household']*100).astype(int)"
   ]
  },
  {
   "cell_type": "code",
   "execution_count": 76,
   "id": "737cb172",
   "metadata": {},
   "outputs": [
    {
     "data": {
      "text/html": [
       "<div>\n",
       "<style scoped>\n",
       "    .dataframe tbody tr th:only-of-type {\n",
       "        vertical-align: middle;\n",
       "    }\n",
       "\n",
       "    .dataframe tbody tr th {\n",
       "        vertical-align: top;\n",
       "    }\n",
       "\n",
       "    .dataframe thead th {\n",
       "        text-align: right;\n",
       "    }\n",
       "</style>\n",
       "<table border=\"1\" class=\"dataframe\">\n",
       "  <thead>\n",
       "    <tr style=\"text-align: right;\">\n",
       "      <th></th>\n",
       "      <th>Ward ID</th>\n",
       "      <th>Ward Name</th>\n",
       "      <th>2020 Requests</th>\n",
       "      <th>Population</th>\n",
       "      <th>Avg. Income per Household</th>\n",
       "      <th>2020 Avg. Requests Per Person</th>\n",
       "    </tr>\n",
       "  </thead>\n",
       "  <tbody>\n",
       "    <tr>\n",
       "      <th>0</th>\n",
       "      <td>03</td>\n",
       "      <td>Etobicoke-Lakeshore</td>\n",
       "      <td>21540</td>\n",
       "      <td>129080</td>\n",
       "      <td>105994</td>\n",
       "      <td>20</td>\n",
       "    </tr>\n",
       "    <tr>\n",
       "      <th>1</th>\n",
       "      <td>14</td>\n",
       "      <td>Toronto-Danforth</td>\n",
       "      <td>19922</td>\n",
       "      <td>106875</td>\n",
       "      <td>101323</td>\n",
       "      <td>19</td>\n",
       "    </tr>\n",
       "    <tr>\n",
       "      <th>2</th>\n",
       "      <td>04</td>\n",
       "      <td>Parkdale-High Park</td>\n",
       "      <td>19281</td>\n",
       "      <td>108805</td>\n",
       "      <td>99784</td>\n",
       "      <td>19</td>\n",
       "    </tr>\n",
       "    <tr>\n",
       "      <th>3</th>\n",
       "      <td>08</td>\n",
       "      <td>Eglinton-Lawrence</td>\n",
       "      <td>19008</td>\n",
       "      <td>114395</td>\n",
       "      <td>162674</td>\n",
       "      <td>11</td>\n",
       "    </tr>\n",
       "    <tr>\n",
       "      <th>4</th>\n",
       "      <td>19</td>\n",
       "      <td>Beaches-East York</td>\n",
       "      <td>18977</td>\n",
       "      <td>109465</td>\n",
       "      <td>104123</td>\n",
       "      <td>18</td>\n",
       "    </tr>\n",
       "  </tbody>\n",
       "</table>\n",
       "</div>"
      ],
      "text/plain": [
       "  Ward ID            Ward Name  2020 Requests  Population  \\\n",
       "0      03  Etobicoke-Lakeshore          21540      129080   \n",
       "1      14     Toronto-Danforth          19922      106875   \n",
       "2      04   Parkdale-High Park          19281      108805   \n",
       "3      08    Eglinton-Lawrence          19008      114395   \n",
       "4      19    Beaches-East York          18977      109465   \n",
       "\n",
       "   Avg. Income per Household  2020 Avg. Requests Per Person  \n",
       "0                     105994                             20  \n",
       "1                     101323                             19  \n",
       "2                      99784                             19  \n",
       "3                     162674                             11  \n",
       "4                     104123                             18  "
      ]
     },
     "execution_count": 76,
     "metadata": {},
     "output_type": "execute_result"
    }
   ],
   "source": [
    "requests_by_ward.head()"
   ]
  },
  {
   "cell_type": "code",
   "execution_count": 77,
   "id": "d2a3ce08",
   "metadata": {},
   "outputs": [],
   "source": [
    "requests_by_ward.sort_values('2020 Avg. Requests Per Person', ascending=False, inplace=True)"
   ]
  },
  {
   "cell_type": "code",
   "execution_count": 78,
   "id": "f21f08c3",
   "metadata": {
    "scrolled": false
   },
   "outputs": [
    {
     "data": {
      "text/plain": [
       "<AxesSubplot:xlabel='Ward Name', ylabel='2020 Avg. Requests Per Person'>"
      ]
     },
     "execution_count": 78,
     "metadata": {},
     "output_type": "execute_result"
    },
    {
     "data": {
      "image/png": "[encoded data removed]",
      "text/plain": [
       "<Figure size 1296x360 with 1 Axes>"
      ]
     },
     "metadata": {
      "needs_background": "light"
     },
     "output_type": "display_data"
    }
   ],
   "source": [
    "plt.figure(figsize=(18,5))\n",
    "plt.xticks(rotation=90)\n",
    "\n",
    "sns.barplot(data = requests_by_ward, x='Ward Name', y='2020 Avg. Requests Per Person', palette='Blues_r')"
   ]
  },
  {
   "cell_type": "markdown",
   "id": "3f241682",
   "metadata": {},
   "source": [
    "When we consider ward population, we see that on average, residents in the York South-Weston Ward place the most service requests per person, and residents in the Don Valley West Ward the least."
   ]
  },
  {
   "cell_type": "markdown",
   "id": "dcc43220",
   "metadata": {},
   "source": [
    "[↑ Back to TOC](#TOC)\n",
    "## Weather <a name=\"weather\"></a>\n",
    "Historical weather information (2020) collected daily from the Toronto International Airport Weather Station. "
   ]
  },
  {
   "cell_type": "code",
   "execution_count": 79,
   "id": "ef67b7e3",
   "metadata": {},
   "outputs": [
    {
     "data": {
      "text/html": [
       "<div>\n",
       "<style scoped>\n",
       "    .dataframe tbody tr th:only-of-type {\n",
       "        vertical-align: middle;\n",
       "    }\n",
       "\n",
       "    .dataframe tbody tr th {\n",
       "        vertical-align: top;\n",
       "    }\n",
       "\n",
       "    .dataframe thead th {\n",
       "        text-align: right;\n",
       "    }\n",
       "</style>\n",
       "<table border=\"1\" class=\"dataframe\">\n",
       "  <thead>\n",
       "    <tr style=\"text-align: right;\">\n",
       "      <th></th>\n",
       "      <th>Longitude (x)</th>\n",
       "      <th>Latitude (y)</th>\n",
       "      <th>Station Name</th>\n",
       "      <th>Climate ID</th>\n",
       "      <th>Date/Time</th>\n",
       "      <th>Year</th>\n",
       "      <th>Month</th>\n",
       "      <th>Day</th>\n",
       "      <th>Data Quality</th>\n",
       "      <th>Max Temp (°C)</th>\n",
       "      <th>...</th>\n",
       "      <th>Total Snow (cm)</th>\n",
       "      <th>Total Snow Flag</th>\n",
       "      <th>Total Precip (mm)</th>\n",
       "      <th>Total Precip Flag</th>\n",
       "      <th>Snow on Grnd (cm)</th>\n",
       "      <th>Snow on Grnd Flag</th>\n",
       "      <th>Dir of Max Gust (10s deg)</th>\n",
       "      <th>Dir of Max Gust Flag</th>\n",
       "      <th>Spd of Max Gust (km/h)</th>\n",
       "      <th>Spd of Max Gust Flag</th>\n",
       "    </tr>\n",
       "  </thead>\n",
       "  <tbody>\n",
       "    <tr>\n",
       "      <th>0</th>\n",
       "      <td>-79.63</td>\n",
       "      <td>43.68</td>\n",
       "      <td>TORONTO INTL A</td>\n",
       "      <td>6158731</td>\n",
       "      <td>2020-01-01</td>\n",
       "      <td>2020</td>\n",
       "      <td>1</td>\n",
       "      <td>1</td>\n",
       "      <td>NaN</td>\n",
       "      <td>-0.2</td>\n",
       "      <td>...</td>\n",
       "      <td>0.0</td>\n",
       "      <td>T</td>\n",
       "      <td>0.0</td>\n",
       "      <td>T</td>\n",
       "      <td>0.0</td>\n",
       "      <td>T</td>\n",
       "      <td>28.0</td>\n",
       "      <td>NaN</td>\n",
       "      <td>42.0</td>\n",
       "      <td>NaN</td>\n",
       "    </tr>\n",
       "    <tr>\n",
       "      <th>1</th>\n",
       "      <td>-79.63</td>\n",
       "      <td>43.68</td>\n",
       "      <td>TORONTO INTL A</td>\n",
       "      <td>6158731</td>\n",
       "      <td>2020-01-02</td>\n",
       "      <td>2020</td>\n",
       "      <td>1</td>\n",
       "      <td>2</td>\n",
       "      <td>NaN</td>\n",
       "      <td>6.4</td>\n",
       "      <td>...</td>\n",
       "      <td>0.0</td>\n",
       "      <td>NaN</td>\n",
       "      <td>0.0</td>\n",
       "      <td>NaN</td>\n",
       "      <td>0.0</td>\n",
       "      <td>T</td>\n",
       "      <td>19.0</td>\n",
       "      <td>NaN</td>\n",
       "      <td>46.0</td>\n",
       "      <td>NaN</td>\n",
       "    </tr>\n",
       "    <tr>\n",
       "      <th>2</th>\n",
       "      <td>-79.63</td>\n",
       "      <td>43.68</td>\n",
       "      <td>TORONTO INTL A</td>\n",
       "      <td>6158731</td>\n",
       "      <td>2020-01-03</td>\n",
       "      <td>2020</td>\n",
       "      <td>1</td>\n",
       "      <td>3</td>\n",
       "      <td>NaN</td>\n",
       "      <td>6.8</td>\n",
       "      <td>...</td>\n",
       "      <td>0.0</td>\n",
       "      <td>NaN</td>\n",
       "      <td>0.0</td>\n",
       "      <td>NaN</td>\n",
       "      <td>NaN</td>\n",
       "      <td>NaN</td>\n",
       "      <td>27.0</td>\n",
       "      <td>NaN</td>\n",
       "      <td>35.0</td>\n",
       "      <td>NaN</td>\n",
       "    </tr>\n",
       "    <tr>\n",
       "      <th>3</th>\n",
       "      <td>-79.63</td>\n",
       "      <td>43.68</td>\n",
       "      <td>TORONTO INTL A</td>\n",
       "      <td>6158731</td>\n",
       "      <td>2020-01-04</td>\n",
       "      <td>2020</td>\n",
       "      <td>1</td>\n",
       "      <td>4</td>\n",
       "      <td>NaN</td>\n",
       "      <td>2.5</td>\n",
       "      <td>...</td>\n",
       "      <td>2.4</td>\n",
       "      <td>NaN</td>\n",
       "      <td>1.6</td>\n",
       "      <td>NaN</td>\n",
       "      <td>2.0</td>\n",
       "      <td>NaN</td>\n",
       "      <td>31.0</td>\n",
       "      <td>NaN</td>\n",
       "      <td>45.0</td>\n",
       "      <td>NaN</td>\n",
       "    </tr>\n",
       "    <tr>\n",
       "      <th>4</th>\n",
       "      <td>-79.63</td>\n",
       "      <td>43.68</td>\n",
       "      <td>TORONTO INTL A</td>\n",
       "      <td>6158731</td>\n",
       "      <td>2020-01-05</td>\n",
       "      <td>2020</td>\n",
       "      <td>1</td>\n",
       "      <td>5</td>\n",
       "      <td>NaN</td>\n",
       "      <td>1.3</td>\n",
       "      <td>...</td>\n",
       "      <td>3.6</td>\n",
       "      <td>NaN</td>\n",
       "      <td>3.6</td>\n",
       "      <td>NaN</td>\n",
       "      <td>0.0</td>\n",
       "      <td>T</td>\n",
       "      <td>32.0</td>\n",
       "      <td>NaN</td>\n",
       "      <td>45.0</td>\n",
       "      <td>NaN</td>\n",
       "    </tr>\n",
       "  </tbody>\n",
       "</table>\n",
       "<p>5 rows × 31 columns</p>\n",
       "</div>"
      ],
      "text/plain": [
       "   Longitude (x)  Latitude (y)    Station Name  Climate ID   Date/Time  Year  \\\n",
       "0         -79.63         43.68  TORONTO INTL A     6158731  2020-01-01  2020   \n",
       "1         -79.63         43.68  TORONTO INTL A     6158731  2020-01-02  2020   \n",
       "2         -79.63         43.68  TORONTO INTL A     6158731  2020-01-03  2020   \n",
       "3         -79.63         43.68  TORONTO INTL A     6158731  2020-01-04  2020   \n",
       "4         -79.63         43.68  TORONTO INTL A     6158731  2020-01-05  2020   \n",
       "\n",
       "   Month  Day  Data Quality  Max Temp (°C)  ...  Total Snow (cm)  \\\n",
       "0      1    1           NaN           -0.2  ...              0.0   \n",
       "1      1    2           NaN            6.4  ...              0.0   \n",
       "2      1    3           NaN            6.8  ...              0.0   \n",
       "3      1    4           NaN            2.5  ...              2.4   \n",
       "4      1    5           NaN            1.3  ...              3.6   \n",
       "\n",
       "   Total Snow Flag  Total Precip (mm)  Total Precip Flag  Snow on Grnd (cm)  \\\n",
       "0                T                0.0                  T                0.0   \n",
       "1              NaN                0.0                NaN                0.0   \n",
       "2              NaN                0.0                NaN                NaN   \n",
       "3              NaN                1.6                NaN                2.0   \n",
       "4              NaN                3.6                NaN                0.0   \n",
       "\n",
       "   Snow on Grnd Flag  Dir of Max Gust (10s deg)  Dir of Max Gust Flag  \\\n",
       "0                  T                       28.0                   NaN   \n",
       "1                  T                       19.0                   NaN   \n",
       "2                NaN                       27.0                   NaN   \n",
       "3                NaN                       31.0                   NaN   \n",
       "4                  T                       32.0                   NaN   \n",
       "\n",
       "   Spd of Max Gust (km/h)  Spd of Max Gust Flag  \n",
       "0                    42.0                   NaN  \n",
       "1                    46.0                   NaN  \n",
       "2                    35.0                   NaN  \n",
       "3                    45.0                   NaN  \n",
       "4                    45.0                   NaN  \n",
       "\n",
       "[5 rows x 31 columns]"
      ]
     },
     "execution_count": 79,
     "metadata": {},
     "output_type": "execute_result"
    }
   ],
   "source": [
    "weather_2020.head()"
   ]
  },
  {
   "cell_type": "code",
   "execution_count": 80,
   "id": "7c0c3ba9",
   "metadata": {
    "scrolled": true
   },
   "outputs": [
    {
     "data": {
      "text/plain": [
       "Index(['Longitude (x)', 'Latitude (y)', 'Station Name', 'Climate ID',\n",
       "       'Date/Time', 'Year', 'Month', 'Day', 'Data Quality', 'Max Temp (°C)',\n",
       "       'Max Temp Flag', 'Min Temp (°C)', 'Min Temp Flag', 'Mean Temp (°C)',\n",
       "       'Mean Temp Flag', 'Heat Deg Days (°C)', 'Heat Deg Days Flag',\n",
       "       'Cool Deg Days (°C)', 'Cool Deg Days Flag', 'Total Rain (mm)',\n",
       "       'Total Rain Flag', 'Total Snow (cm)', 'Total Snow Flag',\n",
       "       'Total Precip (mm)', 'Total Precip Flag', 'Snow on Grnd (cm)',\n",
       "       'Snow on Grnd Flag', 'Dir of Max Gust (10s deg)',\n",
       "       'Dir of Max Gust Flag', 'Spd of Max Gust (km/h)',\n",
       "       'Spd of Max Gust Flag'],\n",
       "      dtype='object')"
      ]
     },
     "execution_count": 80,
     "metadata": {},
     "output_type": "execute_result"
    }
   ],
   "source": [
    "weather_2020.columns"
   ]
  },
  {
   "cell_type": "markdown",
   "id": "bac7d4b5",
   "metadata": {},
   "source": [
    "Immediately, we're seeing NaNs that we need to address. For the purposes of our exploration, the only weather columns we are interested in keeping are date/time (for joining), mean temp, total rain, total snow, total precipitation, and spd of max gust – so let's drop all other columns, and see how many NaN values remain. "
   ]
  },
  {
   "cell_type": "code",
   "execution_count": 81,
   "id": "8b85ad53",
   "metadata": {
    "scrolled": true
   },
   "outputs": [],
   "source": [
    "weather_2020.drop(columns=[\n",
    "    'Longitude (x)', 'Latitude (y)', 'Station Name', 'Climate ID', 'Year',\n",
    "    'Month', 'Day', 'Data Quality', 'Max Temp (°C)', 'Max Temp Flag',\n",
    "    'Min Temp (°C)', 'Min Temp Flag', 'Mean Temp Flag', 'Heat Deg Days (°C)',\n",
    "    'Heat Deg Days Flag', 'Cool Deg Days (°C)', 'Cool Deg Days Flag',\n",
    "    'Total Rain Flag', 'Total Snow Flag', 'Total Precip Flag',\n",
    "    'Snow on Grnd (cm)', 'Snow on Grnd Flag', 'Dir of Max Gust (10s deg)',\n",
    "    'Dir of Max Gust Flag', 'Spd of Max Gust Flag'\n",
    "], inplace=True)"
   ]
  },
  {
   "cell_type": "code",
   "execution_count": 82,
   "id": "1eed6894",
   "metadata": {},
   "outputs": [
    {
     "name": "stdout",
     "output_type": "stream",
     "text": [
      "Date/Time                  0\n",
      "Mean Temp (°C)             0\n",
      "Total Rain (mm)            7\n",
      "Total Snow (cm)            7\n",
      "Total Precip (mm)          0\n",
      "Spd of Max Gust (km/h)    55\n",
      "dtype: int64\n"
     ]
    }
   ],
   "source": [
    "nan_check = weather_2020.isnull().sum()\n",
    "print(nan_check)"
   ]
  },
  {
   "cell_type": "markdown",
   "id": "f6af5f6f",
   "metadata": {},
   "source": [
    "We've got a reasonable amount of NaNs for Total Rain, Total Snow, and Spd of Max Gust, which shouldn't take long to manually impute. After looking through similar weather datasets from 2020 from other Toronto-based stations, I see that these datasets have more missing values than our current – so I've chosen to instead impute the NaNs by taking an average of the values for the nearest dates above and below each NaN, for each column. \n",
    "\n",
    "I will now replace our weather_2020 dataset the updated dataset, and re-drop the unnecessary columns:"
   ]
  },
  {
   "cell_type": "code",
   "execution_count": 83,
   "id": "9cd833f0",
   "metadata": {},
   "outputs": [],
   "source": [
    "weather_2020 = pd.read_csv('en_climate_daily_ON_6158731_2020_P1D_noNaN.csv')"
   ]
  },
  {
   "cell_type": "code",
   "execution_count": 84,
   "id": "3ef1ae99",
   "metadata": {},
   "outputs": [],
   "source": [
    "weather_2020.drop(columns=[\n",
    "    'Longitude (x)', 'Latitude (y)', 'Station Name', 'Climate ID', 'Year',\n",
    "    'Month', 'Day', 'Data Quality', 'Max Temp (°C)', 'Max Temp Flag',\n",
    "    'Min Temp (°C)', 'Min Temp Flag', 'Mean Temp Flag', 'Heat Deg Days (°C)',\n",
    "    'Heat Deg Days Flag', 'Cool Deg Days (°C)', 'Cool Deg Days Flag',\n",
    "    'Total Rain Flag', 'Total Snow Flag', 'Total Precip Flag',\n",
    "    'Snow on Grnd (cm)', 'Snow on Grnd Flag', 'Dir of Max Gust (10s deg)',\n",
    "    'Dir of Max Gust Flag', 'Spd of Max Gust Flag'\n",
    "], inplace=True)"
   ]
  },
  {
   "cell_type": "code",
   "execution_count": 85,
   "id": "8f36d4aa",
   "metadata": {},
   "outputs": [
    {
     "name": "stdout",
     "output_type": "stream",
     "text": [
      "Date/Time                 0\n",
      "Mean Temp (°C)            0\n",
      "Total Rain (mm)           0\n",
      "Total Snow (cm)           0\n",
      "Total Precip (mm)         0\n",
      "Spd of Max Gust (km/h)    0\n",
      "dtype: int64\n"
     ]
    }
   ],
   "source": [
    "# confirming that no NaNs remain \n",
    "nan_check = weather_2020.isnull().sum()\n",
    "print(nan_check)"
   ]
  },
  {
   "cell_type": "code",
   "execution_count": 86,
   "id": "b18e9915",
   "metadata": {},
   "outputs": [
    {
     "data": {
      "text/plain": [
       "Date/Time                  object\n",
       "Mean Temp (°C)            float64\n",
       "Total Rain (mm)           float64\n",
       "Total Snow (cm)           float64\n",
       "Total Precip (mm)         float64\n",
       "Spd of Max Gust (km/h)    float64\n",
       "dtype: object"
      ]
     },
     "execution_count": 86,
     "metadata": {},
     "output_type": "execute_result"
    }
   ],
   "source": [
    "# reviewing value types\n",
    "weather_2020.dtypes"
   ]
  },
  {
   "cell_type": "code",
   "execution_count": 87,
   "id": "5e467262",
   "metadata": {},
   "outputs": [],
   "source": [
    "# correcting weather value (to datetime)\n",
    "weather_2020['Date/Time'] = pd.to_datetime(weather_2020['Date/Time'])"
   ]
  },
  {
   "cell_type": "code",
   "execution_count": 88,
   "id": "d7f42ea0",
   "metadata": {},
   "outputs": [
    {
     "data": {
      "text/plain": [
       "366"
      ]
     },
     "execution_count": 88,
     "metadata": {},
     "output_type": "execute_result"
    }
   ],
   "source": [
    "# checking the values are complete – 2020 was a leap year, so 366 is what we expect\n",
    "len(weather_2020['Date/Time'].unique())"
   ]
  },
  {
   "cell_type": "code",
   "execution_count": 89,
   "id": "bc6e8343",
   "metadata": {
    "scrolled": true
   },
   "outputs": [
    {
     "data": {
      "text/html": [
       "<div>\n",
       "<style scoped>\n",
       "    .dataframe tbody tr th:only-of-type {\n",
       "        vertical-align: middle;\n",
       "    }\n",
       "\n",
       "    .dataframe tbody tr th {\n",
       "        vertical-align: top;\n",
       "    }\n",
       "\n",
       "    .dataframe thead th {\n",
       "        text-align: right;\n",
       "    }\n",
       "</style>\n",
       "<table border=\"1\" class=\"dataframe\">\n",
       "  <thead>\n",
       "    <tr style=\"text-align: right;\">\n",
       "      <th></th>\n",
       "      <th>Mean Temp (°C)</th>\n",
       "      <th>Total Rain (mm)</th>\n",
       "      <th>Total Snow (cm)</th>\n",
       "      <th>Total Precip (mm)</th>\n",
       "      <th>Spd of Max Gust (km/h)</th>\n",
       "    </tr>\n",
       "  </thead>\n",
       "  <tbody>\n",
       "    <tr>\n",
       "      <th>count</th>\n",
       "      <td>366.000000</td>\n",
       "      <td>366.000000</td>\n",
       "      <td>366.000000</td>\n",
       "      <td>366.000000</td>\n",
       "      <td>366.000000</td>\n",
       "    </tr>\n",
       "    <tr>\n",
       "      <th>mean</th>\n",
       "      <td>9.763934</td>\n",
       "      <td>1.672951</td>\n",
       "      <td>0.549180</td>\n",
       "      <td>2.078689</td>\n",
       "      <td>46.323770</td>\n",
       "    </tr>\n",
       "    <tr>\n",
       "      <th>std</th>\n",
       "      <td>10.071828</td>\n",
       "      <td>5.082865</td>\n",
       "      <td>2.044582</td>\n",
       "      <td>5.314187</td>\n",
       "      <td>11.032627</td>\n",
       "    </tr>\n",
       "    <tr>\n",
       "      <th>min</th>\n",
       "      <td>-14.900000</td>\n",
       "      <td>0.000000</td>\n",
       "      <td>0.000000</td>\n",
       "      <td>0.000000</td>\n",
       "      <td>32.000000</td>\n",
       "    </tr>\n",
       "    <tr>\n",
       "      <th>25%</th>\n",
       "      <td>1.600000</td>\n",
       "      <td>0.000000</td>\n",
       "      <td>0.000000</td>\n",
       "      <td>0.000000</td>\n",
       "      <td>39.000000</td>\n",
       "    </tr>\n",
       "    <tr>\n",
       "      <th>50%</th>\n",
       "      <td>8.350000</td>\n",
       "      <td>0.000000</td>\n",
       "      <td>0.000000</td>\n",
       "      <td>0.000000</td>\n",
       "      <td>45.000000</td>\n",
       "    </tr>\n",
       "    <tr>\n",
       "      <th>75%</th>\n",
       "      <td>19.300000</td>\n",
       "      <td>0.750000</td>\n",
       "      <td>0.000000</td>\n",
       "      <td>1.800000</td>\n",
       "      <td>53.125000</td>\n",
       "    </tr>\n",
       "    <tr>\n",
       "      <th>max</th>\n",
       "      <td>28.400000</td>\n",
       "      <td>59.000000</td>\n",
       "      <td>19.400000</td>\n",
       "      <td>59.000000</td>\n",
       "      <td>91.000000</td>\n",
       "    </tr>\n",
       "  </tbody>\n",
       "</table>\n",
       "</div>"
      ],
      "text/plain": [
       "       Mean Temp (°C)  Total Rain (mm)  Total Snow (cm)  Total Precip (mm)  \\\n",
       "count      366.000000       366.000000       366.000000         366.000000   \n",
       "mean         9.763934         1.672951         0.549180           2.078689   \n",
       "std         10.071828         5.082865         2.044582           5.314187   \n",
       "min        -14.900000         0.000000         0.000000           0.000000   \n",
       "25%          1.600000         0.000000         0.000000           0.000000   \n",
       "50%          8.350000         0.000000         0.000000           0.000000   \n",
       "75%         19.300000         0.750000         0.000000           1.800000   \n",
       "max         28.400000        59.000000        19.400000          59.000000   \n",
       "\n",
       "       Spd of Max Gust (km/h)  \n",
       "count              366.000000  \n",
       "mean                46.323770  \n",
       "std                 11.032627  \n",
       "min                 32.000000  \n",
       "25%                 39.000000  \n",
       "50%                 45.000000  \n",
       "75%                 53.125000  \n",
       "max                 91.000000  "
      ]
     },
     "execution_count": 89,
     "metadata": {},
     "output_type": "execute_result"
    }
   ],
   "source": [
    "# reviewing basic stats\n",
    "weather_2020.describe()"
   ]
  },
  {
   "cell_type": "code",
   "execution_count": 90,
   "id": "fd49dd35",
   "metadata": {},
   "outputs": [
    {
     "data": {
      "text/plain": [
       "<AxesSubplot:xlabel='Date/Time', ylabel='Mean Temp (°C)'>"
      ]
     },
     "execution_count": 90,
     "metadata": {},
     "output_type": "execute_result"
    },
    {
     "data": {
      "image/png": "[encoded data removed]",
      "text/plain": [
       "<Figure size 1296x576 with 1 Axes>"
      ]
     },
     "metadata": {
      "needs_background": "light"
     },
     "output_type": "display_data"
    }
   ],
   "source": [
    "# plotting mean temperature over time\n",
    "plt.figure(figsize=(18,8))\n",
    "sns.lineplot(x='Date/Time', y='Mean Temp (°C)', data=weather_2020)"
   ]
  },
  {
   "cell_type": "code",
   "execution_count": 91,
   "id": "751b458e",
   "metadata": {
    "scrolled": false
   },
   "outputs": [
    {
     "data": {
      "text/plain": [
       "<matplotlib.legend.Legend at 0x7f974cd5b310>"
      ]
     },
     "execution_count": 91,
     "metadata": {},
     "output_type": "execute_result"
    },
    {
     "data": {
      "image/png": "[encoded data removed]",
      "text/plain": [
       "<Figure size 1296x720 with 1 Axes>"
      ]
     },
     "metadata": {
      "needs_background": "light"
     },
     "output_type": "display_data"
    }
   ],
   "source": [
    "# plotting rain and snow over time\n",
    "plt.figure(figsize=(18,10))\n",
    "\n",
    "x  = weather_2020['Date/Time']\n",
    "y1 = weather_2020['Total Rain (mm)']\n",
    "y2 = weather_2020['Total Snow (cm)']*10\n",
    "\n",
    "plt.stackplot(x,y1, y2, labels=['Rain','Snow'], colors=['#2C3E4C', '#C4D3DF'])\n",
    "plt.legend(loc='upper left')"
   ]
  },
  {
   "cell_type": "markdown",
   "id": "7c9782cb",
   "metadata": {},
   "source": [
    "### Exporting dataframes for use in Tableau"
   ]
  },
  {
   "cell_type": "code",
   "execution_count": 92,
   "id": "b68c1e0a",
   "metadata": {},
   "outputs": [],
   "source": [
    "# export cleaned service request df \n",
    "# requests_2020.to_csv(r'./tableau/requests_2020.csv')"
   ]
  },
  {
   "cell_type": "code",
   "execution_count": 93,
   "id": "49713f9d",
   "metadata": {},
   "outputs": [],
   "source": [
    "# export cleaned ward profile df\n",
    "# requests_by_ward.to_csv(r'./tableau/requests_by_ward.csv')"
   ]
  },
  {
   "cell_type": "code",
   "execution_count": 94,
   "id": "f99985f5",
   "metadata": {},
   "outputs": [],
   "source": [
    "# export cleaned weather df\n",
    "# weather_2020.to_csv(r'./tableau/weather_2020.csv')"
   ]
  },
  {
   "cell_type": "markdown",
   "id": "6d61ba1f",
   "metadata": {},
   "source": [
    "[↑ Back to TOC](#TOC)\n",
    "## Classification Modeling: 311 Request Section Prediction <a name=\"model\"></a>\n",
    "\n",
    "Let's return to our second question: \n",
    "\n",
    "<b>Can we predict what a Torontonian is likely to be contacting 311 about based on their location, time of year / day, weather, or other factors?</b>\n",
    "\n",
    "* [Model Attempt #1](#m1)\n",
    "* [Model Attempt #2](#m2)\n",
    "\n",
    "#### Prepping Data\n",
    "First, we'll merge the usable variables in our existing datasets together:"
   ]
  },
  {
   "cell_type": "code",
   "execution_count": 95,
   "id": "6fdb802e",
   "metadata": {},
   "outputs": [
    {
     "data": {
      "text/html": [
       "<div>\n",
       "<style scoped>\n",
       "    .dataframe tbody tr th:only-of-type {\n",
       "        vertical-align: middle;\n",
       "    }\n",
       "\n",
       "    .dataframe tbody tr th {\n",
       "        vertical-align: top;\n",
       "    }\n",
       "\n",
       "    .dataframe thead th {\n",
       "        text-align: right;\n",
       "    }\n",
       "</style>\n",
       "<table border=\"1\" class=\"dataframe\">\n",
       "  <thead>\n",
       "    <tr style=\"text-align: right;\">\n",
       "      <th></th>\n",
       "      <th>Status</th>\n",
       "      <th>First 3 Chars of Postal Code</th>\n",
       "      <th>Service Request Type</th>\n",
       "      <th>Division</th>\n",
       "      <th>Section</th>\n",
       "      <th>Date</th>\n",
       "      <th>Time</th>\n",
       "      <th>Hour</th>\n",
       "      <th>Day of Week</th>\n",
       "      <th>Weekend</th>\n",
       "      <th>Intersection</th>\n",
       "      <th>Ward Name</th>\n",
       "      <th>Ward ID</th>\n",
       "    </tr>\n",
       "  </thead>\n",
       "  <tbody>\n",
       "    <tr>\n",
       "      <th>0</th>\n",
       "      <td>Closed</td>\n",
       "      <td>NaN</td>\n",
       "      <td>INJUR/DIST DOMESTIC</td>\n",
       "      <td>Municipal Licensing &amp; Standards</td>\n",
       "      <td>Toronto Animal Services</td>\n",
       "      <td>2020-01-01</td>\n",
       "      <td>00:01:46</td>\n",
       "      <td>0</td>\n",
       "      <td>Wednesday</td>\n",
       "      <td>0</td>\n",
       "      <td>1</td>\n",
       "      <td>Toronto-St. Paul's</td>\n",
       "      <td>12</td>\n",
       "    </tr>\n",
       "  </tbody>\n",
       "</table>\n",
       "</div>"
      ],
      "text/plain": [
       "   Status First 3 Chars of Postal Code Service Request Type  \\\n",
       "0  Closed                          NaN  INJUR/DIST DOMESTIC   \n",
       "\n",
       "                          Division                  Section       Date  \\\n",
       "0  Municipal Licensing & Standards  Toronto Animal Services 2020-01-01   \n",
       "\n",
       "       Time  Hour Day of Week  Weekend Intersection           Ward Name  \\\n",
       "0  00:01:46     0   Wednesday        0            1  Toronto-St. Paul's   \n",
       "\n",
       "  Ward ID  \n",
       "0      12  "
      ]
     },
     "execution_count": 95,
     "metadata": {},
     "output_type": "execute_result"
    }
   ],
   "source": [
    "# reminder of the data in requests_2020\n",
    "requests_2020.head(1)"
   ]
  },
  {
   "cell_type": "code",
   "execution_count": 96,
   "id": "872c6fe1",
   "metadata": {},
   "outputs": [],
   "source": [
    "# removing unecessary columns from requests_2020 and saving to model frame\n",
    "model_frame = requests_2020.drop(columns=['Status', 'Service Request Type', 'Division', 'Time', 'Ward ID']).copy()"
   ]
  },
  {
   "cell_type": "code",
   "execution_count": 97,
   "id": "d85ef2c8",
   "metadata": {},
   "outputs": [
    {
     "data": {
      "text/html": [
       "<div>\n",
       "<style scoped>\n",
       "    .dataframe tbody tr th:only-of-type {\n",
       "        vertical-align: middle;\n",
       "    }\n",
       "\n",
       "    .dataframe tbody tr th {\n",
       "        vertical-align: top;\n",
       "    }\n",
       "\n",
       "    .dataframe thead th {\n",
       "        text-align: right;\n",
       "    }\n",
       "</style>\n",
       "<table border=\"1\" class=\"dataframe\">\n",
       "  <thead>\n",
       "    <tr style=\"text-align: right;\">\n",
       "      <th></th>\n",
       "      <th>First 3 Chars of Postal Code</th>\n",
       "      <th>Section</th>\n",
       "      <th>Date</th>\n",
       "      <th>Hour</th>\n",
       "      <th>Day of Week</th>\n",
       "      <th>Weekend</th>\n",
       "      <th>Intersection</th>\n",
       "      <th>Ward Name</th>\n",
       "    </tr>\n",
       "  </thead>\n",
       "  <tbody>\n",
       "    <tr>\n",
       "      <th>0</th>\n",
       "      <td>NaN</td>\n",
       "      <td>Toronto Animal Services</td>\n",
       "      <td>2020-01-01</td>\n",
       "      <td>0</td>\n",
       "      <td>Wednesday</td>\n",
       "      <td>0</td>\n",
       "      <td>1</td>\n",
       "      <td>Toronto-St. Paul's</td>\n",
       "    </tr>\n",
       "  </tbody>\n",
       "</table>\n",
       "</div>"
      ],
      "text/plain": [
       "  First 3 Chars of Postal Code                  Section       Date  Hour  \\\n",
       "0                          NaN  Toronto Animal Services 2020-01-01     0   \n",
       "\n",
       "  Day of Week  Weekend Intersection           Ward Name  \n",
       "0   Wednesday        0            1  Toronto-St. Paul's  "
      ]
     },
     "execution_count": 97,
     "metadata": {},
     "output_type": "execute_result"
    }
   ],
   "source": [
    "model_frame.head(1)"
   ]
  },
  {
   "cell_type": "code",
   "execution_count": 98,
   "id": "dff0d55f",
   "metadata": {},
   "outputs": [],
   "source": [
    "# merging with weather data\n",
    "model_frame = pd.merge(model_frame, weather_2020, how='inner', left_on='Date', right_on='Date/Time')"
   ]
  },
  {
   "cell_type": "code",
   "execution_count": 99,
   "id": "44125b82",
   "metadata": {
    "scrolled": false
   },
   "outputs": [
    {
     "data": {
      "text/html": [
       "<div>\n",
       "<style scoped>\n",
       "    .dataframe tbody tr th:only-of-type {\n",
       "        vertical-align: middle;\n",
       "    }\n",
       "\n",
       "    .dataframe tbody tr th {\n",
       "        vertical-align: top;\n",
       "    }\n",
       "\n",
       "    .dataframe thead th {\n",
       "        text-align: right;\n",
       "    }\n",
       "</style>\n",
       "<table border=\"1\" class=\"dataframe\">\n",
       "  <thead>\n",
       "    <tr style=\"text-align: right;\">\n",
       "      <th></th>\n",
       "      <th>First 3 Chars of Postal Code</th>\n",
       "      <th>Section</th>\n",
       "      <th>Date</th>\n",
       "      <th>Hour</th>\n",
       "      <th>Day of Week</th>\n",
       "      <th>Weekend</th>\n",
       "      <th>Intersection</th>\n",
       "      <th>Ward Name</th>\n",
       "      <th>Date/Time</th>\n",
       "      <th>Mean Temp (°C)</th>\n",
       "      <th>Total Rain (mm)</th>\n",
       "      <th>Total Snow (cm)</th>\n",
       "      <th>Total Precip (mm)</th>\n",
       "      <th>Spd of Max Gust (km/h)</th>\n",
       "    </tr>\n",
       "  </thead>\n",
       "  <tbody>\n",
       "    <tr>\n",
       "      <th>0</th>\n",
       "      <td>NaN</td>\n",
       "      <td>Toronto Animal Services</td>\n",
       "      <td>2020-01-01</td>\n",
       "      <td>0</td>\n",
       "      <td>Wednesday</td>\n",
       "      <td>0</td>\n",
       "      <td>1</td>\n",
       "      <td>Toronto-St. Paul's</td>\n",
       "      <td>2020-01-01</td>\n",
       "      <td>-1.7</td>\n",
       "      <td>0.0</td>\n",
       "      <td>0.0</td>\n",
       "      <td>0.0</td>\n",
       "      <td>42.0</td>\n",
       "    </tr>\n",
       "  </tbody>\n",
       "</table>\n",
       "</div>"
      ],
      "text/plain": [
       "  First 3 Chars of Postal Code                  Section       Date  Hour  \\\n",
       "0                          NaN  Toronto Animal Services 2020-01-01     0   \n",
       "\n",
       "  Day of Week  Weekend Intersection           Ward Name  Date/Time  \\\n",
       "0   Wednesday        0            1  Toronto-St. Paul's 2020-01-01   \n",
       "\n",
       "   Mean Temp (°C)  Total Rain (mm)  Total Snow (cm)  Total Precip (mm)  \\\n",
       "0            -1.7              0.0              0.0                0.0   \n",
       "\n",
       "   Spd of Max Gust (km/h)  \n",
       "0                    42.0  "
      ]
     },
     "execution_count": 99,
     "metadata": {},
     "output_type": "execute_result"
    }
   ],
   "source": [
    "model_frame.head(1)"
   ]
  },
  {
   "cell_type": "code",
   "execution_count": 100,
   "id": "d8f706e1",
   "metadata": {},
   "outputs": [],
   "source": [
    "# extract month and day from 'Date' column\n",
    "model_frame['Month'] = pd.to_datetime(model_frame['Date']).dt.month.astype(str)\n",
    "model_frame['Day'] = pd.to_datetime(model_frame['Date']).dt.day.astype(str)"
   ]
  },
  {
   "cell_type": "code",
   "execution_count": 101,
   "id": "5d52926a",
   "metadata": {},
   "outputs": [],
   "source": [
    "# delete uneccessary columns: 'Date', 'Date/Time'\n",
    "model_frame.drop(columns=['Date', 'Date/Time'], inplace=True)"
   ]
  },
  {
   "cell_type": "code",
   "execution_count": 102,
   "id": "7201dfc4",
   "metadata": {},
   "outputs": [
    {
     "data": {
      "text/html": [
       "<div>\n",
       "<style scoped>\n",
       "    .dataframe tbody tr th:only-of-type {\n",
       "        vertical-align: middle;\n",
       "    }\n",
       "\n",
       "    .dataframe tbody tr th {\n",
       "        vertical-align: top;\n",
       "    }\n",
       "\n",
       "    .dataframe thead th {\n",
       "        text-align: right;\n",
       "    }\n",
       "</style>\n",
       "<table border=\"1\" class=\"dataframe\">\n",
       "  <thead>\n",
       "    <tr style=\"text-align: right;\">\n",
       "      <th></th>\n",
       "      <th>First 3 Chars of Postal Code</th>\n",
       "      <th>Section</th>\n",
       "      <th>Hour</th>\n",
       "      <th>Day of Week</th>\n",
       "      <th>Weekend</th>\n",
       "      <th>Intersection</th>\n",
       "      <th>Ward Name</th>\n",
       "      <th>Mean Temp (°C)</th>\n",
       "      <th>Total Rain (mm)</th>\n",
       "      <th>Total Snow (cm)</th>\n",
       "      <th>Total Precip (mm)</th>\n",
       "      <th>Spd of Max Gust (km/h)</th>\n",
       "      <th>Month</th>\n",
       "      <th>Day</th>\n",
       "    </tr>\n",
       "  </thead>\n",
       "  <tbody>\n",
       "    <tr>\n",
       "      <th>0</th>\n",
       "      <td>NaN</td>\n",
       "      <td>Toronto Animal Services</td>\n",
       "      <td>0</td>\n",
       "      <td>Wednesday</td>\n",
       "      <td>0</td>\n",
       "      <td>1</td>\n",
       "      <td>Toronto-St. Paul's</td>\n",
       "      <td>-1.7</td>\n",
       "      <td>0.0</td>\n",
       "      <td>0.0</td>\n",
       "      <td>0.0</td>\n",
       "      <td>42.0</td>\n",
       "      <td>1</td>\n",
       "      <td>1</td>\n",
       "    </tr>\n",
       "    <tr>\n",
       "      <th>1</th>\n",
       "      <td>M4C</td>\n",
       "      <td>District Ops</td>\n",
       "      <td>1</td>\n",
       "      <td>Wednesday</td>\n",
       "      <td>0</td>\n",
       "      <td>0</td>\n",
       "      <td>Beaches-East York</td>\n",
       "      <td>-1.7</td>\n",
       "      <td>0.0</td>\n",
       "      <td>0.0</td>\n",
       "      <td>0.0</td>\n",
       "      <td>42.0</td>\n",
       "      <td>1</td>\n",
       "      <td>1</td>\n",
       "    </tr>\n",
       "    <tr>\n",
       "      <th>2</th>\n",
       "      <td>M9A</td>\n",
       "      <td>Toronto Animal Services</td>\n",
       "      <td>2</td>\n",
       "      <td>Wednesday</td>\n",
       "      <td>0</td>\n",
       "      <td>0</td>\n",
       "      <td>Etobicoke-Lakeshore</td>\n",
       "      <td>-1.7</td>\n",
       "      <td>0.0</td>\n",
       "      <td>0.0</td>\n",
       "      <td>0.0</td>\n",
       "      <td>42.0</td>\n",
       "      <td>1</td>\n",
       "      <td>1</td>\n",
       "    </tr>\n",
       "    <tr>\n",
       "      <th>3</th>\n",
       "      <td>M6C</td>\n",
       "      <td>District Ops</td>\n",
       "      <td>2</td>\n",
       "      <td>Wednesday</td>\n",
       "      <td>0</td>\n",
       "      <td>0</td>\n",
       "      <td>Toronto-St. Paul's</td>\n",
       "      <td>-1.7</td>\n",
       "      <td>0.0</td>\n",
       "      <td>0.0</td>\n",
       "      <td>0.0</td>\n",
       "      <td>42.0</td>\n",
       "      <td>1</td>\n",
       "      <td>1</td>\n",
       "    </tr>\n",
       "    <tr>\n",
       "      <th>4</th>\n",
       "      <td>NaN</td>\n",
       "      <td>TMC</td>\n",
       "      <td>2</td>\n",
       "      <td>Wednesday</td>\n",
       "      <td>0</td>\n",
       "      <td>1</td>\n",
       "      <td>Don Valley North</td>\n",
       "      <td>-1.7</td>\n",
       "      <td>0.0</td>\n",
       "      <td>0.0</td>\n",
       "      <td>0.0</td>\n",
       "      <td>42.0</td>\n",
       "      <td>1</td>\n",
       "      <td>1</td>\n",
       "    </tr>\n",
       "  </tbody>\n",
       "</table>\n",
       "</div>"
      ],
      "text/plain": [
       "  First 3 Chars of Postal Code                  Section  Hour Day of Week  \\\n",
       "0                          NaN  Toronto Animal Services     0   Wednesday   \n",
       "1                          M4C             District Ops     1   Wednesday   \n",
       "2                          M9A  Toronto Animal Services     2   Wednesday   \n",
       "3                          M6C             District Ops     2   Wednesday   \n",
       "4                          NaN                      TMC     2   Wednesday   \n",
       "\n",
       "   Weekend Intersection            Ward Name  Mean Temp (°C)  Total Rain (mm)  \\\n",
       "0        0            1   Toronto-St. Paul's            -1.7              0.0   \n",
       "1        0            0    Beaches-East York            -1.7              0.0   \n",
       "2        0            0  Etobicoke-Lakeshore            -1.7              0.0   \n",
       "3        0            0   Toronto-St. Paul's            -1.7              0.0   \n",
       "4        0            1     Don Valley North            -1.7              0.0   \n",
       "\n",
       "   Total Snow (cm)  Total Precip (mm)  Spd of Max Gust (km/h) Month Day  \n",
       "0              0.0                0.0                    42.0     1   1  \n",
       "1              0.0                0.0                    42.0     1   1  \n",
       "2              0.0                0.0                    42.0     1   1  \n",
       "3              0.0                0.0                    42.0     1   1  \n",
       "4              0.0                0.0                    42.0     1   1  "
      ]
     },
     "execution_count": 102,
     "metadata": {},
     "output_type": "execute_result"
    }
   ],
   "source": [
    "model_frame.head()"
   ]
  },
  {
   "cell_type": "code",
   "execution_count": 103,
   "id": "34c4ec66",
   "metadata": {},
   "outputs": [
    {
     "data": {
      "text/plain": [
       "First 3 Chars of Postal Code     object\n",
       "Section                          object\n",
       "Hour                              int64\n",
       "Day of Week                      object\n",
       "Weekend                           int64\n",
       "Intersection                     object\n",
       "Ward Name                        object\n",
       "Mean Temp (°C)                  float64\n",
       "Total Rain (mm)                 float64\n",
       "Total Snow (cm)                 float64\n",
       "Total Precip (mm)               float64\n",
       "Spd of Max Gust (km/h)          float64\n",
       "Month                            object\n",
       "Day                              object\n",
       "dtype: object"
      ]
     },
     "execution_count": 103,
     "metadata": {},
     "output_type": "execute_result"
    }
   ],
   "source": [
    "# checking that formats are correct \n",
    "model_frame.dtypes"
   ]
  },
  {
   "cell_type": "code",
   "execution_count": 104,
   "id": "5023e5c0",
   "metadata": {},
   "outputs": [],
   "source": [
    "# reassigning incorrect formats\n",
    "model_frame['Hour'] = model_frame['Hour'].astype(str)\n",
    "model_frame['Weekend'] = model_frame['Weekend'].astype(str)\n",
    "model_frame['Intersection'] = model_frame['Intersection'].astype(str)"
   ]
  },
  {
   "cell_type": "code",
   "execution_count": 105,
   "id": "0d9849cc",
   "metadata": {
    "scrolled": true
   },
   "outputs": [
    {
     "data": {
      "text/html": [
       "<div>\n",
       "<style scoped>\n",
       "    .dataframe tbody tr th:only-of-type {\n",
       "        vertical-align: middle;\n",
       "    }\n",
       "\n",
       "    .dataframe tbody tr th {\n",
       "        vertical-align: top;\n",
       "    }\n",
       "\n",
       "    .dataframe thead th {\n",
       "        text-align: right;\n",
       "    }\n",
       "</style>\n",
       "<table border=\"1\" class=\"dataframe\">\n",
       "  <thead>\n",
       "    <tr style=\"text-align: right;\">\n",
       "      <th></th>\n",
       "      <th>First 3 Chars of Postal Code</th>\n",
       "      <th>Section</th>\n",
       "      <th>Hour</th>\n",
       "      <th>Day of Week</th>\n",
       "      <th>Weekend</th>\n",
       "      <th>Intersection</th>\n",
       "      <th>Ward Name</th>\n",
       "      <th>Mean Temp (°C)</th>\n",
       "      <th>Total Rain (mm)</th>\n",
       "      <th>Total Snow (cm)</th>\n",
       "      <th>Total Precip (mm)</th>\n",
       "      <th>Spd of Max Gust (km/h)</th>\n",
       "      <th>Month</th>\n",
       "      <th>Day</th>\n",
       "    </tr>\n",
       "  </thead>\n",
       "  <tbody>\n",
       "    <tr>\n",
       "      <th>0</th>\n",
       "      <td>NaN</td>\n",
       "      <td>Toronto Animal Services</td>\n",
       "      <td>0</td>\n",
       "      <td>Wednesday</td>\n",
       "      <td>0</td>\n",
       "      <td>1</td>\n",
       "      <td>Toronto-St. Paul's</td>\n",
       "      <td>-1.7</td>\n",
       "      <td>0.0</td>\n",
       "      <td>0.0</td>\n",
       "      <td>0.0</td>\n",
       "      <td>42.0</td>\n",
       "      <td>1</td>\n",
       "      <td>1</td>\n",
       "    </tr>\n",
       "    <tr>\n",
       "      <th>1</th>\n",
       "      <td>M4C</td>\n",
       "      <td>District Ops</td>\n",
       "      <td>1</td>\n",
       "      <td>Wednesday</td>\n",
       "      <td>0</td>\n",
       "      <td>0</td>\n",
       "      <td>Beaches-East York</td>\n",
       "      <td>-1.7</td>\n",
       "      <td>0.0</td>\n",
       "      <td>0.0</td>\n",
       "      <td>0.0</td>\n",
       "      <td>42.0</td>\n",
       "      <td>1</td>\n",
       "      <td>1</td>\n",
       "    </tr>\n",
       "    <tr>\n",
       "      <th>2</th>\n",
       "      <td>M9A</td>\n",
       "      <td>Toronto Animal Services</td>\n",
       "      <td>2</td>\n",
       "      <td>Wednesday</td>\n",
       "      <td>0</td>\n",
       "      <td>0</td>\n",
       "      <td>Etobicoke-Lakeshore</td>\n",
       "      <td>-1.7</td>\n",
       "      <td>0.0</td>\n",
       "      <td>0.0</td>\n",
       "      <td>0.0</td>\n",
       "      <td>42.0</td>\n",
       "      <td>1</td>\n",
       "      <td>1</td>\n",
       "    </tr>\n",
       "    <tr>\n",
       "      <th>3</th>\n",
       "      <td>M6C</td>\n",
       "      <td>District Ops</td>\n",
       "      <td>2</td>\n",
       "      <td>Wednesday</td>\n",
       "      <td>0</td>\n",
       "      <td>0</td>\n",
       "      <td>Toronto-St. Paul's</td>\n",
       "      <td>-1.7</td>\n",
       "      <td>0.0</td>\n",
       "      <td>0.0</td>\n",
       "      <td>0.0</td>\n",
       "      <td>42.0</td>\n",
       "      <td>1</td>\n",
       "      <td>1</td>\n",
       "    </tr>\n",
       "    <tr>\n",
       "      <th>4</th>\n",
       "      <td>NaN</td>\n",
       "      <td>TMC</td>\n",
       "      <td>2</td>\n",
       "      <td>Wednesday</td>\n",
       "      <td>0</td>\n",
       "      <td>1</td>\n",
       "      <td>Don Valley North</td>\n",
       "      <td>-1.7</td>\n",
       "      <td>0.0</td>\n",
       "      <td>0.0</td>\n",
       "      <td>0.0</td>\n",
       "      <td>42.0</td>\n",
       "      <td>1</td>\n",
       "      <td>1</td>\n",
       "    </tr>\n",
       "  </tbody>\n",
       "</table>\n",
       "</div>"
      ],
      "text/plain": [
       "  First 3 Chars of Postal Code                  Section Hour Day of Week  \\\n",
       "0                          NaN  Toronto Animal Services    0   Wednesday   \n",
       "1                          M4C             District Ops    1   Wednesday   \n",
       "2                          M9A  Toronto Animal Services    2   Wednesday   \n",
       "3                          M6C             District Ops    2   Wednesday   \n",
       "4                          NaN                      TMC    2   Wednesday   \n",
       "\n",
       "  Weekend Intersection            Ward Name  Mean Temp (°C)  Total Rain (mm)  \\\n",
       "0       0            1   Toronto-St. Paul's            -1.7              0.0   \n",
       "1       0            0    Beaches-East York            -1.7              0.0   \n",
       "2       0            0  Etobicoke-Lakeshore            -1.7              0.0   \n",
       "3       0            0   Toronto-St. Paul's            -1.7              0.0   \n",
       "4       0            1     Don Valley North            -1.7              0.0   \n",
       "\n",
       "   Total Snow (cm)  Total Precip (mm)  Spd of Max Gust (km/h) Month Day  \n",
       "0              0.0                0.0                    42.0     1   1  \n",
       "1              0.0                0.0                    42.0     1   1  \n",
       "2              0.0                0.0                    42.0     1   1  \n",
       "3              0.0                0.0                    42.0     1   1  \n",
       "4              0.0                0.0                    42.0     1   1  "
      ]
     },
     "execution_count": 105,
     "metadata": {},
     "output_type": "execute_result"
    }
   ],
   "source": [
    "model_frame.head()"
   ]
  },
  {
   "cell_type": "markdown",
   "id": "e3bfdda9",
   "metadata": {},
   "source": [
    "Since some of our features are strings, we will need to encode them in order to fit our model."
   ]
  },
  {
   "cell_type": "code",
   "execution_count": 106,
   "id": "ee492dba",
   "metadata": {},
   "outputs": [
    {
     "data": {
      "text/html": [
       "<div>\n",
       "<style scoped>\n",
       "    .dataframe tbody tr th:only-of-type {\n",
       "        vertical-align: middle;\n",
       "    }\n",
       "\n",
       "    .dataframe tbody tr th {\n",
       "        vertical-align: top;\n",
       "    }\n",
       "\n",
       "    .dataframe thead th {\n",
       "        text-align: right;\n",
       "    }\n",
       "</style>\n",
       "<table border=\"1\" class=\"dataframe\">\n",
       "  <thead>\n",
       "    <tr style=\"text-align: right;\">\n",
       "      <th></th>\n",
       "      <th>First 3 Chars of Postal Code</th>\n",
       "      <th>Day of Week</th>\n",
       "      <th>Ward Name</th>\n",
       "    </tr>\n",
       "  </thead>\n",
       "  <tbody>\n",
       "    <tr>\n",
       "      <th>0</th>\n",
       "      <td>NaN</td>\n",
       "      <td>Wednesday</td>\n",
       "      <td>Toronto-St. Paul's</td>\n",
       "    </tr>\n",
       "    <tr>\n",
       "      <th>1</th>\n",
       "      <td>M4C</td>\n",
       "      <td>Wednesday</td>\n",
       "      <td>Beaches-East York</td>\n",
       "    </tr>\n",
       "    <tr>\n",
       "      <th>2</th>\n",
       "      <td>M9A</td>\n",
       "      <td>Wednesday</td>\n",
       "      <td>Etobicoke-Lakeshore</td>\n",
       "    </tr>\n",
       "    <tr>\n",
       "      <th>3</th>\n",
       "      <td>M6C</td>\n",
       "      <td>Wednesday</td>\n",
       "      <td>Toronto-St. Paul's</td>\n",
       "    </tr>\n",
       "    <tr>\n",
       "      <th>4</th>\n",
       "      <td>NaN</td>\n",
       "      <td>Wednesday</td>\n",
       "      <td>Don Valley North</td>\n",
       "    </tr>\n",
       "    <tr>\n",
       "      <th>...</th>\n",
       "      <td>...</td>\n",
       "      <td>...</td>\n",
       "      <td>...</td>\n",
       "    </tr>\n",
       "    <tr>\n",
       "      <th>347743</th>\n",
       "      <td>M9C</td>\n",
       "      <td>Thursday</td>\n",
       "      <td>Etobicoke Centre</td>\n",
       "    </tr>\n",
       "    <tr>\n",
       "      <th>347744</th>\n",
       "      <td>M4K</td>\n",
       "      <td>Thursday</td>\n",
       "      <td>Toronto-Danforth</td>\n",
       "    </tr>\n",
       "    <tr>\n",
       "      <th>347745</th>\n",
       "      <td>M6S</td>\n",
       "      <td>Thursday</td>\n",
       "      <td>Parkdale-High Park</td>\n",
       "    </tr>\n",
       "    <tr>\n",
       "      <th>347746</th>\n",
       "      <td>M1P</td>\n",
       "      <td>Thursday</td>\n",
       "      <td>Scarborough Centre</td>\n",
       "    </tr>\n",
       "    <tr>\n",
       "      <th>347747</th>\n",
       "      <td>M6K</td>\n",
       "      <td>Thursday</td>\n",
       "      <td>Spadina-Fort York</td>\n",
       "    </tr>\n",
       "  </tbody>\n",
       "</table>\n",
       "<p>347748 rows × 3 columns</p>\n",
       "</div>"
      ],
      "text/plain": [
       "       First 3 Chars of Postal Code Day of Week            Ward Name\n",
       "0                               NaN   Wednesday   Toronto-St. Paul's\n",
       "1                               M4C   Wednesday    Beaches-East York\n",
       "2                               M9A   Wednesday  Etobicoke-Lakeshore\n",
       "3                               M6C   Wednesday   Toronto-St. Paul's\n",
       "4                               NaN   Wednesday     Don Valley North\n",
       "...                             ...         ...                  ...\n",
       "347743                          M9C    Thursday     Etobicoke Centre\n",
       "347744                          M4K    Thursday     Toronto-Danforth\n",
       "347745                          M6S    Thursday   Parkdale-High Park\n",
       "347746                          M1P    Thursday   Scarborough Centre\n",
       "347747                          M6K    Thursday    Spadina-Fort York\n",
       "\n",
       "[347748 rows x 3 columns]"
      ]
     },
     "execution_count": 106,
     "metadata": {},
     "output_type": "execute_result"
    }
   ],
   "source": [
    "# Separating non-numeric features from model_frame to encode\n",
    "model_frame_numeric = model_frame[['First 3 Chars of Postal Code', 'Day of Week', 'Ward Name']]\n",
    "model_frame_numeric"
   ]
  },
  {
   "cell_type": "code",
   "execution_count": 107,
   "id": "41e7fc6e",
   "metadata": {},
   "outputs": [],
   "source": [
    "# Dropping the non numeric from our model_frame\n",
    "model_frame.drop(columns = ['First 3 Chars of Postal Code', 'Day of Week', 'Ward Name'], inplace=True)"
   ]
  },
  {
   "cell_type": "code",
   "execution_count": 108,
   "id": "b459e996",
   "metadata": {},
   "outputs": [
    {
     "data": {
      "text/html": [
       "<div>\n",
       "<style scoped>\n",
       "    .dataframe tbody tr th:only-of-type {\n",
       "        vertical-align: middle;\n",
       "    }\n",
       "\n",
       "    .dataframe tbody tr th {\n",
       "        vertical-align: top;\n",
       "    }\n",
       "\n",
       "    .dataframe thead th {\n",
       "        text-align: right;\n",
       "    }\n",
       "</style>\n",
       "<table border=\"1\" class=\"dataframe\">\n",
       "  <thead>\n",
       "    <tr style=\"text-align: right;\">\n",
       "      <th></th>\n",
       "      <th>First 3 Chars of Postal Code</th>\n",
       "      <th>Day of Week</th>\n",
       "      <th>Ward Name</th>\n",
       "    </tr>\n",
       "  </thead>\n",
       "  <tbody>\n",
       "    <tr>\n",
       "      <th>0</th>\n",
       "      <td>100</td>\n",
       "      <td>6</td>\n",
       "      <td>20</td>\n",
       "    </tr>\n",
       "    <tr>\n",
       "      <th>1</th>\n",
       "      <td>36</td>\n",
       "      <td>6</td>\n",
       "      <td>0</td>\n",
       "    </tr>\n",
       "    <tr>\n",
       "      <th>2</th>\n",
       "      <td>90</td>\n",
       "      <td>6</td>\n",
       "      <td>8</td>\n",
       "    </tr>\n",
       "    <tr>\n",
       "      <th>3</th>\n",
       "      <td>72</td>\n",
       "      <td>6</td>\n",
       "      <td>20</td>\n",
       "    </tr>\n",
       "    <tr>\n",
       "      <th>4</th>\n",
       "      <td>100</td>\n",
       "      <td>6</td>\n",
       "      <td>3</td>\n",
       "    </tr>\n",
       "    <tr>\n",
       "      <th>...</th>\n",
       "      <td>...</td>\n",
       "      <td>...</td>\n",
       "      <td>...</td>\n",
       "    </tr>\n",
       "    <tr>\n",
       "      <th>347743</th>\n",
       "      <td>92</td>\n",
       "      <td>4</td>\n",
       "      <td>6</td>\n",
       "    </tr>\n",
       "    <tr>\n",
       "      <th>347744</th>\n",
       "      <td>41</td>\n",
       "      <td>4</td>\n",
       "      <td>19</td>\n",
       "    </tr>\n",
       "    <tr>\n",
       "      <th>347745</th>\n",
       "      <td>83</td>\n",
       "      <td>4</td>\n",
       "      <td>10</td>\n",
       "    </tr>\n",
       "    <tr>\n",
       "      <th>347746</th>\n",
       "      <td>10</td>\n",
       "      <td>4</td>\n",
       "      <td>11</td>\n",
       "    </tr>\n",
       "    <tr>\n",
       "      <th>347747</th>\n",
       "      <td>77</td>\n",
       "      <td>4</td>\n",
       "      <td>17</td>\n",
       "    </tr>\n",
       "  </tbody>\n",
       "</table>\n",
       "<p>347748 rows × 3 columns</p>\n",
       "</div>"
      ],
      "text/plain": [
       "        First 3 Chars of Postal Code  Day of Week  Ward Name\n",
       "0                                100            6         20\n",
       "1                                 36            6          0\n",
       "2                                 90            6          8\n",
       "3                                 72            6         20\n",
       "4                                100            6          3\n",
       "...                              ...          ...        ...\n",
       "347743                            92            4          6\n",
       "347744                            41            4         19\n",
       "347745                            83            4         10\n",
       "347746                            10            4         11\n",
       "347747                            77            4         17\n",
       "\n",
       "[347748 rows x 3 columns]"
      ]
     },
     "execution_count": 108,
     "metadata": {},
     "output_type": "execute_result"
    }
   ],
   "source": [
    "# Using Label Encoding (fit transform) on our non-numeric features\n",
    "le = preprocessing.LabelEncoder()\n",
    "model_frame_numeric = model_frame_numeric.apply(LabelEncoder().fit_transform)\n",
    "model_frame_numeric"
   ]
  },
  {
   "cell_type": "code",
   "execution_count": 109,
   "id": "11616eac",
   "metadata": {},
   "outputs": [
    {
     "data": {
      "text/html": [
       "<div>\n",
       "<style scoped>\n",
       "    .dataframe tbody tr th:only-of-type {\n",
       "        vertical-align: middle;\n",
       "    }\n",
       "\n",
       "    .dataframe tbody tr th {\n",
       "        vertical-align: top;\n",
       "    }\n",
       "\n",
       "    .dataframe thead th {\n",
       "        text-align: right;\n",
       "    }\n",
       "</style>\n",
       "<table border=\"1\" class=\"dataframe\">\n",
       "  <thead>\n",
       "    <tr style=\"text-align: right;\">\n",
       "      <th></th>\n",
       "      <th>Section</th>\n",
       "      <th>Hour</th>\n",
       "      <th>Weekend</th>\n",
       "      <th>Intersection</th>\n",
       "      <th>Mean Temp (°C)</th>\n",
       "      <th>Total Rain (mm)</th>\n",
       "      <th>Total Snow (cm)</th>\n",
       "      <th>Total Precip (mm)</th>\n",
       "      <th>Spd of Max Gust (km/h)</th>\n",
       "      <th>Month</th>\n",
       "      <th>Day</th>\n",
       "      <th>First 3 Chars of Postal Code</th>\n",
       "      <th>Day of Week</th>\n",
       "      <th>Ward Name</th>\n",
       "    </tr>\n",
       "  </thead>\n",
       "  <tbody>\n",
       "    <tr>\n",
       "      <th>0</th>\n",
       "      <td>Toronto Animal Services</td>\n",
       "      <td>0</td>\n",
       "      <td>0</td>\n",
       "      <td>1</td>\n",
       "      <td>-1.7</td>\n",
       "      <td>0.0</td>\n",
       "      <td>0.0</td>\n",
       "      <td>0.0</td>\n",
       "      <td>42.0</td>\n",
       "      <td>1</td>\n",
       "      <td>1</td>\n",
       "      <td>100</td>\n",
       "      <td>6</td>\n",
       "      <td>20</td>\n",
       "    </tr>\n",
       "    <tr>\n",
       "      <th>1</th>\n",
       "      <td>District Ops</td>\n",
       "      <td>1</td>\n",
       "      <td>0</td>\n",
       "      <td>0</td>\n",
       "      <td>-1.7</td>\n",
       "      <td>0.0</td>\n",
       "      <td>0.0</td>\n",
       "      <td>0.0</td>\n",
       "      <td>42.0</td>\n",
       "      <td>1</td>\n",
       "      <td>1</td>\n",
       "      <td>36</td>\n",
       "      <td>6</td>\n",
       "      <td>0</td>\n",
       "    </tr>\n",
       "    <tr>\n",
       "      <th>2</th>\n",
       "      <td>Toronto Animal Services</td>\n",
       "      <td>2</td>\n",
       "      <td>0</td>\n",
       "      <td>0</td>\n",
       "      <td>-1.7</td>\n",
       "      <td>0.0</td>\n",
       "      <td>0.0</td>\n",
       "      <td>0.0</td>\n",
       "      <td>42.0</td>\n",
       "      <td>1</td>\n",
       "      <td>1</td>\n",
       "      <td>90</td>\n",
       "      <td>6</td>\n",
       "      <td>8</td>\n",
       "    </tr>\n",
       "    <tr>\n",
       "      <th>3</th>\n",
       "      <td>District Ops</td>\n",
       "      <td>2</td>\n",
       "      <td>0</td>\n",
       "      <td>0</td>\n",
       "      <td>-1.7</td>\n",
       "      <td>0.0</td>\n",
       "      <td>0.0</td>\n",
       "      <td>0.0</td>\n",
       "      <td>42.0</td>\n",
       "      <td>1</td>\n",
       "      <td>1</td>\n",
       "      <td>72</td>\n",
       "      <td>6</td>\n",
       "      <td>20</td>\n",
       "    </tr>\n",
       "    <tr>\n",
       "      <th>4</th>\n",
       "      <td>TMC</td>\n",
       "      <td>2</td>\n",
       "      <td>0</td>\n",
       "      <td>1</td>\n",
       "      <td>-1.7</td>\n",
       "      <td>0.0</td>\n",
       "      <td>0.0</td>\n",
       "      <td>0.0</td>\n",
       "      <td>42.0</td>\n",
       "      <td>1</td>\n",
       "      <td>1</td>\n",
       "      <td>100</td>\n",
       "      <td>6</td>\n",
       "      <td>3</td>\n",
       "    </tr>\n",
       "  </tbody>\n",
       "</table>\n",
       "</div>"
      ],
      "text/plain": [
       "                   Section Hour Weekend Intersection  Mean Temp (°C)  \\\n",
       "0  Toronto Animal Services    0       0            1            -1.7   \n",
       "1             District Ops    1       0            0            -1.7   \n",
       "2  Toronto Animal Services    2       0            0            -1.7   \n",
       "3             District Ops    2       0            0            -1.7   \n",
       "4                      TMC    2       0            1            -1.7   \n",
       "\n",
       "   Total Rain (mm)  Total Snow (cm)  Total Precip (mm)  \\\n",
       "0              0.0              0.0                0.0   \n",
       "1              0.0              0.0                0.0   \n",
       "2              0.0              0.0                0.0   \n",
       "3              0.0              0.0                0.0   \n",
       "4              0.0              0.0                0.0   \n",
       "\n",
       "   Spd of Max Gust (km/h) Month Day  First 3 Chars of Postal Code  \\\n",
       "0                    42.0     1   1                           100   \n",
       "1                    42.0     1   1                            36   \n",
       "2                    42.0     1   1                            90   \n",
       "3                    42.0     1   1                            72   \n",
       "4                    42.0     1   1                           100   \n",
       "\n",
       "   Day of Week  Ward Name  \n",
       "0            6         20  \n",
       "1            6          0  \n",
       "2            6          8  \n",
       "3            6         20  \n",
       "4            6          3  "
      ]
     },
     "execution_count": 109,
     "metadata": {},
     "output_type": "execute_result"
    }
   ],
   "source": [
    "# re-combining the model_frame\n",
    "model_frame_encoded = pd.concat([model_frame, model_frame_numeric], axis=1)\n",
    "model_frame_encoded.head()"
   ]
  },
  {
   "cell_type": "markdown",
   "id": "a55b79b5",
   "metadata": {},
   "source": [
    "Split into dependent and independent variables:"
   ]
  },
  {
   "cell_type": "code",
   "execution_count": 110,
   "id": "878a8888",
   "metadata": {},
   "outputs": [],
   "source": [
    "# define independant variables\n",
    "X = model_frame_encoded.drop(columns='Section')\n",
    "\n",
    "# define dependant variables\n",
    "y = model_frame_encoded['Section']"
   ]
  },
  {
   "cell_type": "code",
   "execution_count": 111,
   "id": "4a6e7c25",
   "metadata": {
    "scrolled": false
   },
   "outputs": [
    {
     "data": {
      "text/html": [
       "<div>\n",
       "<style scoped>\n",
       "    .dataframe tbody tr th:only-of-type {\n",
       "        vertical-align: middle;\n",
       "    }\n",
       "\n",
       "    .dataframe tbody tr th {\n",
       "        vertical-align: top;\n",
       "    }\n",
       "\n",
       "    .dataframe thead th {\n",
       "        text-align: right;\n",
       "    }\n",
       "</style>\n",
       "<table border=\"1\" class=\"dataframe\">\n",
       "  <thead>\n",
       "    <tr style=\"text-align: right;\">\n",
       "      <th></th>\n",
       "      <th>Hour</th>\n",
       "      <th>Weekend</th>\n",
       "      <th>Intersection</th>\n",
       "      <th>Mean Temp (°C)</th>\n",
       "      <th>Total Rain (mm)</th>\n",
       "      <th>Total Snow (cm)</th>\n",
       "      <th>Total Precip (mm)</th>\n",
       "      <th>Spd of Max Gust (km/h)</th>\n",
       "      <th>Month</th>\n",
       "      <th>Day</th>\n",
       "      <th>First 3 Chars of Postal Code</th>\n",
       "      <th>Day of Week</th>\n",
       "      <th>Ward Name</th>\n",
       "    </tr>\n",
       "  </thead>\n",
       "  <tbody>\n",
       "    <tr>\n",
       "      <th>0</th>\n",
       "      <td>0</td>\n",
       "      <td>0</td>\n",
       "      <td>1</td>\n",
       "      <td>-1.7</td>\n",
       "      <td>0.0</td>\n",
       "      <td>0.0</td>\n",
       "      <td>0.0</td>\n",
       "      <td>42.0</td>\n",
       "      <td>1</td>\n",
       "      <td>1</td>\n",
       "      <td>100</td>\n",
       "      <td>6</td>\n",
       "      <td>20</td>\n",
       "    </tr>\n",
       "    <tr>\n",
       "      <th>1</th>\n",
       "      <td>1</td>\n",
       "      <td>0</td>\n",
       "      <td>0</td>\n",
       "      <td>-1.7</td>\n",
       "      <td>0.0</td>\n",
       "      <td>0.0</td>\n",
       "      <td>0.0</td>\n",
       "      <td>42.0</td>\n",
       "      <td>1</td>\n",
       "      <td>1</td>\n",
       "      <td>36</td>\n",
       "      <td>6</td>\n",
       "      <td>0</td>\n",
       "    </tr>\n",
       "  </tbody>\n",
       "</table>\n",
       "</div>"
      ],
      "text/plain": [
       "  Hour Weekend Intersection  Mean Temp (°C)  Total Rain (mm)  Total Snow (cm)  \\\n",
       "0    0       0            1            -1.7              0.0              0.0   \n",
       "1    1       0            0            -1.7              0.0              0.0   \n",
       "\n",
       "   Total Precip (mm)  Spd of Max Gust (km/h) Month Day  \\\n",
       "0                0.0                    42.0     1   1   \n",
       "1                0.0                    42.0     1   1   \n",
       "\n",
       "   First 3 Chars of Postal Code  Day of Week  Ward Name  \n",
       "0                           100            6         20  \n",
       "1                            36            6          0  "
      ]
     },
     "execution_count": 111,
     "metadata": {},
     "output_type": "execute_result"
    }
   ],
   "source": [
    "X.head(2)"
   ]
  },
  {
   "cell_type": "code",
   "execution_count": 112,
   "id": "984af48b",
   "metadata": {
    "scrolled": true
   },
   "outputs": [
    {
     "data": {
      "text/plain": [
       "0         Toronto Animal Services\n",
       "1                    District Ops\n",
       "2         Toronto Animal Services\n",
       "3                    District Ops\n",
       "4                             TMC\n",
       "                   ...           \n",
       "347743       District Enforcement\n",
       "347744       District Enforcement\n",
       "347745       District Enforcement\n",
       "347746            Road Operations\n",
       "347747       District Enforcement\n",
       "Name: Section, Length: 347748, dtype: object"
      ]
     },
     "execution_count": 112,
     "metadata": {},
     "output_type": "execute_result"
    }
   ],
   "source": [
    "y"
   ]
  },
  {
   "cell_type": "markdown",
   "id": "5b955072",
   "metadata": {},
   "source": [
    "### [↑](#model) Model Attempt 1 <a name=\"m1\"></a>"
   ]
  },
  {
   "cell_type": "markdown",
   "id": "52b5cf4b",
   "metadata": {},
   "source": [
    "Splitting data into a test and train dataset:"
   ]
  },
  {
   "cell_type": "code",
   "execution_count": 113,
   "id": "12cdf7ae",
   "metadata": {},
   "outputs": [],
   "source": [
    "# splitting our data into a test and train dataset, test = 20% of data\n",
    "X_train, X_test, y_train, y_test = train_test_split(X,y, test_size=0.2, random_state=222) "
   ]
  },
  {
   "cell_type": "code",
   "execution_count": 114,
   "id": "9fdb2eae",
   "metadata": {},
   "outputs": [
    {
     "data": {
      "text/plain": [
       "(278198, 13)"
      ]
     },
     "execution_count": 114,
     "metadata": {},
     "output_type": "execute_result"
    }
   ],
   "source": [
    "X_train.shape # 80% of data"
   ]
  },
  {
   "cell_type": "code",
   "execution_count": 115,
   "id": "afdcb2c6",
   "metadata": {},
   "outputs": [
    {
     "data": {
      "text/plain": [
       "(69550, 13)"
      ]
     },
     "execution_count": 115,
     "metadata": {},
     "output_type": "execute_result"
    }
   ],
   "source": [
    "X_test.shape # 20% of data"
   ]
  },
  {
   "cell_type": "code",
   "execution_count": 116,
   "id": "a656858c",
   "metadata": {},
   "outputs": [
    {
     "data": {
      "text/plain": [
       "(278198,)"
      ]
     },
     "execution_count": 116,
     "metadata": {},
     "output_type": "execute_result"
    }
   ],
   "source": [
    "y_train.shape "
   ]
  },
  {
   "cell_type": "code",
   "execution_count": 117,
   "id": "dcb6b314",
   "metadata": {},
   "outputs": [
    {
     "data": {
      "text/plain": [
       "(69550,)"
      ]
     },
     "execution_count": 117,
     "metadata": {},
     "output_type": "execute_result"
    }
   ],
   "source": [
    "y_test.shape"
   ]
  },
  {
   "cell_type": "code",
   "execution_count": 118,
   "id": "7bfd5081",
   "metadata": {
    "scrolled": true
   },
   "outputs": [
    {
     "data": {
      "text/plain": [
       "RandomForestClassifier(n_estimators=12, random_state=222)"
      ]
     },
     "execution_count": 118,
     "metadata": {},
     "output_type": "execute_result"
    }
   ],
   "source": [
    "# calling the model \n",
    "rf = RandomForestClassifier(n_estimators=12, random_state = 222) \n",
    "\n",
    "# fitting the model\n",
    "rf.fit(X_train, y_train)"
   ]
  },
  {
   "cell_type": "markdown",
   "id": "97830ae8",
   "metadata": {},
   "source": [
    "Creating validation set for hyperparameter tuning"
   ]
  },
  {
   "cell_type": "code",
   "execution_count": 119,
   "id": "baa79a92",
   "metadata": {},
   "outputs": [],
   "source": [
    "X_train, X2, y_train, y2 = train_test_split(X, y, test_size=0.2, random_state=222)\n",
    "X_val, X_test, y_val, y_test = train_test_split(X2, y2, test_size=0.5, random_state=222)"
   ]
  },
  {
   "cell_type": "code",
   "execution_count": 120,
   "id": "916a06be",
   "metadata": {},
   "outputs": [
    {
     "data": {
      "text/plain": [
       "[<matplotlib.lines.Line2D at 0x7f96c9d115e0>]"
      ]
     },
     "execution_count": 120,
     "metadata": {},
     "output_type": "execute_result"
    },
    {
     "data": {
      "image/png": "[encoded data removed]",
      "text/plain": [
       "<Figure size 432x288 with 1 Axes>"
      ]
     },
     "metadata": {
      "needs_background": "light"
     },
     "output_type": "display_data"
    }
   ],
   "source": [
    "# testing what number of trees is most effective in my model\n",
    "# 12 appears to be the best number of trees - so we'll update this is in the model call above \n",
    "number_of_trees = range(1,20) \n",
    "scores = []\n",
    "\n",
    "for n_trees in number_of_trees:\n",
    "    rf = RandomForestClassifier(n_estimators=n_trees, random_state=222)\n",
    "    rf.fit(X_train, y_train)\n",
    "    y_pred = rf.predict(X_test)\n",
    "    scores.append(accuracy_score(y_test, y_pred))\n",
    "    \n",
    "plt.plot(number_of_trees, scores)"
   ]
  },
  {
   "cell_type": "code",
   "execution_count": 121,
   "id": "1f3522aa",
   "metadata": {},
   "outputs": [
    {
     "data": {
      "text/plain": [
       "0.4134867002156722"
      ]
     },
     "execution_count": 121,
     "metadata": {},
     "output_type": "execute_result"
    }
   ],
   "source": [
    "# finding accuracy on validation set \n",
    "\n",
    "y_pred = rf.predict(X_val)\n",
    "\n",
    "accuracy_score(y_val, y_pred)"
   ]
  },
  {
   "cell_type": "markdown",
   "id": "0ab58f82",
   "metadata": {},
   "source": [
    "Accuracy = 41.3%"
   ]
  },
  {
   "cell_type": "code",
   "execution_count": 122,
   "id": "42a813c7",
   "metadata": {
    "scrolled": false
   },
   "outputs": [
    {
     "name": "stdout",
     "output_type": "stream",
     "text": [
      "                                             precision    recall  f1-score   support\n",
      "\n",
      "                         All City Divisions       0.00      0.00      0.00         6\n",
      "             Business Operations Management       0.02      0.02      0.02        51\n",
      "            Businesss Licensing Enforcement       0.33      0.20      0.25         5\n",
      "                                Collections       0.56      0.67      0.61     14671\n",
      "                       District Enforcement       0.22      0.18      0.19      2224\n",
      "                               District Ops       0.23      0.18      0.20      3251\n",
      "                        Forestry Operations       0.22      0.20      0.21      2466\n",
      "Forestry and Natural Environment Management       0.12      0.10      0.11        70\n",
      "                          Litter Operations       0.03      0.03      0.03        97\n",
      "                                 Operations       0.17      0.12      0.14       562\n",
      "                          Parks Enforcement       0.18      0.13      0.15       443\n",
      "                         Right of Way (ROW)       0.23      0.18      0.20       562\n",
      "                            Road Operations       0.38      0.36      0.37      4629\n",
      "                                        TMC       0.26      0.22      0.24       979\n",
      "                    Toronto Animal Services       0.26      0.22      0.24      3889\n",
      "                                Traffic Ops       0.05      0.04      0.04       244\n",
      "                             Traffic Safety       0.07      0.04      0.05        27\n",
      "            Tree Protection and Plan Review       0.03      0.02      0.02       276\n",
      "                          Waste Enforcement       0.16      0.13      0.14       323\n",
      "\n",
      "                                   accuracy                           0.41     34775\n",
      "                                  macro avg       0.18      0.16      0.17     34775\n",
      "                               weighted avg       0.38      0.41      0.40     34775\n",
      "\n"
     ]
    }
   ],
   "source": [
    "print(classification_report(y_val, y_pred))"
   ]
  },
  {
   "cell_type": "code",
   "execution_count": 123,
   "id": "7e6db8bd",
   "metadata": {
    "scrolled": false
   },
   "outputs": [
    {
     "data": {
      "text/plain": [
       "<AxesSubplot:title={'center':'Feature Importance'}>"
      ]
     },
     "execution_count": 123,
     "metadata": {},
     "output_type": "execute_result"
    },
    {
     "data": {
      "image/png": "[encoded data removed]",
      "text/plain": [
       "<Figure size 1080x720 with 1 Axes>"
      ]
     },
     "metadata": {
      "needs_background": "light"
     },
     "output_type": "display_data"
    }
   ],
   "source": [
    "# Over all trees, finding the features that seem to be most important\n",
    "feature_names = X.columns\n",
    "skplt.estimators.plot_feature_importances(rf, feature_names = feature_names, figsize=(15,10), x_tick_rotation=90, text_fontsize='large')"
   ]
  },
  {
   "cell_type": "markdown",
   "id": "e9a710ac",
   "metadata": {},
   "source": [
    "Overall, an accuracy of ~40% isn't bad, when you consider that the model is predicting for 20 values. However, when we plot feature importances above, we see that many features overlap one another. Let's try this again by removing some independent variables from our model / reducing noise. "
   ]
  },
  {
   "cell_type": "markdown",
   "id": "dd4d0801",
   "metadata": {},
   "source": [
    "### [↑](#model) Model Attempt 2 <a name=\"m2\"></a>"
   ]
  },
  {
   "cell_type": "markdown",
   "id": "fe4ff51f",
   "metadata": {},
   "source": [
    "First, let's revisit our independent variables and drop features we think may be highly correlated."
   ]
  },
  {
   "cell_type": "code",
   "execution_count": 124,
   "id": "f4769db8",
   "metadata": {},
   "outputs": [
    {
     "data": {
      "text/html": [
       "<div>\n",
       "<style scoped>\n",
       "    .dataframe tbody tr th:only-of-type {\n",
       "        vertical-align: middle;\n",
       "    }\n",
       "\n",
       "    .dataframe tbody tr th {\n",
       "        vertical-align: top;\n",
       "    }\n",
       "\n",
       "    .dataframe thead th {\n",
       "        text-align: right;\n",
       "    }\n",
       "</style>\n",
       "<table border=\"1\" class=\"dataframe\">\n",
       "  <thead>\n",
       "    <tr style=\"text-align: right;\">\n",
       "      <th></th>\n",
       "      <th>Hour</th>\n",
       "      <th>Weekend</th>\n",
       "      <th>Intersection</th>\n",
       "      <th>Mean Temp (°C)</th>\n",
       "      <th>Total Rain (mm)</th>\n",
       "      <th>Total Snow (cm)</th>\n",
       "      <th>Total Precip (mm)</th>\n",
       "      <th>Spd of Max Gust (km/h)</th>\n",
       "      <th>Month</th>\n",
       "      <th>Day</th>\n",
       "      <th>First 3 Chars of Postal Code</th>\n",
       "      <th>Day of Week</th>\n",
       "      <th>Ward Name</th>\n",
       "    </tr>\n",
       "  </thead>\n",
       "  <tbody>\n",
       "    <tr>\n",
       "      <th>0</th>\n",
       "      <td>0</td>\n",
       "      <td>0</td>\n",
       "      <td>1</td>\n",
       "      <td>-1.7</td>\n",
       "      <td>0.0</td>\n",
       "      <td>0.0</td>\n",
       "      <td>0.0</td>\n",
       "      <td>42.0</td>\n",
       "      <td>1</td>\n",
       "      <td>1</td>\n",
       "      <td>100</td>\n",
       "      <td>6</td>\n",
       "      <td>20</td>\n",
       "    </tr>\n",
       "    <tr>\n",
       "      <th>1</th>\n",
       "      <td>1</td>\n",
       "      <td>0</td>\n",
       "      <td>0</td>\n",
       "      <td>-1.7</td>\n",
       "      <td>0.0</td>\n",
       "      <td>0.0</td>\n",
       "      <td>0.0</td>\n",
       "      <td>42.0</td>\n",
       "      <td>1</td>\n",
       "      <td>1</td>\n",
       "      <td>36</td>\n",
       "      <td>6</td>\n",
       "      <td>0</td>\n",
       "    </tr>\n",
       "    <tr>\n",
       "      <th>2</th>\n",
       "      <td>2</td>\n",
       "      <td>0</td>\n",
       "      <td>0</td>\n",
       "      <td>-1.7</td>\n",
       "      <td>0.0</td>\n",
       "      <td>0.0</td>\n",
       "      <td>0.0</td>\n",
       "      <td>42.0</td>\n",
       "      <td>1</td>\n",
       "      <td>1</td>\n",
       "      <td>90</td>\n",
       "      <td>6</td>\n",
       "      <td>8</td>\n",
       "    </tr>\n",
       "    <tr>\n",
       "      <th>3</th>\n",
       "      <td>2</td>\n",
       "      <td>0</td>\n",
       "      <td>0</td>\n",
       "      <td>-1.7</td>\n",
       "      <td>0.0</td>\n",
       "      <td>0.0</td>\n",
       "      <td>0.0</td>\n",
       "      <td>42.0</td>\n",
       "      <td>1</td>\n",
       "      <td>1</td>\n",
       "      <td>72</td>\n",
       "      <td>6</td>\n",
       "      <td>20</td>\n",
       "    </tr>\n",
       "    <tr>\n",
       "      <th>4</th>\n",
       "      <td>2</td>\n",
       "      <td>0</td>\n",
       "      <td>1</td>\n",
       "      <td>-1.7</td>\n",
       "      <td>0.0</td>\n",
       "      <td>0.0</td>\n",
       "      <td>0.0</td>\n",
       "      <td>42.0</td>\n",
       "      <td>1</td>\n",
       "      <td>1</td>\n",
       "      <td>100</td>\n",
       "      <td>6</td>\n",
       "      <td>3</td>\n",
       "    </tr>\n",
       "  </tbody>\n",
       "</table>\n",
       "</div>"
      ],
      "text/plain": [
       "  Hour Weekend Intersection  Mean Temp (°C)  Total Rain (mm)  Total Snow (cm)  \\\n",
       "0    0       0            1            -1.7              0.0              0.0   \n",
       "1    1       0            0            -1.7              0.0              0.0   \n",
       "2    2       0            0            -1.7              0.0              0.0   \n",
       "3    2       0            0            -1.7              0.0              0.0   \n",
       "4    2       0            1            -1.7              0.0              0.0   \n",
       "\n",
       "   Total Precip (mm)  Spd of Max Gust (km/h) Month Day  \\\n",
       "0                0.0                    42.0     1   1   \n",
       "1                0.0                    42.0     1   1   \n",
       "2                0.0                    42.0     1   1   \n",
       "3                0.0                    42.0     1   1   \n",
       "4                0.0                    42.0     1   1   \n",
       "\n",
       "   First 3 Chars of Postal Code  Day of Week  Ward Name  \n",
       "0                           100            6         20  \n",
       "1                            36            6          0  \n",
       "2                            90            6          8  \n",
       "3                            72            6         20  \n",
       "4                           100            6          3  "
      ]
     },
     "execution_count": 124,
     "metadata": {},
     "output_type": "execute_result"
    }
   ],
   "source": [
    "X.head()"
   ]
  },
  {
   "cell_type": "code",
   "execution_count": 125,
   "id": "44f13bdb",
   "metadata": {},
   "outputs": [],
   "source": [
    "# redefining independent variables\n",
    "# this time, choosing to drop 'Weekend', 'Day', 'Total Rain (mm)', 'Total Snow (cm)'\n",
    "X = model_frame_encoded.drop(columns=['Section', 'Weekend', 'Day', 'Total Rain (mm)', 'Total Snow (cm)'])"
   ]
  },
  {
   "cell_type": "code",
   "execution_count": 126,
   "id": "1ea576fa",
   "metadata": {},
   "outputs": [
    {
     "data": {
      "text/html": [
       "<div>\n",
       "<style scoped>\n",
       "    .dataframe tbody tr th:only-of-type {\n",
       "        vertical-align: middle;\n",
       "    }\n",
       "\n",
       "    .dataframe tbody tr th {\n",
       "        vertical-align: top;\n",
       "    }\n",
       "\n",
       "    .dataframe thead th {\n",
       "        text-align: right;\n",
       "    }\n",
       "</style>\n",
       "<table border=\"1\" class=\"dataframe\">\n",
       "  <thead>\n",
       "    <tr style=\"text-align: right;\">\n",
       "      <th></th>\n",
       "      <th>Hour</th>\n",
       "      <th>Intersection</th>\n",
       "      <th>Mean Temp (°C)</th>\n",
       "      <th>Total Precip (mm)</th>\n",
       "      <th>Spd of Max Gust (km/h)</th>\n",
       "      <th>Month</th>\n",
       "      <th>First 3 Chars of Postal Code</th>\n",
       "      <th>Day of Week</th>\n",
       "      <th>Ward Name</th>\n",
       "    </tr>\n",
       "  </thead>\n",
       "  <tbody>\n",
       "    <tr>\n",
       "      <th>0</th>\n",
       "      <td>0</td>\n",
       "      <td>1</td>\n",
       "      <td>-1.7</td>\n",
       "      <td>0.0</td>\n",
       "      <td>42.0</td>\n",
       "      <td>1</td>\n",
       "      <td>100</td>\n",
       "      <td>6</td>\n",
       "      <td>20</td>\n",
       "    </tr>\n",
       "    <tr>\n",
       "      <th>1</th>\n",
       "      <td>1</td>\n",
       "      <td>0</td>\n",
       "      <td>-1.7</td>\n",
       "      <td>0.0</td>\n",
       "      <td>42.0</td>\n",
       "      <td>1</td>\n",
       "      <td>36</td>\n",
       "      <td>6</td>\n",
       "      <td>0</td>\n",
       "    </tr>\n",
       "    <tr>\n",
       "      <th>2</th>\n",
       "      <td>2</td>\n",
       "      <td>0</td>\n",
       "      <td>-1.7</td>\n",
       "      <td>0.0</td>\n",
       "      <td>42.0</td>\n",
       "      <td>1</td>\n",
       "      <td>90</td>\n",
       "      <td>6</td>\n",
       "      <td>8</td>\n",
       "    </tr>\n",
       "    <tr>\n",
       "      <th>3</th>\n",
       "      <td>2</td>\n",
       "      <td>0</td>\n",
       "      <td>-1.7</td>\n",
       "      <td>0.0</td>\n",
       "      <td>42.0</td>\n",
       "      <td>1</td>\n",
       "      <td>72</td>\n",
       "      <td>6</td>\n",
       "      <td>20</td>\n",
       "    </tr>\n",
       "    <tr>\n",
       "      <th>4</th>\n",
       "      <td>2</td>\n",
       "      <td>1</td>\n",
       "      <td>-1.7</td>\n",
       "      <td>0.0</td>\n",
       "      <td>42.0</td>\n",
       "      <td>1</td>\n",
       "      <td>100</td>\n",
       "      <td>6</td>\n",
       "      <td>3</td>\n",
       "    </tr>\n",
       "  </tbody>\n",
       "</table>\n",
       "</div>"
      ],
      "text/plain": [
       "  Hour Intersection  Mean Temp (°C)  Total Precip (mm)  \\\n",
       "0    0            1            -1.7                0.0   \n",
       "1    1            0            -1.7                0.0   \n",
       "2    2            0            -1.7                0.0   \n",
       "3    2            0            -1.7                0.0   \n",
       "4    2            1            -1.7                0.0   \n",
       "\n",
       "   Spd of Max Gust (km/h) Month  First 3 Chars of Postal Code  Day of Week  \\\n",
       "0                    42.0     1                           100            6   \n",
       "1                    42.0     1                            36            6   \n",
       "2                    42.0     1                            90            6   \n",
       "3                    42.0     1                            72            6   \n",
       "4                    42.0     1                           100            6   \n",
       "\n",
       "   Ward Name  \n",
       "0         20  \n",
       "1          0  \n",
       "2          8  \n",
       "3         20  \n",
       "4          3  "
      ]
     },
     "execution_count": 126,
     "metadata": {},
     "output_type": "execute_result"
    }
   ],
   "source": [
    "X.head()"
   ]
  },
  {
   "cell_type": "code",
   "execution_count": 127,
   "id": "eb5a7b81",
   "metadata": {},
   "outputs": [],
   "source": [
    "# re-splitting our data into a test and train dataset, test = 20% of data, changing random state\n",
    "X_train, X_test, y_train, y_test = train_test_split(X,y, test_size=0.2, random_state=444) "
   ]
  },
  {
   "cell_type": "code",
   "execution_count": 128,
   "id": "9b9f7088",
   "metadata": {
    "scrolled": true
   },
   "outputs": [
    {
     "data": {
      "text/plain": [
       "RandomForestClassifier(n_estimators=12, random_state=444)"
      ]
     },
     "execution_count": 128,
     "metadata": {},
     "output_type": "execute_result"
    }
   ],
   "source": [
    "# calling the model \n",
    "rf = RandomForestClassifier(n_estimators=12, random_state = 444) \n",
    "\n",
    "# fitting the model\n",
    "rf.fit(X_train, y_train)"
   ]
  },
  {
   "cell_type": "code",
   "execution_count": 129,
   "id": "c9cb47bc",
   "metadata": {},
   "outputs": [],
   "source": [
    "# re-creating validation set for hyperparameter tuning\n",
    "X_train, X2, y_train, y2 = train_test_split(X, y, test_size=0.2, random_state=444)\n",
    "X_val, X_test, y_val, y_test = train_test_split(X2, y2, test_size=0.5, random_state=444)"
   ]
  },
  {
   "cell_type": "code",
   "execution_count": 130,
   "id": "d823d39d",
   "metadata": {},
   "outputs": [
    {
     "data": {
      "text/plain": [
       "[<matplotlib.lines.Line2D at 0x7f96fa260580>]"
      ]
     },
     "execution_count": 130,
     "metadata": {},
     "output_type": "execute_result"
    },
    {
     "data": {
      "image/png": "[encoded data removed]",
      "text/plain": [
       "<Figure size 432x288 with 1 Axes>"
      ]
     },
     "metadata": {
      "needs_background": "light"
     },
     "output_type": "display_data"
    }
   ],
   "source": [
    "# testing what number of trees is most effective in my model\n",
    "# 12 appears to be a fine number of trees again - so we'll keep this is in the model call above \n",
    "number_of_trees = range(1,20) \n",
    "scores = []\n",
    "\n",
    "for n_trees in number_of_trees:\n",
    "    rf = RandomForestClassifier(n_estimators=n_trees, random_state=444)\n",
    "    rf.fit(X_train, y_train)\n",
    "    y_pred = rf.predict(X_test)\n",
    "    scores.append(accuracy_score(y_test, y_pred))\n",
    "    \n",
    "plt.plot(number_of_trees, scores)"
   ]
  },
  {
   "cell_type": "code",
   "execution_count": 131,
   "id": "d99eb9c6",
   "metadata": {},
   "outputs": [
    {
     "data": {
      "text/plain": [
       "0.4091157440690151"
      ]
     },
     "execution_count": 131,
     "metadata": {},
     "output_type": "execute_result"
    }
   ],
   "source": [
    "# finding accuracy\n",
    "\n",
    "y_pred = rf.predict(X_val)\n",
    "\n",
    "accuracy_score(y_val, y_pred)"
   ]
  },
  {
   "cell_type": "markdown",
   "id": "3c577928",
   "metadata": {},
   "source": [
    "Accuracy = 40.9115%"
   ]
  },
  {
   "cell_type": "code",
   "execution_count": 132,
   "id": "ed3a650b",
   "metadata": {
    "scrolled": false
   },
   "outputs": [
    {
     "name": "stderr",
     "output_type": "stream",
     "text": [
      "/opt/anaconda3/lib/python3.8/site-packages/sklearn/metrics/_classification.py:1245: UndefinedMetricWarning: Recall and F-score are ill-defined and being set to 0.0 in labels with no true samples. Use `zero_division` parameter to control this behavior.\n",
      "  _warn_prf(average, modifier, msg_start, len(result))\n"
     ]
    },
    {
     "name": "stdout",
     "output_type": "stream",
     "text": [
      "                                             precision    recall  f1-score   support\n",
      "\n",
      "                         All City Divisions       0.00      0.00      0.00         8\n",
      "             Business Operations Management       0.00      0.00      0.00        54\n",
      "            Businesss Licensing Enforcement       0.00      0.00      0.00         6\n",
      "                                Collections       0.55      0.67      0.61     14553\n",
      "                       District Enforcement       0.21      0.17      0.19      2295\n",
      "                               District Ops       0.23      0.18      0.20      3202\n",
      "                        Forestry Operations       0.23      0.20      0.21      2519\n",
      "Forestry and Natural Environment Management       0.14      0.11      0.12        72\n",
      "                          Litter Operations       0.08      0.06      0.07       122\n",
      "                                 Operations       0.16      0.12      0.14       553\n",
      "                          Parks Enforcement       0.20      0.12      0.15       477\n",
      "                         Right of Way (ROW)       0.19      0.15      0.17       543\n",
      "                            Road Operations       0.37      0.36      0.36      4576\n",
      "                                        TMC       0.28      0.23      0.25      1055\n",
      "                    Toronto Animal Services       0.26      0.22      0.24      3856\n",
      "                                Traffic Ops       0.08      0.05      0.06       255\n",
      "                             Traffic Safety       0.00      0.00      0.00        24\n",
      "            Transfer, Disposal & Operations       0.00      0.00      0.00         0\n",
      "            Tree Protection and Plan Review       0.03      0.02      0.03       276\n",
      "                          Waste Enforcement       0.16      0.10      0.13       329\n",
      "\n",
      "                                   accuracy                           0.41     34775\n",
      "                                  macro avg       0.16      0.14      0.15     34775\n",
      "                               weighted avg       0.38      0.41      0.39     34775\n",
      "\n"
     ]
    },
    {
     "name": "stderr",
     "output_type": "stream",
     "text": [
      "/opt/anaconda3/lib/python3.8/site-packages/sklearn/metrics/_classification.py:1245: UndefinedMetricWarning: Recall and F-score are ill-defined and being set to 0.0 in labels with no true samples. Use `zero_division` parameter to control this behavior.\n",
      "  _warn_prf(average, modifier, msg_start, len(result))\n",
      "/opt/anaconda3/lib/python3.8/site-packages/sklearn/metrics/_classification.py:1245: UndefinedMetricWarning: Recall and F-score are ill-defined and being set to 0.0 in labels with no true samples. Use `zero_division` parameter to control this behavior.\n",
      "  _warn_prf(average, modifier, msg_start, len(result))\n"
     ]
    }
   ],
   "source": [
    "print(classification_report(y_val, y_pred))"
   ]
  },
  {
   "cell_type": "code",
   "execution_count": 133,
   "id": "f1c05865",
   "metadata": {
    "scrolled": false
   },
   "outputs": [
    {
     "data": {
      "text/plain": [
       "<AxesSubplot:title={'center':'Feature Importance'}>"
      ]
     },
     "execution_count": 133,
     "metadata": {},
     "output_type": "execute_result"
    },
    {
     "data": {
      "image/png": "[encoded data removed]",
      "text/plain": [
       "<Figure size 1080x720 with 1 Axes>"
      ]
     },
     "metadata": {
      "needs_background": "light"
     },
     "output_type": "display_data"
    }
   ],
   "source": [
    "# Over all trees, finding the features that seem to be most important\n",
    "feature_names = X.columns\n",
    "skplt.estimators.plot_feature_importances(rf, feature_names = feature_names, figsize=(15,10), x_tick_rotation=90, text_fontsize='large')"
   ]
  },
  {
   "cell_type": "markdown",
   "id": "7bf565f7",
   "metadata": {},
   "source": [
    "Though our second model has a slightly smaller accuracy score when run on our validation dataset (40.9% compared to the previous 41.3%), we have reduced the number of independent variables from 13 to 9, reducing the amount of noise / feature redundancy, so we will keep this second model as our final. Note: we can likely do more with hyper parameter testing - to explore at a later date. "
   ]
  },
  {
   "cell_type": "markdown",
   "id": "05656aff",
   "metadata": {},
   "source": [
    "#### Running the model on our test data – final accuracy score of 40.7%"
   ]
  },
  {
   "cell_type": "code",
   "execution_count": 134,
   "id": "f4e35761",
   "metadata": {},
   "outputs": [
    {
     "data": {
      "text/plain": [
       "0.4071315600287563"
      ]
     },
     "execution_count": 134,
     "metadata": {},
     "output_type": "execute_result"
    }
   ],
   "source": [
    "y_pred = rf.predict(X_test)\n",
    "\n",
    "accuracy_score(y_test, y_pred)"
   ]
  },
  {
   "cell_type": "code",
   "execution_count": 135,
   "id": "a2766a39",
   "metadata": {},
   "outputs": [
    {
     "name": "stdout",
     "output_type": "stream",
     "text": [
      "                                             precision    recall  f1-score   support\n",
      "\n",
      "                         All City Divisions       0.00      0.00      0.00         6\n",
      "             Business Operations Management       0.00      0.00      0.00        52\n",
      "            Businesss Licensing Enforcement       0.00      0.00      0.00         4\n",
      "                                Collections       0.55      0.67      0.61     14502\n",
      "                       District Enforcement       0.22      0.18      0.19      2346\n",
      "                               District Ops       0.23      0.19      0.21      3301\n",
      "                        Forestry Operations       0.23      0.19      0.21      2573\n",
      "Forestry and Natural Environment Management       0.30      0.19      0.23        75\n",
      "                          Litter Operations       0.07      0.05      0.06       120\n",
      "                                 Operations       0.16      0.12      0.13       539\n",
      "                          Parks Enforcement       0.21      0.14      0.17       464\n",
      "                         Right of Way (ROW)       0.19      0.16      0.17       536\n",
      "                            Road Operations       0.36      0.34      0.35      4517\n",
      "                                        TMC       0.25      0.22      0.23       992\n",
      "                    Toronto Animal Services       0.24      0.21      0.23      3849\n",
      "                                Traffic Ops       0.11      0.09      0.10       256\n",
      "                             Traffic Safety       0.00      0.00      0.00        16\n",
      "            Tree Protection and Plan Review       0.07      0.04      0.05       288\n",
      "                          Waste Enforcement       0.15      0.10      0.12       339\n",
      "\n",
      "                                   accuracy                           0.41     34775\n",
      "                                  macro avg       0.18      0.15      0.16     34775\n",
      "                               weighted avg       0.38      0.41      0.39     34775\n",
      "\n"
     ]
    }
   ],
   "source": [
    "print(classification_report(y_test, y_pred))"
   ]
  },
  {
   "cell_type": "code",
   "execution_count": 136,
   "id": "c16c557d",
   "metadata": {
    "scrolled": false
   },
   "outputs": [
    {
     "data": {
      "text/plain": [
       "<AxesSubplot:title={'center':'Feature Importance'}>"
      ]
     },
     "execution_count": 136,
     "metadata": {},
     "output_type": "execute_result"
    },
    {
     "data": {
      "image/png": "[encoded data removed]",
      "text/plain": [
       "<Figure size 1080x720 with 1 Axes>"
      ]
     },
     "metadata": {
      "needs_background": "light"
     },
     "output_type": "display_data"
    }
   ],
   "source": [
    "# Over all trees, finding the features that seem to be most important\n",
    "feature_names = X.columns\n",
    "skplt.estimators.plot_feature_importances(rf, feature_names = feature_names, figsize=(15,10), x_tick_rotation=90, text_fontsize='large')"
   ]
  },
  {
   "cell_type": "code",
   "execution_count": 137,
   "id": "4b55f3c9",
   "metadata": {},
   "outputs": [
    {
     "data": {
      "text/plain": [
       "array([0.02042754, 0.02277368, 0.03038662, 0.03104956, 0.04934183,\n",
       "       0.06391866, 0.15548314, 0.29396513, 0.33265385])"
      ]
     },
     "execution_count": 137,
     "metadata": {},
     "output_type": "execute_result"
    }
   ],
   "source": [
    "# grabbing feature values for visualization elsewhere\n",
    "importances = np.sort(rf.feature_importances_)\n",
    "importances"
   ]
  },
  {
   "cell_type": "markdown",
   "id": "0afcb120",
   "metadata": {},
   "source": [
    "[↑ Back to TOC](#TOC)\n",
    "## Conclusion <a name=\"conclusion\"></a>\n",
    "So where does this leave us?\n",
    "\n",
    "* The Collections Service Division Section is by far the most requested, making up 42% of all requests. (Collections is within the Solid Waste Management Services Division, with most frequent requests being to repair or replace residential bins!)\n",
    "\n",
    "* Torontonians consistently make far fewer requests on weekends. This could be the result of any number of factors, such as residents being out of town, or otherwise preoccupied with enjoying their lives. \n",
    "\n",
    "* The fact that the calls regularly decline around 6pm speaks to the non-urgent nature of 311 calls. Very few calls are placed after 9pm.\n",
    "\n",
    "* The hour the request was made and the location of the resident are the two largest indicators as to what the request will entail. We hypothesized that temperature would play a greater role in service requests, but weather does not appear to affect the amount of requests significantly, nor were weather factors good indicators of what type of request a Torontonian would be calling in with.\n",
    "\n",
    "<b>Opportunities for further exploration: </b>\n",
    "\n",
    "* Residents in higher income areas tended to place less 311 requests overall. This may indicate anything from better maintained neighbourhoods to differences in lifestyle, or neighbourhood infrastructure. \n",
    "\n",
    "* There are two noticeable peaks in daily requests by day: January 21st and 22nd, and July 8th and 9th. These peaks (as well as the dip in requests in the spring) are likely impacted by specific external events (e.g. COVID, city-wide happenings, special events) and should be compared against other yearly data. \n",
    "\n",
    "<b>Data Limitations: </b>\n",
    "\n",
    "* We haven't yet considered external impacts (other than weather and income) such as COVID in this analysis. This could be rectified by analyzing more yearly data to find more consistent trends, reviewing the granular event types throughout the year, and gathering more 311 domain knowledge.\n",
    "\n",
    "* We weren't able to clean the data for the individual request types, so we instead relied on the 311 Integrated Service Division <em> Sections </em> as our request grouping. \n",
    "\n",
    "* Missing Data: \n",
    "    * The 311 request data did not provide FSA codes for each service request, instead only providing two intersection street names. With time constraints, we were not able to use the streets provided to locate accurate FSAs for each request to complete the FSA data. \n",
    "    * The weather data was missing a total of 69 values, which we imputed using the closest available daily averages. \n",
    "    \n",
    "<b>To see this analysis visualized, view the Tableau exploration: \n",
    "    https://public.tableau.com/app/profile/meaghan.barry/viz/311_16389979943830/Overview </b>\n",
    "    \n",
    "Thanks for reading!"
   ]
  }
 ],
 "metadata": {
  "kernelspec": {
   "display_name": "Python 3",
   "language": "python",
   "name": "python3"
  },
  "language_info": {
   "codemirror_mode": {
    "name": "ipython",
    "version": 3
   },
   "file_extension": ".py",
   "mimetype": "text/x-python",
   "name": "python",
   "nbconvert_exporter": "python",
   "pygments_lexer": "ipython3",
   "version": "3.8.8"
  },
  "varInspector": {
   "cols": {
    "lenName": 16,
    "lenType": 16,
    "lenVar": 40
   },
   "kernels_config": {
    "python": {
     "delete_cmd_postfix": "",
     "delete_cmd_prefix": "del ",
     "library": "var_list.py",
     "varRefreshCmd": "print(var_dic_list())"
    },
    "r": {
     "delete_cmd_postfix": ") ",
     "delete_cmd_prefix": "rm(",
     "library": "var_list.r",
     "varRefreshCmd": "cat(var_dic_list()) "
    }
   },
   "types_to_exclude": [
    "module",
    "function",
    "builtin_function_or_method",
    "instance",
    "_Feature"
   ],
   "window_display": false
  }
 },
 "nbformat": 4,
 "nbformat_minor": 5
}
